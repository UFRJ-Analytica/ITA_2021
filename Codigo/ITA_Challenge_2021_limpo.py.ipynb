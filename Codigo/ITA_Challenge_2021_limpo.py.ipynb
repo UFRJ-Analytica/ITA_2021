{
 "cells": [
  {
   "cell_type": "markdown",
   "metadata": {},
   "source": [
    "## ITA 2021\n",
    "\n",
    "<br>\n",
    "\n",
    "Dicionário de Dados:\n",
    "\n",
    "* n: número de agentes\n",
    "* p: fração de traders\n",
    "* f: grau de interesse dos traders\n",
    "* x, y, z: dimensões do espaço aéreo\n",
    "* a1, a2: média e desvio padrão do coeficiente do preço fundamental dos consumidores\n",
    "* a3, a4: idem para os traders\n",
    "* b1, b2: média e desvio padrão do coeficiente do preço de mercado dos consumidores\n",
    "* b3, b4: idem para os traders\n",
    "* c1, c2: média e desvio padrão do coeficiente do preço aleatório dos consumidores\n",
    "* c3, c4: idem para os traders\n",
    "* g1, g2: média e desvio padrão do grau de agressividade dos consumidores\n",
    "* l1, l2: média e desvio padrão do coeficiente de desvalorização para os consumidores\n",
    "* l3, l4: idem para os traders\n",
    "* e1, e2: variabilidade no preço fundamental dos consumidores e traders, respectivamente\n",
    "* cent_price_cor: correlação entre o preço final e centralidade das permissões de vôo\n",
    "* cent_trans_cor: idem para o número de transações"
   ]
  },
  {
   "cell_type": "code",
   "execution_count": 1,
   "metadata": {},
   "outputs": [],
   "source": [
    "# Importando Ferramentas Básicas\n",
    "import pandas                  as pd\n",
    "import matplotlib.pyplot       as plt\n",
    "import numpy                   as np\n",
    "import                            os\n",
    "from   datetime            import datetime"
   ]
  },
  {
   "cell_type": "code",
   "execution_count": 2,
   "metadata": {},
   "outputs": [],
   "source": [
    "# Importando Ferramentas de Limpeza\n",
    "from sklearn.decomposition    import PCA\n",
    "from sklearn.preprocessing    import StandardScaler"
   ]
  },
  {
   "cell_type": "code",
   "execution_count": 3,
   "metadata": {},
   "outputs": [],
   "source": [
    "# Importando Ferramentas de Modelo\n",
    "from sklearn.svm              import SVR\n",
    "from xgboost                  import XGBRegressor\n",
    "from sklearn.model_selection  import train_test_split\n",
    "from sklearn.model_selection  import GridSearchCV, RandomizedSearchCV\n",
    "from sklearn.metrics          import accuracy_score, mean_absolute_error\n",
    "from sklearn.linear_model     import LinearRegression, LogisticRegression, Lasso"
   ]
  },
  {
   "cell_type": "code",
   "execution_count": 4,
   "metadata": {},
   "outputs": [],
   "source": [
    "def importa_dados():\n",
    "    # Importando os dados\n",
    "    train = pd.read_csv('./../Dados/train.csv')\n",
    "    test = pd.read_csv('./../Dados/test.csv')\n",
    "\n",
    "    # Criando features\n",
    "    dataframes = [train, test]\n",
    "\n",
    "    # Criação de features\n",
    "    for df in dataframes:\n",
    "        df['volume']  = df.x * df.y * df.z\n",
    "        df['densidade'] = df.volume / df.n\n",
    "    \n",
    "    return train, test"
   ]
  },
  {
   "cell_type": "code",
   "execution_count": 5,
   "metadata": {},
   "outputs": [],
   "source": [
    "def prepara_fit(train, test):\n",
    "    \n",
    "    X = train.drop(columns = ['cent_price_cor', 'cent_trans_cor'], axis = 1)\n",
    "\n",
    "    y_price = train[\"cent_price_cor\"]\n",
    "    y_trans = train[\"cent_trans_cor\"]\n",
    "\n",
    "    return X, y_price, y_trans"
   ]
  },
  {
   "cell_type": "code",
   "execution_count": 6,
   "metadata": {},
   "outputs": [],
   "source": [
    "def prever(X, y, target_name, components = [20,21,22,23,24,25,26,27,28]):\n",
    "    \n",
    "    X_train, X_test, y_train, y_test = train_test_split(X,y,\n",
    "                                                        test_size = 0.25,\n",
    "                                                        random_state = 0)\n",
    "\n",
    "\n",
    "    params_grid = [ #Linear Regression\n",
    "                    {'normalize': ['True', 'False'],\n",
    "                    'fit_intercept': ['True', 'False']}\n",
    "\n",
    "                    #Lasso\n",
    "                    #,{'alpha':[0.02, 0.024, 0.025, 0.026, 0.03]} \n",
    "                    ]\n",
    "    \n",
    "    lista_scores = []\n",
    "    lista_pca = []\n",
    "    lista_params = []\n",
    "    lista_models = []\n",
    "    \n",
    "    models = [\n",
    "        LinearRegression(),\n",
    "        #SVR(),\n",
    "        #SVR(),\n",
    "        #Lasso()\n",
    "        #XGBRegressor()\n",
    "        ]\n",
    "     \n",
    "    for n in components:\n",
    "        \n",
    "        pca = PCA(n_components = n)\n",
    "        X_pca = pca.fit_transform(X)\n",
    "        X_train_pca = pca.fit_transform(X_train)\n",
    "        X_test_pca = pca.transform(X_test)\n",
    "            \n",
    "        for i, model in enumerate(models):\n",
    "\n",
    "            print(f\"\\n\\nModelo: {model}\\nComponent: {n}\\n\\n\" + str(X_pca.shape) + str(X_pca.shape))\n",
    "\n",
    "            clf = GridSearchCV(model, param_grid = params_grid[i],\n",
    "                               scoring = 'neg_mean_absolute_error', #destaque a  metrica pedida\n",
    "                               n_jobs=-1, refit=True, cv=5, verbose=4,\n",
    "                               pre_dispatch='2*n_jobs', error_score='raise', \n",
    "                               return_train_score=True)\n",
    "            \n",
    "            clf.fit(X_train_pca, y_train)\n",
    "\n",
    "            pred_cv = clf.predict(X_test_pca)\n",
    "            score_cv = mean_absolute_error(y_test, pred_cv)\n",
    "\n",
    "            print(f\"Melhores parametros: {clf.best_params_}\")\n",
    "            print(f\"\\nScore Grid: {score_cv}\")\n",
    "            \n",
    "            lista_params.append(clf.best_params_)\n",
    "            lista_models.append(model)\n",
    "            lista_scores.append(round(score_cv,15))\n",
    "            lista_pca.append(n)\n",
    "\n",
    "    print(\"Exportando DataFrame de Scores\\n\")\n",
    "\n",
    "    df_scores = pd.DataFrame()\n",
    "    \n",
    "    df_scores.insert(loc=0, column='PCA', value= pd.Series(lista_pca))\n",
    "    df_scores.insert(loc=0, column='Scores', value= pd.Series(lista_scores))\n",
    "    df_scores.insert(loc=0, column='Params', value= pd.Series(lista_params))\n",
    "    df_scores.insert(loc=0, column='Model', value= pd.Series(lista_models))\n",
    "    df_scores.to_csv(f\"./../Resultados/{target_name}_scores_\"+\"{}.csv\".format(datetime.now().strftime(\"%d-%m-%Y_%Hh%Mm%Ss\")))\n",
    "            \n",
    "    return df_scores"
   ]
  },
  {
   "cell_type": "code",
   "execution_count": 7,
   "metadata": {},
   "outputs": [],
   "source": [
    "def gera_modelo(pca_price_n , pca_trans_n):\n",
    "    \n",
    "    pca_price = PCA(n_components = pca_price_n)\n",
    "    pca_trans = PCA(n_components = pca_trans_n)\n",
    "\n",
    "    train_price_pca = pca_price.fit_transform(X)\n",
    "    train_trans_pca = pca_trans.fit_transform(X)\n",
    "\n",
    "    clf_price = LinearRegression({'fit_intercept': 'True', 'normalize': 'True'})\n",
    "    clf_price.fit(train_price_pca, y_price)\n",
    "\n",
    "    clf_trans = LinearRegression({'fit_intercept': 'True', 'normalize': 'True'})\n",
    "    clf_trans.fit(train_trans_pca, y_trans)\n",
    "\n",
    "    test_price_pca = pca_price.fit_transform(test.drop(\"id\", axis=1))\n",
    "    test_trans_pca = pca_trans.fit_transform(test.drop(\"id\", axis=1))\n",
    "    \n",
    "    return test_price_pca, test_trans_pca, clf_trans, clf_price"
   ]
  },
  {
   "cell_type": "code",
   "execution_count": 8,
   "metadata": {},
   "outputs": [],
   "source": [
    "def geral_resultados_submissao(test_price_pca, test_trans_pca, clf_price, clf_trans):\n",
    "    \n",
    "    cent_price_cor = clf_price.predict(test_price_pca)\n",
    "    cent_trans_cor = clf_trans.predict(test_trans_pca)\n",
    "\n",
    "\n",
    "    df_sub = pd.DataFrame({\"cent_price_cor\": cent_price_cor, \"cent_trans_cor\": cent_trans_cor})\n",
    "    \n",
    "    df_sub.to_csv(\"./../Submissoes/df_sub_{}.csv\".format(datetime.now().strftime(\"%d-%m-%Y_%Hh%Mm%Ss\")), index=False)\n",
    "\n",
    "    return df_sub"
   ]
  },
  {
   "cell_type": "code",
   "execution_count": 9,
   "metadata": {},
   "outputs": [
    {
     "name": "stdout",
     "output_type": "stream",
     "text": [
      "\n",
      "\n",
      "Modelo: LinearRegression()\n",
      "Component: 20\n",
      "\n",
      "(11940, 20)(11940, 20)\n",
      "Fitting 5 folds for each of 4 candidates, totalling 20 fits\n"
     ]
    },
    {
     "name": "stderr",
     "output_type": "stream",
     "text": [
      "[Parallel(n_jobs=-1)]: Using backend LokyBackend with 12 concurrent workers.\n",
      "[Parallel(n_jobs=-1)]: Done   3 out of  20 | elapsed:    1.8s remaining:   10.5s\n",
      "[Parallel(n_jobs=-1)]: Done   9 out of  20 | elapsed:    1.8s remaining:    2.2s\n",
      "[Parallel(n_jobs=-1)]: Done  15 out of  20 | elapsed:    1.8s remaining:    0.5s\n",
      "[Parallel(n_jobs=-1)]: Done  20 out of  20 | elapsed:    1.9s finished\n"
     ]
    },
    {
     "name": "stdout",
     "output_type": "stream",
     "text": [
      "Melhores parametros: {'fit_intercept': 'True', 'normalize': 'True'}\n",
      "\n",
      "Score Grid: 0.09413476980710093\n",
      "\n",
      "\n",
      "Modelo: LinearRegression()\n",
      "Component: 21\n",
      "\n",
      "(11940, 21)(11940, 21)\n",
      "Fitting 5 folds for each of 4 candidates, totalling 20 fits\n"
     ]
    },
    {
     "name": "stderr",
     "output_type": "stream",
     "text": [
      "[Parallel(n_jobs=-1)]: Using backend LokyBackend with 12 concurrent workers.\n",
      "[Parallel(n_jobs=-1)]: Done   3 out of  20 | elapsed:    0.0s remaining:    0.0s\n",
      "[Parallel(n_jobs=-1)]: Done   9 out of  20 | elapsed:    0.0s remaining:    0.0s\n",
      "[Parallel(n_jobs=-1)]: Done  15 out of  20 | elapsed:    0.0s remaining:    0.0s\n",
      "[Parallel(n_jobs=-1)]: Done  20 out of  20 | elapsed:    0.0s finished\n"
     ]
    },
    {
     "name": "stdout",
     "output_type": "stream",
     "text": [
      "Melhores parametros: {'fit_intercept': 'True', 'normalize': 'True'}\n",
      "\n",
      "Score Grid: 0.09410039775303798\n",
      "\n",
      "\n",
      "Modelo: LinearRegression()\n",
      "Component: 22\n",
      "\n",
      "(11940, 22)(11940, 22)\n",
      "Fitting 5 folds for each of 4 candidates, totalling 20 fits\n",
      "Melhores parametros: {'fit_intercept': 'True', 'normalize': 'True'}"
     ]
    },
    {
     "name": "stderr",
     "output_type": "stream",
     "text": [
      "[Parallel(n_jobs=-1)]: Using backend LokyBackend with 12 concurrent workers.\n",
      "[Parallel(n_jobs=-1)]: Done   3 out of  20 | elapsed:    0.0s remaining:    0.0s\n",
      "[Parallel(n_jobs=-1)]: Done   9 out of  20 | elapsed:    0.0s remaining:    0.0s\n",
      "[Parallel(n_jobs=-1)]: Done  15 out of  20 | elapsed:    0.0s remaining:    0.0s\n",
      "[Parallel(n_jobs=-1)]: Done  20 out of  20 | elapsed:    0.0s finished\n",
      "[Parallel(n_jobs=-1)]: Using backend LokyBackend with 12 concurrent workers.\n",
      "[Parallel(n_jobs=-1)]: Done   3 out of  20 | elapsed:    0.0s remaining:    0.0s\n"
     ]
    },
    {
     "name": "stdout",
     "output_type": "stream",
     "text": [
      "\n",
      "\n",
      "Score Grid: 0.09409673294073545\n",
      "\n",
      "\n",
      "Modelo: LinearRegression()\n",
      "Component: 23\n",
      "\n",
      "(11940, 23)(11940, 23)\n",
      "Fitting 5 folds for each of 4 candidates, totalling 20 fits\n",
      "Melhores parametros: {'fit_intercept': 'True', 'normalize': 'True'}"
     ]
    },
    {
     "name": "stderr",
     "output_type": "stream",
     "text": [
      "[Parallel(n_jobs=-1)]: Done   9 out of  20 | elapsed:    0.0s remaining:    0.0s\n",
      "[Parallel(n_jobs=-1)]: Done  15 out of  20 | elapsed:    0.0s remaining:    0.0s\n",
      "[Parallel(n_jobs=-1)]: Done  20 out of  20 | elapsed:    0.0s finished\n",
      "[Parallel(n_jobs=-1)]: Using backend LokyBackend with 12 concurrent workers.\n",
      "[Parallel(n_jobs=-1)]: Done   3 out of  20 | elapsed:    0.0s remaining:    0.0s\n",
      "[Parallel(n_jobs=-1)]: Done   9 out of  20 | elapsed:    0.0s remaining:    0.0s\n"
     ]
    },
    {
     "name": "stdout",
     "output_type": "stream",
     "text": [
      "\n",
      "\n",
      "Score Grid: 0.09409868059838686\n",
      "\n",
      "\n",
      "Modelo: LinearRegression()\n",
      "Component: 24\n",
      "\n",
      "(11940, 24)(11940, 24)\n",
      "Fitting 5 folds for each of 4 candidates, totalling 20 fits\n",
      "Melhores parametros: {'fit_intercept': 'True', 'normalize': 'True'}\n",
      "\n",
      "Score Grid: 0.09410742449209838\n",
      "\n",
      "\n",
      "Modelo: LinearRegression()\n",
      "Component: 25\n",
      "\n",
      "(11940, 25)(11940, 25)"
     ]
    },
    {
     "name": "stderr",
     "output_type": "stream",
     "text": [
      "[Parallel(n_jobs=-1)]: Done  15 out of  20 | elapsed:    0.0s remaining:    0.0s\n",
      "[Parallel(n_jobs=-1)]: Done  20 out of  20 | elapsed:    0.0s finished\n",
      "[Parallel(n_jobs=-1)]: Using backend LokyBackend with 12 concurrent workers.\n",
      "[Parallel(n_jobs=-1)]: Done   3 out of  20 | elapsed:    0.0s remaining:    0.0s\n",
      "[Parallel(n_jobs=-1)]: Done   9 out of  20 | elapsed:    0.0s remaining:    0.0s\n",
      "[Parallel(n_jobs=-1)]: Done  15 out of  20 | elapsed:    0.0s remaining:    0.0s\n",
      "[Parallel(n_jobs=-1)]: Done  20 out of  20 | elapsed:    0.0s finished\n"
     ]
    },
    {
     "name": "stdout",
     "output_type": "stream",
     "text": [
      "\n",
      "Fitting 5 folds for each of 4 candidates, totalling 20 fits\n",
      "Melhores parametros: {'fit_intercept': 'True', 'normalize': 'True'}\n",
      "\n",
      "Score Grid: 0.09409465774545293\n",
      "\n",
      "\n",
      "Modelo: LinearRegression()\n",
      "Component: 26\n",
      "\n",
      "(11940, 26)(11940, 26)\n",
      "Fitting 5 folds for each of 4 candidates, totalling 20 fits\n"
     ]
    },
    {
     "name": "stderr",
     "output_type": "stream",
     "text": [
      "[Parallel(n_jobs=-1)]: Using backend LokyBackend with 12 concurrent workers.\n",
      "[Parallel(n_jobs=-1)]: Done   3 out of  20 | elapsed:    0.0s remaining:    0.0s\n",
      "[Parallel(n_jobs=-1)]: Done   9 out of  20 | elapsed:    0.0s remaining:    0.0s\n",
      "[Parallel(n_jobs=-1)]: Done  15 out of  20 | elapsed:    0.0s remaining:    0.0s\n",
      "[Parallel(n_jobs=-1)]: Done  20 out of  20 | elapsed:    0.0s finished\n"
     ]
    },
    {
     "name": "stdout",
     "output_type": "stream",
     "text": [
      "Melhores parametros: {'fit_intercept': 'True', 'normalize': 'True'}\n",
      "\n",
      "Score Grid: 0.09410477665296128\n",
      "\n",
      "\n",
      "Modelo: LinearRegression()\n",
      "Component: 27\n",
      "\n",
      "(11940, 27)(11940, 27)\n",
      "Fitting 5 folds for each of 4 candidates, totalling 20 fits\n",
      "Melhores parametros: {'fit_intercept': 'True', 'normalize': 'True'}\n",
      "\n",
      "Score Grid: 0.0941433494480374\n",
      "\n",
      "\n",
      "Modelo: LinearRegression()\n",
      "Component: 28\n",
      "\n",
      "(11940, 28)(11940, 28)"
     ]
    },
    {
     "name": "stderr",
     "output_type": "stream",
     "text": [
      "[Parallel(n_jobs=-1)]: Using backend LokyBackend with 12 concurrent workers.\n",
      "[Parallel(n_jobs=-1)]: Done   3 out of  20 | elapsed:    0.0s remaining:    0.0s\n",
      "[Parallel(n_jobs=-1)]: Done   9 out of  20 | elapsed:    0.0s remaining:    0.0s\n",
      "[Parallel(n_jobs=-1)]: Done  15 out of  20 | elapsed:    0.0s remaining:    0.0s\n",
      "[Parallel(n_jobs=-1)]: Done  20 out of  20 | elapsed:    0.0s finished\n",
      "[Parallel(n_jobs=-1)]: Using backend LokyBackend with 12 concurrent workers.\n",
      "[Parallel(n_jobs=-1)]: Done   3 out of  20 | elapsed:    0.0s remaining:    0.0s\n"
     ]
    },
    {
     "name": "stdout",
     "output_type": "stream",
     "text": [
      "\n",
      "Fitting 5 folds for each of 4 candidates, totalling 20 fits\n",
      "Melhores parametros: {'fit_intercept': 'True', 'normalize': 'True'}\n",
      "\n",
      "Score Grid: 0.09416169456648882\n",
      "Exportando DataFrame de Scores\n",
      "\n"
     ]
    },
    {
     "name": "stderr",
     "output_type": "stream",
     "text": [
      "[Parallel(n_jobs=-1)]: Done   9 out of  20 | elapsed:    0.0s remaining:    0.0s\n",
      "[Parallel(n_jobs=-1)]: Done  15 out of  20 | elapsed:    0.0s remaining:    0.0s\n",
      "[Parallel(n_jobs=-1)]: Done  20 out of  20 | elapsed:    0.0s finished\n"
     ]
    },
    {
     "name": "stdout",
     "output_type": "stream",
     "text": [
      "\n",
      "\n",
      "Modelo: LinearRegression()\n",
      "Component: 20\n",
      "\n",
      "(11940, 20)(11940, 20)\n",
      "Fitting 5 folds for each of 4 candidates, totalling 20 fits\n",
      "Melhores parametros: {'fit_intercept': 'True', 'normalize': 'True'}\n",
      "\n",
      "Score Grid: 0.09019866134152262\n",
      "\n",
      "\n",
      "Modelo: LinearRegression()\n",
      "Component: 21\n",
      "\n",
      "(11940, 21)(11940, 21)"
     ]
    },
    {
     "name": "stderr",
     "output_type": "stream",
     "text": [
      "[Parallel(n_jobs=-1)]: Using backend LokyBackend with 12 concurrent workers.\n",
      "[Parallel(n_jobs=-1)]: Done   3 out of  20 | elapsed:    0.0s remaining:    0.0s\n",
      "[Parallel(n_jobs=-1)]: Done   9 out of  20 | elapsed:    0.0s remaining:    0.0s\n",
      "[Parallel(n_jobs=-1)]: Done  15 out of  20 | elapsed:    0.0s remaining:    0.0s\n",
      "[Parallel(n_jobs=-1)]: Done  20 out of  20 | elapsed:    0.0s finished\n"
     ]
    },
    {
     "name": "stdout",
     "output_type": "stream",
     "text": [
      "\n",
      "Fitting 5 folds for each of 4 candidates, totalling 20 fits\n",
      "Melhores parametros: {'fit_intercept': 'True', 'normalize': 'True'}\n",
      "\n",
      "Score Grid: 0.09017688937548382\n",
      "\n",
      "\n",
      "Modelo: LinearRegression()\n",
      "Component: 22\n",
      "\n",
      "(11940, 22)(11940, 22)"
     ]
    },
    {
     "name": "stderr",
     "output_type": "stream",
     "text": [
      "[Parallel(n_jobs=-1)]: Using backend LokyBackend with 12 concurrent workers.\n",
      "[Parallel(n_jobs=-1)]: Done   3 out of  20 | elapsed:    0.0s remaining:    0.0s\n",
      "[Parallel(n_jobs=-1)]: Done   9 out of  20 | elapsed:    0.0s remaining:    0.0s\n",
      "[Parallel(n_jobs=-1)]: Done  15 out of  20 | elapsed:    0.0s remaining:    0.0s\n",
      "[Parallel(n_jobs=-1)]: Done  20 out of  20 | elapsed:    0.0s finished\n"
     ]
    },
    {
     "name": "stdout",
     "output_type": "stream",
     "text": [
      "\n",
      "Fitting 5 folds for each of 4 candidates, totalling 20 fits\n",
      "Melhores parametros: {'fit_intercept': 'True', 'normalize': 'True'}\n",
      "\n",
      "Score Grid: 0.09019862919544662\n",
      "\n",
      "\n",
      "Modelo: LinearRegression()\n",
      "Component: 23\n",
      "\n",
      "(11940, 23)(11940, 23)\n",
      "Fitting 5 folds for each of 4 candidates, totalling 20 fits\n"
     ]
    },
    {
     "name": "stderr",
     "output_type": "stream",
     "text": [
      "[Parallel(n_jobs=-1)]: Using backend LokyBackend with 12 concurrent workers.\n",
      "[Parallel(n_jobs=-1)]: Done   3 out of  20 | elapsed:    0.0s remaining:    0.0s\n",
      "[Parallel(n_jobs=-1)]: Done   9 out of  20 | elapsed:    0.0s remaining:    0.0s\n",
      "[Parallel(n_jobs=-1)]: Done  15 out of  20 | elapsed:    0.0s remaining:    0.0s\n",
      "[Parallel(n_jobs=-1)]: Done  20 out of  20 | elapsed:    0.0s finished\n",
      "[Parallel(n_jobs=-1)]: Using backend LokyBackend with 12 concurrent workers.\n",
      "[Parallel(n_jobs=-1)]: Done   3 out of  20 | elapsed:    0.0s remaining:    0.0s\n",
      "[Parallel(n_jobs=-1)]: Done   9 out of  20 | elapsed:    0.0s remaining:    0.0s\n",
      "[Parallel(n_jobs=-1)]: Done  15 out of  20 | elapsed:    0.0s remaining:    0.0s\n",
      "[Parallel(n_jobs=-1)]: Done  20 out of  20 | elapsed:    0.0s finished\n",
      "[Parallel(n_jobs=-1)]: Using backend LokyBackend with 12 concurrent workers.\n",
      "[Parallel(n_jobs=-1)]: Done   3 out of  20 | elapsed:    0.0s remaining:    0.0s\n",
      "[Parallel(n_jobs=-1)]: Done   9 out of  20 | elapsed:    0.0s remaining:    0.0s\n",
      "[Parallel(n_jobs=-1)]: Done  15 out of  20 | elapsed:    0.0s remaining:    0.0s\n",
      "[Parallel(n_jobs=-1)]: Done  20 out of  20 | elapsed:    0.0s finished\n"
     ]
    },
    {
     "name": "stdout",
     "output_type": "stream",
     "text": [
      "Melhores parametros: {'fit_intercept': 'True', 'normalize': 'True'}\n",
      "\n",
      "Score Grid: 0.09021656621319836\n",
      "\n",
      "\n",
      "Modelo: LinearRegression()\n",
      "Component: 24\n",
      "\n",
      "(11940, 24)(11940, 24)\n",
      "Fitting 5 folds for each of 4 candidates, totalling 20 fits\n",
      "Melhores parametros: {'fit_intercept': 'True', 'normalize': 'True'}\n",
      "\n",
      "Score Grid: 0.0902181122466885\n",
      "\n",
      "\n",
      "Modelo: LinearRegression()\n",
      "Component: 25\n",
      "\n",
      "(11940, 25)(11940, 25)"
     ]
    },
    {
     "name": "stderr",
     "output_type": "stream",
     "text": [
      "[Parallel(n_jobs=-1)]: Using backend LokyBackend with 12 concurrent workers.\n",
      "[Parallel(n_jobs=-1)]: Done   3 out of  20 | elapsed:    0.0s remaining:    0.1s\n",
      "[Parallel(n_jobs=-1)]: Done   9 out of  20 | elapsed:    0.0s remaining:    0.0s\n",
      "[Parallel(n_jobs=-1)]: Done  15 out of  20 | elapsed:    0.0s remaining:    0.0s\n",
      "[Parallel(n_jobs=-1)]: Done  20 out of  20 | elapsed:    0.0s finished\n"
     ]
    },
    {
     "name": "stdout",
     "output_type": "stream",
     "text": [
      "\n",
      "Fitting 5 folds for each of 4 candidates, totalling 20 fits\n",
      "Melhores parametros: {'fit_intercept': 'True', 'normalize': 'True'}\n",
      "\n",
      "Score Grid: 0.09018590753154558\n",
      "\n",
      "\n",
      "Modelo: LinearRegression()\n",
      "Component: 26\n",
      "\n",
      "(11940, 26)(11940, 26)\n",
      "Fitting 5 folds for each of 4 candidates, totalling 20 fits\n",
      "Melhores parametros: {'fit_intercept': 'True', 'normalize': 'True'}\n",
      "\n",
      "Score Grid: 0.09021740652190091\n",
      "\n",
      "\n",
      "Modelo: LinearRegression()\n",
      "Component: 27\n",
      "\n",
      "(11940, 27)(11940, 27)\n",
      "Fitting 5 folds for each of 4 candidates, totalling 20 fits\n"
     ]
    },
    {
     "name": "stderr",
     "output_type": "stream",
     "text": [
      "[Parallel(n_jobs=-1)]: Using backend LokyBackend with 12 concurrent workers.\n",
      "[Parallel(n_jobs=-1)]: Done   3 out of  20 | elapsed:    0.0s remaining:    0.0s\n",
      "[Parallel(n_jobs=-1)]: Done   9 out of  20 | elapsed:    0.0s remaining:    0.0s\n",
      "[Parallel(n_jobs=-1)]: Done  15 out of  20 | elapsed:    0.0s remaining:    0.0s\n",
      "[Parallel(n_jobs=-1)]: Done  20 out of  20 | elapsed:    0.0s finished\n",
      "[Parallel(n_jobs=-1)]: Using backend LokyBackend with 12 concurrent workers.\n",
      "[Parallel(n_jobs=-1)]: Done   3 out of  20 | elapsed:    0.0s remaining:    0.0s\n",
      "[Parallel(n_jobs=-1)]: Done   9 out of  20 | elapsed:    0.0s remaining:    0.0s\n",
      "[Parallel(n_jobs=-1)]: Done  15 out of  20 | elapsed:    0.0s remaining:    0.0s\n",
      "[Parallel(n_jobs=-1)]: Done  20 out of  20 | elapsed:    0.0s finished\n",
      "[Parallel(n_jobs=-1)]: Using backend LokyBackend with 12 concurrent workers.\n",
      "[Parallel(n_jobs=-1)]: Done   3 out of  20 | elapsed:    0.0s remaining:    0.0s\n",
      "[Parallel(n_jobs=-1)]: Done   9 out of  20 | elapsed:    0.0s remaining:    0.0s\n",
      "[Parallel(n_jobs=-1)]: Done  15 out of  20 | elapsed:    0.0s remaining:    0.0s\n",
      "[Parallel(n_jobs=-1)]: Done  20 out of  20 | elapsed:    0.0s finished\n"
     ]
    },
    {
     "name": "stdout",
     "output_type": "stream",
     "text": [
      "Melhores parametros: {'fit_intercept': 'True', 'normalize': 'True'}\n",
      "\n",
      "Score Grid: 0.09021596915816536\n",
      "\n",
      "\n",
      "Modelo: LinearRegression()\n",
      "Component: 28\n",
      "\n",
      "(11940, 28)(11940, 28)\n",
      "Fitting 5 folds for each of 4 candidates, totalling 20 fits\n",
      "Melhores parametros: {'fit_intercept': 'True', 'normalize': 'True'}\n",
      "\n",
      "Score Grid: 0.09023259792525386\n",
      "Exportando DataFrame de Scores\n",
      "\n",
      "      cent_price_cor  cent_trans_cor\n",
      "0          -0.205584        0.374052\n",
      "1          -0.198976        0.358398\n",
      "2          -0.196557        0.356928\n",
      "3          -0.210584        0.362855\n",
      "4          -0.205494        0.367040\n",
      "...              ...             ...\n",
      "8054       -0.206812        0.362487\n",
      "8055       -0.201517        0.362278\n",
      "8056       -0.195008        0.353092\n",
      "8057       -0.208837        0.365683\n",
      "8058       -0.200655        0.366247\n",
      "\n",
      "[8059 rows x 2 columns]\n",
      "\n",
      "Programa executado com sucesso \n",
      "\n"
     ]
    },
    {
     "name": "stderr",
     "output_type": "stream",
     "text": [
      "C:\\Users\\Rafael\\anaconda3\\lib\\site-packages\\sklearn\\utils\\validation.py:67: FutureWarning: Pass fit_intercept={'fit_intercept': 'True', 'normalize': 'True'} as keyword args. From version 0.25 passing these as positional arguments will result in an error\n",
      "  warnings.warn(\"Pass {} as keyword args. From version 0.25 \"\n",
      "C:\\Users\\Rafael\\anaconda3\\lib\\site-packages\\sklearn\\utils\\validation.py:67: FutureWarning: Pass fit_intercept={'fit_intercept': 'True', 'normalize': 'True'} as keyword args. From version 0.25 passing these as positional arguments will result in an error\n",
      "  warnings.warn(\"Pass {} as keyword args. From version 0.25 \"\n"
     ]
    }
   ],
   "source": [
    "train, test = importa_dados()\n",
    "\n",
    "X, y_price, y_trans = prepara_fit(train, test)\n",
    "\n",
    "df_scores_price = prever(X, y_price, \"price\", components = [20,21,22,23,24,25,26,27,28])\n",
    "df_scores_trans = prever(X, y_trans, \"trans\", components = [20,21,22,23,24,25,26,27,28])\n",
    "\n",
    "pca_price_n = len(X.columns)\n",
    "pca_trans_n = len(X.columns)\n",
    "\n",
    "test_price_pca, test_trans_pca, clf_trans, clf_price = gera_modelo(pca_price_n, pca_trans_n)\n",
    "\n",
    "df_sub = geral_resultados_submissao(test_price_pca, test_trans_pca, clf_price, clf_trans)\n",
    "\n",
    "print(df_sub)\n",
    "\n",
    "print(\"\\nPrograma executado com sucesso \\n\")"
   ]
  },
  {
   "cell_type": "code",
   "execution_count": 10,
   "metadata": {},
   "outputs": [],
   "source": [
    "# Coletanea de parametros para o GridSearch\n",
    "\n",
    "# params_grid = [\n",
    "\n",
    "# #Linear Regression\n",
    "# {'normalize': ['True', 'False'],\n",
    "# 'fit_intercept': ['True', 'False']},\n",
    "    \n",
    "# #SVR RBF\n",
    "# {'kernel': ['rbf'],\n",
    "# 'C':[0.1, 0.5, 1, 5, 10],\n",
    "# 'degree': [3,8],\n",
    "# 'coef0': [0.01,10,0.5],\n",
    "# 'gamma': ('auto','scale'),\n",
    "# 'epsilon': [0.1,0.2]},\n",
    "    \n",
    "# #SVR POLY\n",
    "# {'kernel': ['poly'],\n",
    "# 'C':[0.1, 0.5, 1, 5, 10],\n",
    "# 'degree': [3,8],\n",
    "# 'coef0': [0.01,10,0.5],\n",
    "# 'gamma': ('auto','scale'),\n",
    "# 'epsilon': [0.1,0.2]},\n",
    "    \n",
    "# #Lasso\n",
    "# {'alpha':[0.02, 0.024, 0.025, 0.026, 0.03],\n",
    "# 'fit_alpha':[0.005, 0.02, 0.03, 0.05, 0.06]},  \n",
    "    \n",
    "# #XGBoost\n",
    "# {'nthread':[4], #when use hyperthread, xgboost may become slower\n",
    "# 'objective':['reg:linear'],\n",
    "# 'learning_rate': [.03, 0.05, .07], #so called `eta` value\n",
    "# 'max_depth': [5, 6, 7],\n",
    "# 'min_child_weight': [4],\n",
    "# 'silent': [1],\n",
    "# 'subsample': [0.7],\n",
    "# 'colsample_bytree': [0.7],\n",
    "# 'n_estimators': [500]}\n",
    "# ]"
   ]
  }
 ],
 "metadata": {
  "kernelspec": {
   "display_name": "Python 3",
   "language": "python",
   "name": "python3"
  },
  "language_info": {
   "codemirror_mode": {
    "name": "ipython",
    "version": 3
   },
   "file_extension": ".py",
   "mimetype": "text/x-python",
   "name": "python",
   "nbconvert_exporter": "python",
   "pygments_lexer": "ipython3",
   "version": "3.8.5"
  }
 },
 "nbformat": 4,
 "nbformat_minor": 4
}
