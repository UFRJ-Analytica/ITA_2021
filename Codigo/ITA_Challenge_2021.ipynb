{
 "cells": [
  {
   "cell_type": "markdown",
   "metadata": {},
   "source": [
    "## ITA 2021\n",
    "\n",
    "<br>\n",
    "\n",
    "Dicionário de Dados:\n",
    "\n",
    "* n: número de agentes\n",
    "* p: fração de traders\n",
    "* f: grau de interesse dos traders\n",
    "* x, y, z: dimensões do espaço aéreo\n",
    "* a1, a2: média e desvio padrão do coeficiente do preço fundamental dos consumidores\n",
    "* a3, a4: idem para os traders\n",
    "* b1, b2: média e desvio padrão do coeficiente do preço de mercado dos consumidores\n",
    "* b3, b4: idem para os traders\n",
    "* c1, c2: média e desvio padrão do coeficiente do preço aleatório dos consumidores\n",
    "* c3, c4: idem para os traders\n",
    "* g1, g2: média e desvio padrão do grau de agressividade dos consumidores\n",
    "* l1, l2: média e desvio padrão do coeficiente de desvalorização para os consumidores\n",
    "* l3, l4: idem para os traders\n",
    "* e1, e2: variabilidade no preço fundamental dos consumidores e traders, respectivamente\n",
    "* cent_price_cor: correlação entre o preço final e centralidade das permissões de vôo\n",
    "* cent_trans_cor: idem para o número de transações"
   ]
  },
  {
   "cell_type": "code",
   "execution_count": null,
   "metadata": {},
   "outputs": [],
   "source": [
    "import sys\n",
    "!{sys.executable} -m pip install jupyternotify"
   ]
  },
  {
   "cell_type": "code",
   "execution_count": 43,
   "metadata": {},
   "outputs": [
    {
     "data": {
      "application/javascript": [
       "if (!(\"Notification\" in window)) {\n",
       "    alert(\"This browser does not support desktop notifications, so the %%notify magic will not work.\");\n",
       "} else if (Notification.permission !== 'granted' && Notification.permission !== 'denied') {\n",
       "    Notification.requestPermission(function (permission) {\n",
       "        if(!('permission' in Notification)) {\n",
       "            Notification.permission = permission;\n",
       "        }\n",
       "    })\n",
       "}\n"
      ],
      "text/plain": [
       "<IPython.core.display.Javascript object>"
      ]
     },
     "metadata": {},
     "output_type": "display_data"
    }
   ],
   "source": [
    "%load_ext jupyternotify"
   ]
  },
  {
   "cell_type": "code",
   "execution_count": null,
   "metadata": {},
   "outputs": [],
   "source": []
  },
  {
   "cell_type": "code",
   "execution_count": 42,
   "metadata": {},
   "outputs": [
    {
     "name": "stdout",
     "output_type": "stream",
     "text": [
      "Processing c:\\users\\erica\\appdata\\local\\pip\\cache\\wheels\\2d\\ff\\e5\\bced088d6443a70f72ee86f9e46f11056c981100c2d3cfadfb\\jupyternotify-0.1.15-py3-none-any.whl\n",
      "Requirement already satisfied: ipython in c:\\users\\erica\\downloads\\tools\\anaconda\\lib\\site-packages (from jupyternotify) (7.19.0)\n",
      "Requirement already satisfied: jupyter in c:\\users\\erica\\downloads\\tools\\anaconda\\lib\\site-packages (from jupyternotify) (1.0.0)\n",
      "Requirement already satisfied: pickleshare in c:\\users\\erica\\downloads\\tools\\anaconda\\lib\\site-packages (from ipython->jupyternotify) (0.7.5)\n",
      "Requirement already satisfied: jedi>=0.10 in c:\\users\\erica\\downloads\\tools\\anaconda\\lib\\site-packages (from ipython->jupyternotify) (0.17.1)\n",
      "Requirement already satisfied: prompt-toolkit!=3.0.0,!=3.0.1,<3.1.0,>=2.0.0 in c:\\users\\erica\\downloads\\tools\\anaconda\\lib\\site-packages (from ipython->jupyternotify) (3.0.8)\n",
      "Requirement already satisfied: setuptools>=18.5 in c:\\users\\erica\\downloads\\tools\\anaconda\\lib\\site-packages (from ipython->jupyternotify) (50.3.1.post20201107)\n",
      "Requirement already satisfied: pygments in c:\\users\\erica\\downloads\\tools\\anaconda\\lib\\site-packages (from ipython->jupyternotify) (2.7.2)\n",
      "Requirement already satisfied: traitlets>=4.2 in c:\\users\\erica\\downloads\\tools\\anaconda\\lib\\site-packages (from ipython->jupyternotify) (5.0.5)\n",
      "Requirement already satisfied: decorator in c:\\users\\erica\\downloads\\tools\\anaconda\\lib\\site-packages (from ipython->jupyternotify) (4.4.2)\n",
      "Requirement already satisfied: backcall in c:\\users\\erica\\downloads\\tools\\anaconda\\lib\\site-packages (from ipython->jupyternotify) (0.2.0)\n",
      "Requirement already satisfied: colorama; sys_platform == \"win32\" in c:\\users\\erica\\appdata\\roaming\\python\\python38\\site-packages (from ipython->jupyternotify) (0.4.3)\n",
      "Requirement already satisfied: ipywidgets in c:\\users\\erica\\downloads\\tools\\anaconda\\lib\\site-packages (from jupyter->jupyternotify) (7.5.1)\n",
      "Requirement already satisfied: notebook in c:\\users\\erica\\downloads\\tools\\anaconda\\lib\\site-packages (from jupyter->jupyternotify) (6.1.4)\n",
      "Requirement already satisfied: ipykernel in c:\\users\\erica\\downloads\\tools\\anaconda\\lib\\site-packages (from jupyter->jupyternotify) (5.3.4)\n",
      "Requirement already satisfied: jupyter-console in c:\\users\\erica\\downloads\\tools\\anaconda\\lib\\site-packages (from jupyter->jupyternotify) (6.2.0)\n",
      "Requirement already satisfied: nbconvert in c:\\users\\erica\\downloads\\tools\\anaconda\\lib\\site-packages (from jupyter->jupyternotify) (6.0.7)\n",
      "Requirement already satisfied: qtconsole in c:\\users\\erica\\downloads\\tools\\anaconda\\lib\\site-packages (from jupyter->jupyternotify) (4.7.7)\n",
      "Requirement already satisfied: parso<0.8.0,>=0.7.0 in c:\\users\\erica\\downloads\\tools\\anaconda\\lib\\site-packages (from jedi>=0.10->ipython->jupyternotify) (0.7.0)\n",
      "Requirement already satisfied: wcwidth in c:\\users\\erica\\downloads\\tools\\anaconda\\lib\\site-packages (from prompt-toolkit!=3.0.0,!=3.0.1,<3.1.0,>=2.0.0->ipython->jupyternotify) (0.2.5)\n",
      "Requirement already satisfied: ipython-genutils in c:\\users\\erica\\downloads\\tools\\anaconda\\lib\\site-packages (from traitlets>=4.2->ipython->jupyternotify) (0.2.0)\n",
      "Requirement already satisfied: widgetsnbextension~=3.5.0 in c:\\users\\erica\\downloads\\tools\\anaconda\\lib\\site-packages (from ipywidgets->jupyter->jupyternotify) (3.5.1)\n",
      "Requirement already satisfied: nbformat>=4.2.0 in c:\\users\\erica\\downloads\\tools\\anaconda\\lib\\site-packages (from ipywidgets->jupyter->jupyternotify) (5.0.8)\n",
      "Requirement already satisfied: pyzmq>=17 in c:\\users\\erica\\downloads\\tools\\anaconda\\lib\\site-packages (from notebook->jupyter->jupyternotify) (19.0.2)\n",
      "Requirement already satisfied: prometheus-client in c:\\users\\erica\\downloads\\tools\\anaconda\\lib\\site-packages (from notebook->jupyter->jupyternotify) (0.8.0)\n",
      "Requirement already satisfied: Send2Trash in c:\\users\\erica\\downloads\\tools\\anaconda\\lib\\site-packages (from notebook->jupyter->jupyternotify) (1.5.0)\n",
      "Requirement already satisfied: jupyter-client>=5.3.4 in c:\\users\\erica\\downloads\\tools\\anaconda\\lib\\site-packages (from notebook->jupyter->jupyternotify) (6.1.7)\n",
      "Requirement already satisfied: jupyter-core>=4.6.1 in c:\\users\\erica\\downloads\\tools\\anaconda\\lib\\site-packages (from notebook->jupyter->jupyternotify) (4.6.3)\n",
      "Requirement already satisfied: terminado>=0.8.3 in c:\\users\\erica\\downloads\\tools\\anaconda\\lib\\site-packages (from notebook->jupyter->jupyternotify) (0.9.1)\n",
      "Requirement already satisfied: argon2-cffi in c:\\users\\erica\\downloads\\tools\\anaconda\\lib\\site-packages (from notebook->jupyter->jupyternotify) (20.1.0)\n",
      "Requirement already satisfied: tornado>=5.0 in c:\\users\\erica\\downloads\\tools\\anaconda\\lib\\site-packages (from notebook->jupyter->jupyternotify) (6.0.4)\n",
      "Requirement already satisfied: jinja2 in c:\\users\\erica\\downloads\\tools\\anaconda\\lib\\site-packages (from notebook->jupyter->jupyternotify) (2.11.2)\n",
      "Requirement already satisfied: entrypoints>=0.2.2 in c:\\users\\erica\\downloads\\tools\\anaconda\\lib\\site-packages (from nbconvert->jupyter->jupyternotify) (0.3)\n",
      "Requirement already satisfied: testpath in c:\\users\\erica\\downloads\\tools\\anaconda\\lib\\site-packages (from nbconvert->jupyter->jupyternotify) (0.4.4)\n",
      "Requirement already satisfied: mistune<2,>=0.8.1 in c:\\users\\erica\\downloads\\tools\\anaconda\\lib\\site-packages (from nbconvert->jupyter->jupyternotify) (0.8.4)\n",
      "Requirement already satisfied: defusedxml in c:\\users\\erica\\downloads\\tools\\anaconda\\lib\\site-packages (from nbconvert->jupyter->jupyternotify) (0.6.0)\n",
      "Requirement already satisfied: jupyterlab-pygments in c:\\users\\erica\\downloads\\tools\\anaconda\\lib\\site-packages (from nbconvert->jupyter->jupyternotify) (0.1.2)\n",
      "Requirement already satisfied: bleach in c:\\users\\erica\\downloads\\tools\\anaconda\\lib\\site-packages (from nbconvert->jupyter->jupyternotify) (3.2.1)\n",
      "Requirement already satisfied: nbclient<0.6.0,>=0.5.0 in c:\\users\\erica\\downloads\\tools\\anaconda\\lib\\site-packages (from nbconvert->jupyter->jupyternotify) (0.5.1)\n",
      "Requirement already satisfied: pandocfilters>=1.4.1 in c:\\users\\erica\\downloads\\tools\\anaconda\\lib\\site-packages (from nbconvert->jupyter->jupyternotify) (1.4.3)\n",
      "Requirement already satisfied: qtpy in c:\\users\\erica\\downloads\\tools\\anaconda\\lib\\site-packages (from qtconsole->jupyter->jupyternotify) (1.9.0)\n",
      "Requirement already satisfied: jsonschema!=2.5.0,>=2.4 in c:\\users\\erica\\downloads\\tools\\anaconda\\lib\\site-packages (from nbformat>=4.2.0->ipywidgets->jupyter->jupyternotify) (3.2.0)\n",
      "Requirement already satisfied: python-dateutil>=2.1 in c:\\users\\erica\\downloads\\tools\\anaconda\\lib\\site-packages (from jupyter-client>=5.3.4->notebook->jupyter->jupyternotify) (2.8.1)\n",
      "Requirement already satisfied: pywin32>=1.0; sys_platform == \"win32\" in c:\\users\\erica\\downloads\\tools\\anaconda\\lib\\site-packages (from jupyter-core>=4.6.1->notebook->jupyter->jupyternotify) (227)\n",
      "Requirement already satisfied: pywinpty>=0.5 in c:\\users\\erica\\downloads\\tools\\anaconda\\lib\\site-packages (from terminado>=0.8.3->notebook->jupyter->jupyternotify) (0.5.7)\n",
      "Requirement already satisfied: cffi>=1.0.0 in c:\\users\\erica\\downloads\\tools\\anaconda\\lib\\site-packages (from argon2-cffi->notebook->jupyter->jupyternotify) (1.14.3)\n",
      "Requirement already satisfied: six in c:\\users\\erica\\downloads\\tools\\anaconda\\lib\\site-packages (from argon2-cffi->notebook->jupyter->jupyternotify) (1.15.0)\n",
      "Requirement already satisfied: MarkupSafe>=0.23 in c:\\users\\erica\\downloads\\tools\\anaconda\\lib\\site-packages (from jinja2->notebook->jupyter->jupyternotify) (1.1.1)\n",
      "Requirement already satisfied: packaging in c:\\users\\erica\\downloads\\tools\\anaconda\\lib\\site-packages (from bleach->nbconvert->jupyter->jupyternotify) (20.4)\n",
      "Requirement already satisfied: webencodings in c:\\users\\erica\\downloads\\tools\\anaconda\\lib\\site-packages (from bleach->nbconvert->jupyter->jupyternotify) (0.5.1)\n",
      "Requirement already satisfied: nest-asyncio in c:\\users\\erica\\downloads\\tools\\anaconda\\lib\\site-packages (from nbclient<0.6.0,>=0.5.0->nbconvert->jupyter->jupyternotify) (1.4.2)\n",
      "Requirement already satisfied: async-generator in c:\\users\\erica\\downloads\\tools\\anaconda\\lib\\site-packages (from nbclient<0.6.0,>=0.5.0->nbconvert->jupyter->jupyternotify) (1.10)\n",
      "Requirement already satisfied: attrs>=17.4.0 in c:\\users\\erica\\downloads\\tools\\anaconda\\lib\\site-packages (from jsonschema!=2.5.0,>=2.4->nbformat>=4.2.0->ipywidgets->jupyter->jupyternotify) (20.3.0)\n",
      "Requirement already satisfied: pyrsistent>=0.14.0 in c:\\users\\erica\\downloads\\tools\\anaconda\\lib\\site-packages (from jsonschema!=2.5.0,>=2.4->nbformat>=4.2.0->ipywidgets->jupyter->jupyternotify) (0.17.3)\n",
      "Requirement already satisfied: pycparser in c:\\users\\erica\\downloads\\tools\\anaconda\\lib\\site-packages (from cffi>=1.0.0->argon2-cffi->notebook->jupyter->jupyternotify) (2.20)\n",
      "Requirement already satisfied: pyparsing>=2.0.2 in c:\\users\\erica\\downloads\\tools\\anaconda\\lib\\site-packages (from packaging->bleach->nbconvert->jupyter->jupyternotify) (2.4.7)\n",
      "Installing collected packages: jupyternotify\n",
      "Successfully installed jupyternotify-0.1.15\n"
     ]
    }
   ],
   "source": [
    "# Importando Ferramentas Básicas\n",
    "import pandas                  as pd\n",
    "import matplotlib.pyplot       as plt\n",
    "import numpy                   as np\n",
    "import                            os\n",
    "from   datetime            import datetime"
   ]
  },
  {
   "cell_type": "code",
   "execution_count": 2,
   "metadata": {},
   "outputs": [],
   "source": [
    "# Importando Ferramentas de Limpeza\n",
    "from sklearn.decomposition    import PCA\n",
    "from sklearn.preprocessing    import StandardScaler\n",
    "from sklearn.pipeline         import make_pipeline, Pipeline"
   ]
  },
  {
   "cell_type": "code",
   "execution_count": 3,
   "metadata": {},
   "outputs": [],
   "source": [
    "# Importando Ferramentas de Modelo\n",
    "from sklearn.svm              import SVR\n",
    "from xgboost                  import XGBRegressor\n",
    "from sklearn.model_selection  import train_test_split\n",
    "from sklearn.model_selection  import GridSearchCV, RandomizedSearchCV\n",
    "from sklearn.metrics          import accuracy_score, mean_absolute_error\n",
    "from sklearn.linear_model     import LinearRegression, LogisticRegression, Lasso\n",
    "from sklearn.base             import BaseEstimator"
   ]
  },
  {
   "cell_type": "code",
   "execution_count": 4,
   "metadata": {},
   "outputs": [],
   "source": [
    "# Importando os dados\n",
    "train = pd.read_csv('./../Dados/train.csv')\n",
    "test = pd.read_csv('./../Dados/test.csv')"
   ]
  },
  {
   "cell_type": "code",
   "execution_count": 5,
   "metadata": {},
   "outputs": [],
   "source": [
    "# Criando Features\n",
    "dataframes = [train, test]\n",
    "\n",
    "for df in dataframes:\n",
    "    df['volume']  = df.x * df.y * df.z\n",
    "    df['densidade'] = df.volume / df.n"
   ]
  },
  {
   "cell_type": "code",
   "execution_count": null,
   "metadata": {},
   "outputs": [],
   "source": [
    "train.head()"
   ]
  },
  {
   "cell_type": "code",
   "execution_count": null,
   "metadata": {},
   "outputs": [],
   "source": [
    "test.head()"
   ]
  },
  {
   "cell_type": "code",
   "execution_count": null,
   "metadata": {},
   "outputs": [],
   "source": [
    "train.isna().sum()/len(train)"
   ]
  },
  {
   "cell_type": "code",
   "execution_count": null,
   "metadata": {},
   "outputs": [],
   "source": [
    "test.isna().sum()/len(train)"
   ]
  },
  {
   "cell_type": "code",
   "execution_count": null,
   "metadata": {},
   "outputs": [],
   "source": [
    "train.cent_price_cor.describe()"
   ]
  },
  {
   "cell_type": "code",
   "execution_count": null,
   "metadata": {},
   "outputs": [],
   "source": [
    "train.cent_trans_cor.describe()"
   ]
  },
  {
   "cell_type": "code",
   "execution_count": null,
   "metadata": {},
   "outputs": [],
   "source": [
    "train.corr()[\"cent_price_cor\"].abs().sort_values(ascending = True)"
   ]
  },
  {
   "cell_type": "code",
   "execution_count": null,
   "metadata": {},
   "outputs": [],
   "source": [
    "train.corr()[\"cent_trans_cor\"].abs().sort_values(ascending = True)"
   ]
  },
  {
   "cell_type": "code",
   "execution_count": null,
   "metadata": {},
   "outputs": [],
   "source": [
    "X = train.drop(columns = ['cent_price_cor', 'cent_trans_cor'], axis = 1)\n",
    "y_1 = train.cent_price_cor\n",
    "\n",
    "X_train, X_test, y_1_train, y_1_test = train_test_split(X,y_1,\n",
    "                                                    test_size = 0.25,\n",
    "                                                    random_state = 0)\n",
    "\n",
    "\n",
    "#regr = make_pipeline(StandardScaler(), SVR(C=1.0, epsilon=0.2))\n",
    "#regr.fit(X, y)\n",
    "\n",
    "pipe_1 = Pipeline(steps=[('standardscaler', StandardScaler()),\n",
    "                ('svr', SVR(epsilon=0.2))])\n",
    "\n",
    "pipe_1.fit(X_train,y_1_train)\n",
    "\n",
    "#pipe.score(X_test, y_test)"
   ]
  },
  {
   "cell_type": "code",
   "execution_count": null,
   "metadata": {},
   "outputs": [],
   "source": [
    "y_1_pred = pipe_1.predict(X_test)"
   ]
  },
  {
   "cell_type": "code",
   "execution_count": null,
   "metadata": {},
   "outputs": [],
   "source": [
    "mean_absolute_error(y_1_test, y_1_pred)"
   ]
  },
  {
   "cell_type": "code",
   "execution_count": null,
   "metadata": {},
   "outputs": [],
   "source": [
    "X = train.drop(columns = ['cent_price_cor', 'cent_trans_cor'], axis = 1)\n",
    "y_2 = train.cent_trans_cor\n",
    "\n",
    "X_train, X_test, y_2_train, y_2_test = train_test_split(X,y_2,\n",
    "                                                    test_size = 0.25,\n",
    "                                                    random_state = 0)\n",
    "\n",
    "\n",
    "#regr = make_pipeline(StandardScaler(), SVR(C=1.0, epsilon=0.2))\n",
    "#regr.fit(X, y)\n",
    "\n",
    "pipe_2 = Pipeline(steps=[('standardscaler', StandardScaler()),\n",
    "                ('svr', SVR(epsilon=0.2))])\n",
    "\n",
    "pipe_2.fit(X_train,y_2_train)\n",
    "\n",
    "y_2_pred = pipe_2.predict(X_test)\n",
    "\n",
    "mean_absolute_error(y_2_test, y_2_pred)"
   ]
  },
  {
   "cell_type": "markdown",
   "metadata": {},
   "source": [
    "## PCA"
   ]
  },
  {
   "cell_type": "code",
   "execution_count": null,
   "metadata": {},
   "outputs": [],
   "source": [
    "X = train.drop(columns = ['cent_price_cor', 'cent_trans_cor'], axis = 1)\n",
    "\n",
    "scaler = StandardScaler()\n",
    "\n",
    "transf_X_train = scaler.fit_transform(X_train)\n",
    "transf_X_test = scaler.fit_transform(X_test)"
   ]
  },
  {
   "cell_type": "code",
   "execution_count": null,
   "metadata": {},
   "outputs": [],
   "source": [
    "y_price = train.cent_price_cor\n",
    "y_trans = train.cent_trans_cor\n",
    "\n",
    "X_train, X_test, y_price_train, y_price_test = train_test_split(X,y_price,\n",
    "                                                    test_size = 0.25,\n",
    "                                                    random_state = 0)\n",
    "\n",
    "X_train, X_test, y_trans_train, y_trans_test = train_test_split(X,y_trans,\n",
    "                                                    test_size = 0.25,\n",
    "                                                    random_state = 0)"
   ]
  },
  {
   "cell_type": "code",
   "execution_count": null,
   "metadata": {},
   "outputs": [],
   "source": [
    "models = {'Linear Regression': LinearRegression(n_jobs = -1),\n",
    "          'SVR': SVR(epsilon=0.2),\n",
    "          'Lasso': Lasso(),\n",
    "          'XGBoostRegressor': XGBRegressor()}"
   ]
  },
  {
   "cell_type": "code",
   "execution_count": null,
   "metadata": {},
   "outputs": [],
   "source": [
    "def fit_score_PCA(models,X_train,y_train,X_test,y_test,components):\n",
    "\n",
    "    # Make a dict to keep model scores\n",
    "    model_scores = {}\n",
    "    \n",
    "    for i in components:\n",
    "        \n",
    "        pca = PCA(n_components = i)\n",
    "        X_train_PCA = pca.fit_transform(X_train)\n",
    "        X_test_PCA = pca.transform(X_test)\n",
    "\n",
    "        # Loop through models\n",
    "        for name, model in models.items():\n",
    "\n",
    "            # Fit the model to the data\n",
    "            model.fit(X_train_PCA,y_train)\n",
    "        \n",
    "            y_pred = model.predict(X_test_PCA)\n",
    "\n",
    "            #Evaluates the model and append its score to model_scores\n",
    "            model_scores[name + '_' + str(i)] = mean_absolute_error(y_test, y_pred)\n",
    "\n",
    "    return model_scores"
   ]
  },
  {
   "cell_type": "code",
   "execution_count": null,
   "metadata": {},
   "outputs": [],
   "source": [
    "model_scores_trans = fit_score_PCA(models,X_train,y_trans_train,X_test,y_trans_test, 0.95)\n",
    "model_scores_price = fit_score_PCA(models,X_train,y_price_train,X_test,y_price_test, 0.95)"
   ]
  },
  {
   "cell_type": "code",
   "execution_count": null,
   "metadata": {},
   "outputs": [],
   "source": [
    "model_scores_trans"
   ]
  },
  {
   "cell_type": "code",
   "execution_count": null,
   "metadata": {},
   "outputs": [],
   "source": [
    "model_scores_price"
   ]
  },
  {
   "cell_type": "code",
   "execution_count": null,
   "metadata": {},
   "outputs": [],
   "source": [
    "# Melhores scores para 0.95 (sem scaling)\n",
    "0.0941312117033256 + 0.090252152275057"
   ]
  },
  {
   "cell_type": "code",
   "execution_count": null,
   "metadata": {},
   "outputs": [],
   "source": [
    "model_scores_trans = fit_score_PCA(models,transf_X_train,y_trans_train,transf_X_test,y_trans_test, 1)\n",
    "model_scores_price = fit_score_PCA(models,transf_X_train,y_price_train,transf_X_test,y_price_test, 1)"
   ]
  },
  {
   "cell_type": "code",
   "execution_count": null,
   "metadata": {},
   "outputs": [],
   "source": [
    "model_scores_trans"
   ]
  },
  {
   "cell_type": "code",
   "execution_count": null,
   "metadata": {},
   "outputs": [],
   "source": [
    "model_scores_price"
   ]
  },
  {
   "cell_type": "code",
   "execution_count": null,
   "metadata": {},
   "outputs": [],
   "source": [
    "# Melhores scores para 0.95 (com scaling)\n",
    "0.0941305091243686 + 0.09025552474334281"
   ]
  },
  {
   "cell_type": "code",
   "execution_count": null,
   "metadata": {},
   "outputs": [],
   "source": [
    "pca = PCA(n_components = 0.95)\n",
    "X_train_PCA = pca.fit_transform(X_train)\n",
    "X_train_new = pca.inverse_transform(X_train_PCA)"
   ]
  },
  {
   "cell_type": "code",
   "execution_count": null,
   "metadata": {},
   "outputs": [],
   "source": [
    "X_train_PCA.shape"
   ]
  },
  {
   "cell_type": "code",
   "execution_count": null,
   "metadata": {},
   "outputs": [],
   "source": [
    "X_train_new"
   ]
  },
  {
   "cell_type": "code",
   "execution_count": null,
   "metadata": {},
   "outputs": [],
   "source": [
    "model_scores_trans = fit_score_PCA(models,transf_X_train,y_trans_train,transf_X_test,y_trans_test, 1)\n",
    "model_scores_price = fit_score_PCA(models,transf_X_train,y_price_train,transf_X_test,y_price_test, 1)"
   ]
  },
  {
   "cell_type": "code",
   "execution_count": null,
   "metadata": {},
   "outputs": [],
   "source": [
    "model_scores_trans"
   ]
  },
  {
   "cell_type": "code",
   "execution_count": null,
   "metadata": {},
   "outputs": [],
   "source": [
    "model_scores_price"
   ]
  },
  {
   "cell_type": "code",
   "execution_count": null,
   "metadata": {},
   "outputs": [],
   "source": [
    "pca.explained_variance_ratio_"
   ]
  },
  {
   "cell_type": "code",
   "execution_count": null,
   "metadata": {},
   "outputs": [],
   "source": [
    "model_scores_trans = fit_score_PCA(models,transf_X_train,y_trans_train,transf_X_test,y_trans_test, [0.91,0.95,1])\n",
    "model_scores_price = fit_score_PCA(models,transf_X_train,y_price_train,transf_X_test,y_price_test, [0.91,0.95,1])"
   ]
  },
  {
   "cell_type": "code",
   "execution_count": null,
   "metadata": {},
   "outputs": [],
   "source": [
    "#'Linear Regression_0.95': 0.09020619481829613\n",
    "\n",
    "sorted(model_scores_trans, key = model_scores_trans.get)"
   ]
  },
  {
   "cell_type": "code",
   "execution_count": null,
   "metadata": {},
   "outputs": [],
   "source": [
    "# 'Lasso_0.91': 0.09411110306791731,\n",
    "sorted(model_scores_price, key = model_scores_price.get)"
   ]
  },
  {
   "cell_type": "code",
   "execution_count": null,
   "metadata": {},
   "outputs": [],
   "source": [
    "model_scores_trans = fit_score_PCA(models,transf_X_train,y_trans_train,transf_X_test,y_trans_test, [0.8,0.85,0.9,0.95])\n",
    "model_scores_price = fit_score_PCA(models,transf_X_train,y_price_train,transf_X_test,y_price_test, [0.8,0.85,0.9,0.95])"
   ]
  },
  {
   "cell_type": "code",
   "execution_count": null,
   "metadata": {},
   "outputs": [],
   "source": [
    "{k: v for k, v in sorted(model_scores_price.items(), key=lambda item: item[1])}"
   ]
  },
  {
   "cell_type": "code",
   "execution_count": null,
   "metadata": {},
   "outputs": [],
   "source": [
    "{k: v for k, v in sorted(model_scores_trans.items(), key=lambda item: item[1])}"
   ]
  },
  {
   "cell_type": "markdown",
   "metadata": {},
   "source": [
    "## GridSearch"
   ]
  },
  {
   "cell_type": "code",
   "execution_count": 7,
   "metadata": {},
   "outputs": [],
   "source": [
    "X = train.drop(columns = ['cent_price_cor', 'cent_trans_cor'], axis = 1)\n",
    "\n",
    "y_price = train.cent_price_cor\n",
    "y_trans = train.cent_trans_cor\n",
    "\n",
    "X_train, X_test, y_price_train, y_price_test = train_test_split(X,y_price,\n",
    "                                                    test_size = 0.25,\n",
    "                                                    random_state = 0)\n",
    "\n",
    "X_train, X_test, y_trans_train, y_trans_test = train_test_split(X,y_trans,\n",
    "                                                    test_size = 0.25,\n",
    "                                                    random_state = 0)"
   ]
  },
  {
   "cell_type": "code",
   "execution_count": 20,
   "metadata": {},
   "outputs": [],
   "source": [
    "params_grid = [\n",
    "\n",
    "#Linear Regression\n",
    "{'normalize': ['True', 'False'],\n",
    "'fit_intercept': ['True', 'False']},\n",
    "    \n",
    "#SVR RBF\n",
    "{'kernel': ['rbf'],\n",
    "'C':[0.1, 0.5, 1, 5, 10],\n",
    "'degree': [3,8],\n",
    "'coef0': [0.01,10,0.5],\n",
    "'gamma': ('auto','scale'),\n",
    "'epsilon': [0.1,0.2]},\n",
    "    \n",
    "#SVR POLY\n",
    "{'kernel': ['poly'],\n",
    "'C':[0.1, 0.5, 1, 5, 10],\n",
    "'degree': [3,8],\n",
    "'coef0': [0.01,10,0.5],\n",
    "'gamma': ('auto','scale'),\n",
    "'epsilon': [0.1,0.2]},\n",
    "    \n",
    "#Lasso\n",
    "{'alpha':[0.02, 0.024, 0.025, 0.026, 0.03],\n",
    "'fit_alpha':[0.005, 0.02, 0.03, 0.05, 0.06]},  \n",
    "    \n",
    "# XGBoost\n",
    "{'nthread':[4], #when use hyperthread, xgboost may become slower\n",
    "'objective':['reg:linear'],\n",
    "'learning_rate': [.03, 0.05, .07], #so called `eta` value\n",
    "'max_depth': [5, 6, 7],\n",
    "'min_child_weight': [4],\n",
    "'silent': [1],\n",
    "'subsample': [0.7],\n",
    "'colsample_bytree': [0.7],\n",
    "'n_estimators': [500]}]"
   ]
  },
  {
   "cell_type": "code",
   "execution_count": 21,
   "metadata": {},
   "outputs": [],
   "source": [
    " def prever(X_train, X_test, y_train, y_test):\n",
    "    \n",
    "    lista_scores = []\n",
    "    lista_params = []\n",
    "    lista_PCA = []\n",
    "    lista_model = []\n",
    "    \n",
    "    components = [0.8,0.85,0.9,0.95]\n",
    "    \n",
    "    models = [LinearRegression(),\n",
    "              SVR(),\n",
    "              SVR(),\n",
    "              Lasso(),\n",
    "              XGBRegressor()]\n",
    "            \n",
    "    for i, model in enumerate(models):\n",
    "                    \n",
    "            for n in components:\n",
    "\n",
    "                pca = PCA(n_components = n)\n",
    "                X_train_PCA = pca.fit_transform(X_train)\n",
    "                X_test_PCA = pca.transform(X_test)\n",
    "\n",
    "                clf = GridSearchCV(model, param_grid = params_grid[i],\n",
    "                                   scoring = 'neg_mean_absolute_error', #destaque à métrica pedida\n",
    "                                   n_jobs=2, refit=True, cv=5, verbose=True,\n",
    "                                   pre_dispatch='2*n_jobs', error_score='raise', \n",
    "                                   return_train_score=True)\n",
    "\n",
    "                clf.fit(X_train, y_train)\n",
    "\n",
    "                clf_fit = model\n",
    "                params = clf_fit.set_params(**clf.best_params_)\n",
    "\n",
    "                clf_fit.fit(X_train, y_train)\n",
    "                score = clf_fit.score(X_test, y_test)\n",
    "                \n",
    "                lista_model.append(model)\n",
    "                lista_params.append(params)\n",
    "                lista_scores.append(score)\n",
    "                lista_PCA.append(n)\n",
    "\n",
    "\n",
    "    df_scores = pd.DataFrame(lista_scores)\n",
    "    df_scores.insert(loc=0, column='PCA', value= pd.Series(lista_PCA))\n",
    "    df_scores.insert(loc=0, column='Model', value= pd.Series(lista_model))\n",
    "    df_scores.insert(loc=0, column='params', value= pd.Series(lista_params))\n",
    "    df_scores.to_csv(\"./../Resultados/scores_\"+\"{}.csv\".format(datetime.now().strftime(\"%d-%m-%Y_%Hh%Mm%Ss\")))\n",
    "            \n",
    "    return df_scores"
   ]
  },
  {
   "cell_type": "code",
   "execution_count": null,
   "metadata": {},
   "outputs": [
    {
     "name": "stdout",
     "output_type": "stream",
     "text": [
      "Fitting 5 folds for each of 4 candidates, totalling 20 fits\n"
     ]
    },
    {
     "name": "stderr",
     "output_type": "stream",
     "text": [
      "[Parallel(n_jobs=2)]: Using backend LokyBackend with 2 concurrent workers.\n",
      "[Parallel(n_jobs=2)]: Done  20 out of  20 | elapsed:    4.7s finished\n",
      "[Parallel(n_jobs=2)]: Using backend LokyBackend with 2 concurrent workers.\n"
     ]
    },
    {
     "name": "stdout",
     "output_type": "stream",
     "text": [
      "Fitting 5 folds for each of 4 candidates, totalling 20 fits\n"
     ]
    },
    {
     "name": "stderr",
     "output_type": "stream",
     "text": [
      "[Parallel(n_jobs=2)]: Done  20 out of  20 | elapsed:    0.3s finished\n"
     ]
    },
    {
     "name": "stdout",
     "output_type": "stream",
     "text": [
      "Fitting 5 folds for each of 4 candidates, totalling 20 fits\n"
     ]
    },
    {
     "name": "stderr",
     "output_type": "stream",
     "text": [
      "[Parallel(n_jobs=2)]: Using backend LokyBackend with 2 concurrent workers.\n",
      "[Parallel(n_jobs=2)]: Done  20 out of  20 | elapsed:    0.3s finished\n"
     ]
    },
    {
     "name": "stdout",
     "output_type": "stream",
     "text": [
      "Fitting 5 folds for each of 4 candidates, totalling 20 fits\n"
     ]
    },
    {
     "name": "stderr",
     "output_type": "stream",
     "text": [
      "[Parallel(n_jobs=2)]: Using backend LokyBackend with 2 concurrent workers.\n",
      "[Parallel(n_jobs=2)]: Done  20 out of  20 | elapsed:    0.4s finished\n",
      "[Parallel(n_jobs=2)]: Using backend LokyBackend with 2 concurrent workers.\n"
     ]
    },
    {
     "name": "stdout",
     "output_type": "stream",
     "text": [
      "Fitting 5 folds for each of 120 candidates, totalling 600 fits\n"
     ]
    },
    {
     "name": "stderr",
     "output_type": "stream",
     "text": [
      "[Parallel(n_jobs=2)]: Done  46 tasks      | elapsed:  1.5min\n",
      "[Parallel(n_jobs=2)]: Done 196 tasks      | elapsed:  5.2min\n"
     ]
    }
   ],
   "source": [
    "%%notify -m \"The cell has finished running\"\n",
    "prever(X_train, X_test, y_price_train, y_price_test)"
   ]
  },
  {
   "cell_type": "code",
   "execution_count": null,
   "metadata": {},
   "outputs": [],
   "source": []
  }
 ],
 "metadata": {
  "kernelspec": {
   "display_name": "Python 3",
   "language": "python",
   "name": "python3"
  },
  "language_info": {
   "codemirror_mode": {
    "name": "ipython",
    "version": 3
   },
   "file_extension": ".py",
   "mimetype": "text/x-python",
   "name": "python",
   "nbconvert_exporter": "python",
   "pygments_lexer": "ipython3",
   "version": "3.8.5"
  }
 },
 "nbformat": 4,
 "nbformat_minor": 4
}
