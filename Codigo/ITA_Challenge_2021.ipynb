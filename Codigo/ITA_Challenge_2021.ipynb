{
 "cells": [
  {
   "cell_type": "markdown",
   "metadata": {},
   "source": [
    "## ITA 2021\n",
    "\n",
    "<br>\n",
    "\n",
    "Dicionário de Dados:\n",
    "\n",
    "* n: número de agentes\n",
    "* p: fração de traders\n",
    "* f: grau de interesse dos traders\n",
    "* x, y, z: dimensões do espaço aéreo\n",
    "* a1, a2: média e desvio padrão do coeficiente do preço fundamental dos consumidores\n",
    "* a3, a4: idem para os traders\n",
    "* b1, b2: média e desvio padrão do coeficiente do preço de mercado dos consumidores\n",
    "* b3, b4: idem para os traders\n",
    "* c1, c2: média e desvio padrão do coeficiente do preço aleatório dos consumidores\n",
    "* c3, c4: idem para os traders\n",
    "* g1, g2: média e desvio padrão do grau de agressividade dos consumidores\n",
    "* l1, l2: média e desvio padrão do coeficiente de desvalorização para os consumidores\n",
    "* l3, l4: idem para os traders\n",
    "* e1, e2: variabilidade no preço fundamental dos consumidores e traders, respectivamente\n",
    "* cent_price_cor: correlação entre o preço final e centralidade das permissões de vôo\n",
    "* cent_trans_cor: idem para o número de transações"
   ]
  },
  {
   "cell_type": "code",
   "execution_count": 1,
   "metadata": {},
   "outputs": [],
   "source": [
    "# Importando Ferramentas Básicas\n",
    "import pandas                  as pd\n",
    "import matplotlib.pyplot       as plt\n",
    "import numpy                   as np"
   ]
  },
  {
   "cell_type": "code",
   "execution_count": 10,
   "metadata": {},
   "outputs": [],
   "source": [
    "# Importando Ferramentas de Limpeza\n",
    "from sklearn.decomposition    import PCA\n",
    "from sklearn.preprocessing    import StandardScaler\n",
    "from sklearn.pipeline         import make_pipeline, Pipeline"
   ]
  },
  {
   "cell_type": "code",
   "execution_count": 30,
   "metadata": {},
   "outputs": [],
   "source": [
    "# Importando Ferramentas de Modelo\n",
    "from sklearn.svm              import SVR\n",
    "from xgboost                  import XGBRegressor\n",
    "from sklearn.model_selection  import train_test_split\n",
    "from sklearn.model_selection  import GridSearchCV, RandomizedSearchCV\n",
    "from sklearn.metrics          import accuracy_score, mean_absolute_error\n",
    "from sklearn.linear_model     import LinearRegression, LogisticRegression, Lasso\n",
    "from sklearn.base             import BaseEstimator"
   ]
  },
  {
   "cell_type": "code",
   "execution_count": 4,
   "metadata": {},
   "outputs": [],
   "source": [
    "# Importando os dados\n",
    "train = pd.read_csv('./../Dados/train.csv')\n",
    "test = pd.read_csv('./../Dados/test.csv')"
   ]
  },
  {
   "cell_type": "code",
   "execution_count": 5,
   "metadata": {},
   "outputs": [],
   "source": [
    "# Criando Features\n",
    "dataframes = [train, test]\n",
    "\n",
    "for df in dataframes:\n",
    "    df['volume']  = df.x * df.y * df.z\n",
    "    df['densidade'] = df.volume / df.n"
   ]
  },
  {
   "cell_type": "code",
   "execution_count": 23,
   "metadata": {},
   "outputs": [
    {
     "data": {
      "text/html": [
       "<div>\n",
       "<style scoped>\n",
       "    .dataframe tbody tr th:only-of-type {\n",
       "        vertical-align: middle;\n",
       "    }\n",
       "\n",
       "    .dataframe tbody tr th {\n",
       "        vertical-align: top;\n",
       "    }\n",
       "\n",
       "    .dataframe thead th {\n",
       "        text-align: right;\n",
       "    }\n",
       "</style>\n",
       "<table border=\"1\" class=\"dataframe\">\n",
       "  <thead>\n",
       "    <tr style=\"text-align: right;\">\n",
       "      <th></th>\n",
       "      <th>n</th>\n",
       "      <th>p</th>\n",
       "      <th>f</th>\n",
       "      <th>x</th>\n",
       "      <th>y</th>\n",
       "      <th>z</th>\n",
       "      <th>a1</th>\n",
       "      <th>a2</th>\n",
       "      <th>a3</th>\n",
       "      <th>a4</th>\n",
       "      <th>...</th>\n",
       "      <th>l1</th>\n",
       "      <th>l2</th>\n",
       "      <th>l3</th>\n",
       "      <th>l4</th>\n",
       "      <th>e1</th>\n",
       "      <th>e2</th>\n",
       "      <th>cent_price_cor</th>\n",
       "      <th>cent_trans_cor</th>\n",
       "      <th>volume</th>\n",
       "      <th>densidade</th>\n",
       "    </tr>\n",
       "  </thead>\n",
       "  <tbody>\n",
       "    <tr>\n",
       "      <th>0</th>\n",
       "      <td>709</td>\n",
       "      <td>0.7</td>\n",
       "      <td>0.2</td>\n",
       "      <td>16</td>\n",
       "      <td>12</td>\n",
       "      <td>7</td>\n",
       "      <td>3.8</td>\n",
       "      <td>0.24</td>\n",
       "      <td>2.3</td>\n",
       "      <td>0.28</td>\n",
       "      <td>...</td>\n",
       "      <td>0.147</td>\n",
       "      <td>1.5</td>\n",
       "      <td>0.089</td>\n",
       "      <td>1.6</td>\n",
       "      <td>1.5</td>\n",
       "      <td>2.6</td>\n",
       "      <td>-0.169</td>\n",
       "      <td>0.375</td>\n",
       "      <td>1344</td>\n",
       "      <td>1.895628</td>\n",
       "    </tr>\n",
       "    <tr>\n",
       "      <th>1</th>\n",
       "      <td>921</td>\n",
       "      <td>0.6</td>\n",
       "      <td>0.3</td>\n",
       "      <td>19</td>\n",
       "      <td>17</td>\n",
       "      <td>10</td>\n",
       "      <td>3.0</td>\n",
       "      <td>0.12</td>\n",
       "      <td>2.4</td>\n",
       "      <td>0.19</td>\n",
       "      <td>...</td>\n",
       "      <td>0.186</td>\n",
       "      <td>1.6</td>\n",
       "      <td>0.076</td>\n",
       "      <td>1.8</td>\n",
       "      <td>0.6</td>\n",
       "      <td>0.4</td>\n",
       "      <td>-0.075</td>\n",
       "      <td>0.234</td>\n",
       "      <td>3230</td>\n",
       "      <td>3.507058</td>\n",
       "    </tr>\n",
       "    <tr>\n",
       "      <th>2</th>\n",
       "      <td>177</td>\n",
       "      <td>0.8</td>\n",
       "      <td>0.4</td>\n",
       "      <td>14</td>\n",
       "      <td>12</td>\n",
       "      <td>5</td>\n",
       "      <td>3.2</td>\n",
       "      <td>0.17</td>\n",
       "      <td>1.8</td>\n",
       "      <td>0.18</td>\n",
       "      <td>...</td>\n",
       "      <td>0.048</td>\n",
       "      <td>0.7</td>\n",
       "      <td>0.073</td>\n",
       "      <td>0.6</td>\n",
       "      <td>2.7</td>\n",
       "      <td>0.3</td>\n",
       "      <td>-0.177</td>\n",
       "      <td>0.389</td>\n",
       "      <td>840</td>\n",
       "      <td>4.745763</td>\n",
       "    </tr>\n",
       "    <tr>\n",
       "      <th>3</th>\n",
       "      <td>415</td>\n",
       "      <td>0.7</td>\n",
       "      <td>0.5</td>\n",
       "      <td>24</td>\n",
       "      <td>11</td>\n",
       "      <td>2</td>\n",
       "      <td>1.3</td>\n",
       "      <td>0.17</td>\n",
       "      <td>1.5</td>\n",
       "      <td>0.18</td>\n",
       "      <td>...</td>\n",
       "      <td>0.151</td>\n",
       "      <td>0.8</td>\n",
       "      <td>0.022</td>\n",
       "      <td>1.1</td>\n",
       "      <td>0.5</td>\n",
       "      <td>0.1</td>\n",
       "      <td>-0.102</td>\n",
       "      <td>0.358</td>\n",
       "      <td>528</td>\n",
       "      <td>1.272289</td>\n",
       "    </tr>\n",
       "    <tr>\n",
       "      <th>4</th>\n",
       "      <td>802</td>\n",
       "      <td>0.8</td>\n",
       "      <td>0.4</td>\n",
       "      <td>21</td>\n",
       "      <td>10</td>\n",
       "      <td>3</td>\n",
       "      <td>4.4</td>\n",
       "      <td>0.15</td>\n",
       "      <td>2.6</td>\n",
       "      <td>0.13</td>\n",
       "      <td>...</td>\n",
       "      <td>0.123</td>\n",
       "      <td>1.9</td>\n",
       "      <td>0.046</td>\n",
       "      <td>1.1</td>\n",
       "      <td>2.0</td>\n",
       "      <td>0.6</td>\n",
       "      <td>-0.034</td>\n",
       "      <td>0.180</td>\n",
       "      <td>630</td>\n",
       "      <td>0.785536</td>\n",
       "    </tr>\n",
       "  </tbody>\n",
       "</table>\n",
       "<p>5 rows × 30 columns</p>\n",
       "</div>"
      ],
      "text/plain": [
       "     n    p    f   x   y   z   a1    a2   a3    a4  ...     l1   l2     l3  \\\n",
       "0  709  0.7  0.2  16  12   7  3.8  0.24  2.3  0.28  ...  0.147  1.5  0.089   \n",
       "1  921  0.6  0.3  19  17  10  3.0  0.12  2.4  0.19  ...  0.186  1.6  0.076   \n",
       "2  177  0.8  0.4  14  12   5  3.2  0.17  1.8  0.18  ...  0.048  0.7  0.073   \n",
       "3  415  0.7  0.5  24  11   2  1.3  0.17  1.5  0.18  ...  0.151  0.8  0.022   \n",
       "4  802  0.8  0.4  21  10   3  4.4  0.15  2.6  0.13  ...  0.123  1.9  0.046   \n",
       "\n",
       "    l4   e1   e2  cent_price_cor  cent_trans_cor  volume  densidade  \n",
       "0  1.6  1.5  2.6          -0.169           0.375    1344   1.895628  \n",
       "1  1.8  0.6  0.4          -0.075           0.234    3230   3.507058  \n",
       "2  0.6  2.7  0.3          -0.177           0.389     840   4.745763  \n",
       "3  1.1  0.5  0.1          -0.102           0.358     528   1.272289  \n",
       "4  1.1  2.0  0.6          -0.034           0.180     630   0.785536  \n",
       "\n",
       "[5 rows x 30 columns]"
      ]
     },
     "execution_count": 23,
     "metadata": {},
     "output_type": "execute_result"
    }
   ],
   "source": [
    "train.head()"
   ]
  },
  {
   "cell_type": "code",
   "execution_count": 24,
   "metadata": {},
   "outputs": [
    {
     "data": {
      "text/html": [
       "<div>\n",
       "<style scoped>\n",
       "    .dataframe tbody tr th:only-of-type {\n",
       "        vertical-align: middle;\n",
       "    }\n",
       "\n",
       "    .dataframe tbody tr th {\n",
       "        vertical-align: top;\n",
       "    }\n",
       "\n",
       "    .dataframe thead th {\n",
       "        text-align: right;\n",
       "    }\n",
       "</style>\n",
       "<table border=\"1\" class=\"dataframe\">\n",
       "  <thead>\n",
       "    <tr style=\"text-align: right;\">\n",
       "      <th></th>\n",
       "      <th>id</th>\n",
       "      <th>n</th>\n",
       "      <th>p</th>\n",
       "      <th>f</th>\n",
       "      <th>x</th>\n",
       "      <th>y</th>\n",
       "      <th>z</th>\n",
       "      <th>a1</th>\n",
       "      <th>a2</th>\n",
       "      <th>a3</th>\n",
       "      <th>...</th>\n",
       "      <th>g1</th>\n",
       "      <th>g2</th>\n",
       "      <th>l1</th>\n",
       "      <th>l2</th>\n",
       "      <th>l3</th>\n",
       "      <th>l4</th>\n",
       "      <th>e1</th>\n",
       "      <th>e2</th>\n",
       "      <th>volume</th>\n",
       "      <th>densidade</th>\n",
       "    </tr>\n",
       "  </thead>\n",
       "  <tbody>\n",
       "    <tr>\n",
       "      <th>0</th>\n",
       "      <td>1</td>\n",
       "      <td>558</td>\n",
       "      <td>0.5</td>\n",
       "      <td>0.2</td>\n",
       "      <td>28</td>\n",
       "      <td>21</td>\n",
       "      <td>2</td>\n",
       "      <td>1.0</td>\n",
       "      <td>0.29</td>\n",
       "      <td>1.3</td>\n",
       "      <td>...</td>\n",
       "      <td>0.198</td>\n",
       "      <td>1.8</td>\n",
       "      <td>0.149</td>\n",
       "      <td>2.0</td>\n",
       "      <td>0.078</td>\n",
       "      <td>1.7</td>\n",
       "      <td>0.5</td>\n",
       "      <td>2.9</td>\n",
       "      <td>1176</td>\n",
       "      <td>2.107527</td>\n",
       "    </tr>\n",
       "    <tr>\n",
       "      <th>1</th>\n",
       "      <td>2</td>\n",
       "      <td>910</td>\n",
       "      <td>0.9</td>\n",
       "      <td>0.3</td>\n",
       "      <td>28</td>\n",
       "      <td>19</td>\n",
       "      <td>9</td>\n",
       "      <td>2.2</td>\n",
       "      <td>0.14</td>\n",
       "      <td>1.6</td>\n",
       "      <td>...</td>\n",
       "      <td>0.172</td>\n",
       "      <td>1.0</td>\n",
       "      <td>0.086</td>\n",
       "      <td>0.8</td>\n",
       "      <td>0.030</td>\n",
       "      <td>0.8</td>\n",
       "      <td>0.2</td>\n",
       "      <td>1.6</td>\n",
       "      <td>4788</td>\n",
       "      <td>5.261538</td>\n",
       "    </tr>\n",
       "    <tr>\n",
       "      <th>2</th>\n",
       "      <td>3</td>\n",
       "      <td>213</td>\n",
       "      <td>0.8</td>\n",
       "      <td>0.5</td>\n",
       "      <td>21</td>\n",
       "      <td>15</td>\n",
       "      <td>8</td>\n",
       "      <td>2.2</td>\n",
       "      <td>0.22</td>\n",
       "      <td>2.6</td>\n",
       "      <td>...</td>\n",
       "      <td>0.083</td>\n",
       "      <td>0.7</td>\n",
       "      <td>0.019</td>\n",
       "      <td>1.4</td>\n",
       "      <td>0.016</td>\n",
       "      <td>1.2</td>\n",
       "      <td>2.6</td>\n",
       "      <td>2.4</td>\n",
       "      <td>2520</td>\n",
       "      <td>11.830986</td>\n",
       "    </tr>\n",
       "    <tr>\n",
       "      <th>3</th>\n",
       "      <td>4</td>\n",
       "      <td>654</td>\n",
       "      <td>0.7</td>\n",
       "      <td>0.5</td>\n",
       "      <td>14</td>\n",
       "      <td>15</td>\n",
       "      <td>2</td>\n",
       "      <td>2.2</td>\n",
       "      <td>0.12</td>\n",
       "      <td>3.8</td>\n",
       "      <td>...</td>\n",
       "      <td>0.185</td>\n",
       "      <td>1.3</td>\n",
       "      <td>0.110</td>\n",
       "      <td>0.8</td>\n",
       "      <td>0.006</td>\n",
       "      <td>1.7</td>\n",
       "      <td>0.2</td>\n",
       "      <td>1.7</td>\n",
       "      <td>420</td>\n",
       "      <td>0.642202</td>\n",
       "    </tr>\n",
       "    <tr>\n",
       "      <th>4</th>\n",
       "      <td>5</td>\n",
       "      <td>672</td>\n",
       "      <td>0.7</td>\n",
       "      <td>0.5</td>\n",
       "      <td>24</td>\n",
       "      <td>10</td>\n",
       "      <td>5</td>\n",
       "      <td>3.7</td>\n",
       "      <td>0.20</td>\n",
       "      <td>3.7</td>\n",
       "      <td>...</td>\n",
       "      <td>0.158</td>\n",
       "      <td>0.9</td>\n",
       "      <td>0.148</td>\n",
       "      <td>1.9</td>\n",
       "      <td>0.038</td>\n",
       "      <td>1.3</td>\n",
       "      <td>1.1</td>\n",
       "      <td>2.8</td>\n",
       "      <td>1200</td>\n",
       "      <td>1.785714</td>\n",
       "    </tr>\n",
       "  </tbody>\n",
       "</table>\n",
       "<p>5 rows × 29 columns</p>\n",
       "</div>"
      ],
      "text/plain": [
       "   id    n    p    f   x   y  z   a1    a2   a3  ...     g1   g2     l1   l2  \\\n",
       "0   1  558  0.5  0.2  28  21  2  1.0  0.29  1.3  ...  0.198  1.8  0.149  2.0   \n",
       "1   2  910  0.9  0.3  28  19  9  2.2  0.14  1.6  ...  0.172  1.0  0.086  0.8   \n",
       "2   3  213  0.8  0.5  21  15  8  2.2  0.22  2.6  ...  0.083  0.7  0.019  1.4   \n",
       "3   4  654  0.7  0.5  14  15  2  2.2  0.12  3.8  ...  0.185  1.3  0.110  0.8   \n",
       "4   5  672  0.7  0.5  24  10  5  3.7  0.20  3.7  ...  0.158  0.9  0.148  1.9   \n",
       "\n",
       "      l3   l4   e1   e2  volume  densidade  \n",
       "0  0.078  1.7  0.5  2.9    1176   2.107527  \n",
       "1  0.030  0.8  0.2  1.6    4788   5.261538  \n",
       "2  0.016  1.2  2.6  2.4    2520  11.830986  \n",
       "3  0.006  1.7  0.2  1.7     420   0.642202  \n",
       "4  0.038  1.3  1.1  2.8    1200   1.785714  \n",
       "\n",
       "[5 rows x 29 columns]"
      ]
     },
     "execution_count": 24,
     "metadata": {},
     "output_type": "execute_result"
    }
   ],
   "source": [
    "test.head()"
   ]
  },
  {
   "cell_type": "code",
   "execution_count": 25,
   "metadata": {},
   "outputs": [
    {
     "data": {
      "text/plain": [
       "n                 0.0\n",
       "p                 0.0\n",
       "f                 0.0\n",
       "x                 0.0\n",
       "y                 0.0\n",
       "z                 0.0\n",
       "a1                0.0\n",
       "a2                0.0\n",
       "a3                0.0\n",
       "a4                0.0\n",
       "b1                0.0\n",
       "b2                0.0\n",
       "b3                0.0\n",
       "b4                0.0\n",
       "c1                0.0\n",
       "c2                0.0\n",
       "c3                0.0\n",
       "c4                0.0\n",
       "g1                0.0\n",
       "g2                0.0\n",
       "l1                0.0\n",
       "l2                0.0\n",
       "l3                0.0\n",
       "l4                0.0\n",
       "e1                0.0\n",
       "e2                0.0\n",
       "cent_price_cor    0.0\n",
       "cent_trans_cor    0.0\n",
       "volume            0.0\n",
       "densidade         0.0\n",
       "dtype: float64"
      ]
     },
     "execution_count": 25,
     "metadata": {},
     "output_type": "execute_result"
    }
   ],
   "source": [
    "train.isna().sum()/len(train)"
   ]
  },
  {
   "cell_type": "code",
   "execution_count": 26,
   "metadata": {},
   "outputs": [
    {
     "data": {
      "text/plain": [
       "id           0.0\n",
       "n            0.0\n",
       "p            0.0\n",
       "f            0.0\n",
       "x            0.0\n",
       "y            0.0\n",
       "z            0.0\n",
       "a1           0.0\n",
       "a2           0.0\n",
       "a3           0.0\n",
       "a4           0.0\n",
       "b1           0.0\n",
       "b2           0.0\n",
       "b3           0.0\n",
       "b4           0.0\n",
       "c1           0.0\n",
       "c2           0.0\n",
       "c3           0.0\n",
       "c4           0.0\n",
       "g1           0.0\n",
       "g2           0.0\n",
       "l1           0.0\n",
       "l2           0.0\n",
       "l3           0.0\n",
       "l4           0.0\n",
       "e1           0.0\n",
       "e2           0.0\n",
       "volume       0.0\n",
       "densidade    0.0\n",
       "dtype: float64"
      ]
     },
     "execution_count": 26,
     "metadata": {},
     "output_type": "execute_result"
    }
   ],
   "source": [
    "test.isna().sum()/len(train)"
   ]
  },
  {
   "cell_type": "code",
   "execution_count": 27,
   "metadata": {},
   "outputs": [
    {
     "data": {
      "text/plain": [
       "count    11940.000000\n",
       "mean        -0.202591\n",
       "std          0.116617\n",
       "min         -0.613000\n",
       "25%         -0.284000\n",
       "50%         -0.205000\n",
       "75%         -0.122000\n",
       "max          0.266000\n",
       "Name: cent_price_cor, dtype: float64"
      ]
     },
     "execution_count": 27,
     "metadata": {},
     "output_type": "execute_result"
    }
   ],
   "source": [
    "train.cent_price_cor.describe()"
   ]
  },
  {
   "cell_type": "code",
   "execution_count": 8,
   "metadata": {},
   "outputs": [
    {
     "data": {
      "text/plain": [
       "count    11940.000000\n",
       "mean         0.362586\n",
       "std          0.115221\n",
       "min         -0.399000\n",
       "25%          0.294000\n",
       "50%          0.372000\n",
       "75%          0.443000\n",
       "max          0.717000\n",
       "Name: cent_trans_cor, dtype: float64"
      ]
     },
     "execution_count": 8,
     "metadata": {},
     "output_type": "execute_result"
    }
   ],
   "source": [
    "train.cent_trans_cor.describe()"
   ]
  },
  {
   "cell_type": "code",
   "execution_count": 13,
   "metadata": {},
   "outputs": [
    {
     "data": {
      "text/plain": [
       "a4                0.000458\n",
       "a2                0.000586\n",
       "l3                0.000939\n",
       "p                 0.001929\n",
       "b3                0.002147\n",
       "b4                0.002732\n",
       "z                 0.003054\n",
       "l4                0.003316\n",
       "e2                0.003390\n",
       "b1                0.004355\n",
       "x                 0.004589\n",
       "c1                0.004732\n",
       "densidade         0.004775\n",
       "l2                0.004810\n",
       "g1                0.005781\n",
       "c4                0.005893\n",
       "f                 0.006039\n",
       "n                 0.006058\n",
       "volume            0.006063\n",
       "a1                0.006230\n",
       "c2                0.006745\n",
       "y                 0.009405\n",
       "a3                0.014581\n",
       "c3                0.016272\n",
       "l1                0.017993\n",
       "e1                0.018194\n",
       "g2                0.021134\n",
       "b2                0.021684\n",
       "cent_trans_cor    0.664482\n",
       "cent_price_cor    1.000000\n",
       "Name: cent_price_cor, dtype: float64"
      ]
     },
     "execution_count": 13,
     "metadata": {},
     "output_type": "execute_result"
    }
   ],
   "source": [
    "train.corr()[\"cent_price_cor\"].abs().sort_values(ascending = True)"
   ]
  },
  {
   "cell_type": "code",
   "execution_count": 14,
   "metadata": {},
   "outputs": [
    {
     "data": {
      "text/plain": [
       "a2                0.000042\n",
       "a3                0.000141\n",
       "a1                0.000264\n",
       "b3                0.000284\n",
       "e2                0.000337\n",
       "c4                0.000903\n",
       "l4                0.000921\n",
       "x                 0.001371\n",
       "c2                0.001442\n",
       "b4                0.001637\n",
       "y                 0.002117\n",
       "l3                0.002189\n",
       "p                 0.002209\n",
       "n                 0.003236\n",
       "c1                0.004218\n",
       "volume            0.004703\n",
       "z                 0.005470\n",
       "l2                0.005727\n",
       "e1                0.005901\n",
       "a4                0.007882\n",
       "densidade         0.007989\n",
       "f                 0.009006\n",
       "g1                0.013346\n",
       "c3                0.015315\n",
       "b1                0.015772\n",
       "b2                0.018168\n",
       "l1                0.020887\n",
       "g2                0.026342\n",
       "cent_price_cor    0.664482\n",
       "cent_trans_cor    1.000000\n",
       "Name: cent_trans_cor, dtype: float64"
      ]
     },
     "execution_count": 14,
     "metadata": {},
     "output_type": "execute_result"
    }
   ],
   "source": [
    "train.corr()[\"cent_trans_cor\"].abs().sort_values(ascending = True)"
   ]
  },
  {
   "cell_type": "code",
   "execution_count": 28,
   "metadata": {},
   "outputs": [
    {
     "data": {
      "text/plain": [
       "Pipeline(steps=[('standardscaler', StandardScaler()),\n",
       "                ('svr', SVR(epsilon=0.2))])"
      ]
     },
     "execution_count": 28,
     "metadata": {},
     "output_type": "execute_result"
    }
   ],
   "source": [
    "X = train.drop(columns = ['cent_price_cor', 'cent_trans_cor'], axis = 1)\n",
    "y_1 = train.cent_price_cor\n",
    "\n",
    "X_train, X_test, y_1_train, y_1_test = train_test_split(X,y_1,\n",
    "                                                    test_size = 0.25,\n",
    "                                                    random_state = 0)\n",
    "\n",
    "\n",
    "#regr = make_pipeline(StandardScaler(), SVR(C=1.0, epsilon=0.2))\n",
    "#regr.fit(X, y)\n",
    "\n",
    "pipe_1 = Pipeline(steps=[('standardscaler', StandardScaler()),\n",
    "                ('svr', SVR(epsilon=0.2))])\n",
    "\n",
    "pipe_1.fit(X_train,y_1_train)\n",
    "\n",
    "#pipe.score(X_test, y_test)"
   ]
  },
  {
   "cell_type": "code",
   "execution_count": 29,
   "metadata": {},
   "outputs": [],
   "source": [
    "y_1_pred = pipe_1.predict(X_test)"
   ]
  },
  {
   "cell_type": "code",
   "execution_count": 30,
   "metadata": {},
   "outputs": [
    {
     "data": {
      "text/plain": [
       "0.09784398363826143"
      ]
     },
     "execution_count": 30,
     "metadata": {},
     "output_type": "execute_result"
    }
   ],
   "source": [
    "mean_absolute_error(y_1_test, y_1_pred)"
   ]
  },
  {
   "cell_type": "code",
   "execution_count": 19,
   "metadata": {},
   "outputs": [
    {
     "data": {
      "text/plain": [
       "0.10156486690287644"
      ]
     },
     "execution_count": 19,
     "metadata": {},
     "output_type": "execute_result"
    }
   ],
   "source": [
    "X = train.drop(columns = ['cent_price_cor', 'cent_trans_cor'], axis = 1)\n",
    "y_2 = train.cent_trans_cor\n",
    "\n",
    "X_train, X_test, y_2_train, y_2_test = train_test_split(X,y_2,\n",
    "                                                    test_size = 0.25,\n",
    "                                                    random_state = 0)\n",
    "\n",
    "\n",
    "#regr = make_pipeline(StandardScaler(), SVR(C=1.0, epsilon=0.2))\n",
    "#regr.fit(X, y)\n",
    "\n",
    "pipe_2 = Pipeline(steps=[('standardscaler', StandardScaler()),\n",
    "                ('svr', SVR(epsilon=0.2))])\n",
    "\n",
    "pipe_2.fit(X_train,y_2_train)\n",
    "\n",
    "y_2_pred = pipe_2.predict(X_test)\n",
    "\n",
    "mean_absolute_error(y_2_test, y_2_pred)"
   ]
  },
  {
   "cell_type": "markdown",
   "metadata": {},
   "source": [
    "## PCA"
   ]
  },
  {
   "cell_type": "code",
   "execution_count": 41,
   "metadata": {},
   "outputs": [],
   "source": [
    "X = train.drop(columns = ['cent_price_cor', 'cent_trans_cor'], axis = 1)\n",
    "\n",
    "scaler = StandardScaler()\n",
    "\n",
    "transf_X_train = scaler.fit_transform(X_train)\n",
    "transf_X_test = scaler.fit_transform(X_test)"
   ]
  },
  {
   "cell_type": "code",
   "execution_count": 40,
   "metadata": {},
   "outputs": [],
   "source": [
    "y_price = train.cent_price_cor\n",
    "y_trans = train.cent_trans_cor\n",
    "\n",
    "X_train, X_test, y_price_train, y_price_test = train_test_split(X,y_price,\n",
    "                                                    test_size = 0.25,\n",
    "                                                    random_state = 0)\n",
    "\n",
    "X_train, X_test, y_trans_train, y_trans_test = train_test_split(X,y_trans,\n",
    "                                                    test_size = 0.25,\n",
    "                                                    random_state = 0)"
   ]
  },
  {
   "cell_type": "code",
   "execution_count": 215,
   "metadata": {},
   "outputs": [],
   "source": [
    "models = {'Linear Regression': LinearRegression(n_jobs = -1),\n",
    "          'SVR': SVR(epsilon=0.2),\n",
    "          'Lasso': Lasso(),\n",
    "          'XGBoostRegressor': XGBRegressor()}"
   ]
  },
  {
   "cell_type": "code",
   "execution_count": 220,
   "metadata": {},
   "outputs": [],
   "source": [
    "def fit_score_PCA(models,X_train,y_train,X_test,y_test,components):\n",
    "\n",
    "    # Make a dict to keep model scores\n",
    "    model_scores = {}\n",
    "    \n",
    "    for i in components:\n",
    "        \n",
    "        pca = PCA(n_components = i)\n",
    "        X_train_PCA = pca.fit_transform(X_train)\n",
    "        X_test_PCA = pca.transform(X_test)\n",
    "\n",
    "        # Loop through models\n",
    "        for name, model in models.items():\n",
    "\n",
    "            # Fit the model to the data\n",
    "            model.fit(X_train_PCA,y_train)\n",
    "        \n",
    "            y_pred = model.predict(X_test_PCA)\n",
    "\n",
    "            #Evaluates the model and append its score to model_scores\n",
    "            model_scores[name + '_' + str(i)] = mean_absolute_error(y_test, y_pred)\n",
    "\n",
    "    return model_scores"
   ]
  },
  {
   "cell_type": "code",
   "execution_count": 163,
   "metadata": {},
   "outputs": [],
   "source": [
    "model_scores_trans = fit_score_PCA(models,X_train,y_trans_train,X_test,y_trans_test, 0.95)\n",
    "model_scores_price = fit_score_PCA(models,X_train,y_price_train,X_test,y_price_test, 0.95)"
   ]
  },
  {
   "cell_type": "code",
   "execution_count": 164,
   "metadata": {},
   "outputs": [
    {
     "data": {
      "text/plain": [
       "{'Linear Regression_0.95': 0.090252152275057, 'SVR_0.95': 0.09325218584031905}"
      ]
     },
     "execution_count": 164,
     "metadata": {},
     "output_type": "execute_result"
    }
   ],
   "source": [
    "model_scores_trans"
   ]
  },
  {
   "cell_type": "code",
   "execution_count": 165,
   "metadata": {},
   "outputs": [
    {
     "data": {
      "text/plain": [
       "{'Linear Regression_0.95': 0.0941312117033256, 'SVR_0.95': 0.0943234245525932}"
      ]
     },
     "execution_count": 165,
     "metadata": {},
     "output_type": "execute_result"
    }
   ],
   "source": [
    "model_scores_price"
   ]
  },
  {
   "cell_type": "code",
   "execution_count": 129,
   "metadata": {},
   "outputs": [
    {
     "data": {
      "text/plain": [
       "0.1843833639783826"
      ]
     },
     "execution_count": 129,
     "metadata": {},
     "output_type": "execute_result"
    }
   ],
   "source": [
    "# Melhores scores para 0.95 (sem scaling)\n",
    "0.0941312117033256 + 0.090252152275057"
   ]
  },
  {
   "cell_type": "code",
   "execution_count": 181,
   "metadata": {},
   "outputs": [],
   "source": [
    "model_scores_trans = fit_score_PCA(models,transf_X_train,y_trans_train,transf_X_test,y_trans_test, 1)\n",
    "model_scores_price = fit_score_PCA(models,transf_X_train,y_price_train,transf_X_test,y_price_test, 1)"
   ]
  },
  {
   "cell_type": "code",
   "execution_count": 182,
   "metadata": {},
   "outputs": [
    {
     "data": {
      "text/plain": [
       "{'Linear Regression_1': 0.09025552474334281, 'SVR_1': 0.09314800378339827}"
      ]
     },
     "execution_count": 182,
     "metadata": {},
     "output_type": "execute_result"
    }
   ],
   "source": [
    "model_scores_trans"
   ]
  },
  {
   "cell_type": "code",
   "execution_count": 183,
   "metadata": {},
   "outputs": [
    {
     "data": {
      "text/plain": [
       "{'Linear Regression_1': 0.0941305091243686, 'SVR_1': 0.09434737464316084}"
      ]
     },
     "execution_count": 183,
     "metadata": {},
     "output_type": "execute_result"
    }
   ],
   "source": [
    "model_scores_price"
   ]
  },
  {
   "cell_type": "code",
   "execution_count": 184,
   "metadata": {},
   "outputs": [
    {
     "data": {
      "text/plain": [
       "0.1843860338677114"
      ]
     },
     "execution_count": 184,
     "metadata": {},
     "output_type": "execute_result"
    }
   ],
   "source": [
    "# Melhores scores para 0.95 (com scaling)\n",
    "0.0941305091243686 + 0.09025552474334281"
   ]
  },
  {
   "cell_type": "code",
   "execution_count": 191,
   "metadata": {},
   "outputs": [],
   "source": [
    "pca = PCA(n_components = 0.95)\n",
    "X_train_PCA = pca.fit_transform(X_train)\n",
    "X_train_new = pca.inverse_transform(X_train_PCA)"
   ]
  },
  {
   "cell_type": "code",
   "execution_count": 188,
   "metadata": {},
   "outputs": [
    {
     "data": {
      "text/plain": [
       "(8955, 1)"
      ]
     },
     "execution_count": 188,
     "metadata": {},
     "output_type": "execute_result"
    }
   ],
   "source": [
    "X_train_PCA.shape"
   ]
  },
  {
   "cell_type": "code",
   "execution_count": 194,
   "metadata": {},
   "outputs": [
    {
     "data": {
      "text/plain": [
       "array([[5.49096260e+02, 6.99219199e-01, 3.49636606e-01, ...,\n",
       "        1.53677206e+00, 3.24864513e+03, 8.28929138e+00],\n",
       "       [5.51485381e+02, 6.98133329e-01, 3.49149716e-01, ...,\n",
       "        1.52176766e+00, 4.60802255e+03, 1.17461375e+01],\n",
       "       [5.52876645e+02, 6.97500991e-01, 3.48866183e-01, ...,\n",
       "        1.51303010e+00, 5.39963310e+03, 1.37591737e+01],\n",
       "       ...,\n",
       "       [5.48060457e+02, 6.99689978e-01, 3.49847698e-01, ...,\n",
       "        1.54327721e+00, 2.65928739e+03, 6.79057661e+00],\n",
       "       [5.48923295e+02, 6.99297813e-01, 3.49671856e-01, ...,\n",
       "        1.53785833e+00, 3.15023034e+03, 8.03902622e+00],\n",
       "       [5.49976913e+02, 6.98818936e-01, 3.49457134e-01, ...,\n",
       "        1.53124129e+00, 3.74972508e+03, 9.56351902e+00]])"
      ]
     },
     "execution_count": 194,
     "metadata": {},
     "output_type": "execute_result"
    }
   ],
   "source": [
    "X_train_new"
   ]
  },
  {
   "cell_type": "code",
   "execution_count": 205,
   "metadata": {},
   "outputs": [],
   "source": [
    "model_scores_trans = fit_score_PCA(models,transf_X_train,y_trans_train,transf_X_test,y_trans_test, 1)\n",
    "model_scores_price = fit_score_PCA(models,transf_X_train,y_price_train,transf_X_test,y_price_test, 1)"
   ]
  },
  {
   "cell_type": "code",
   "execution_count": 206,
   "metadata": {},
   "outputs": [
    {
     "data": {
      "text/plain": [
       "{'Linear Regression_1': 0.09025552241210459, 'SVR_1': 0.08988317025453602}"
      ]
     },
     "execution_count": 206,
     "metadata": {},
     "output_type": "execute_result"
    }
   ],
   "source": [
    "model_scores_trans"
   ]
  },
  {
   "cell_type": "code",
   "execution_count": 207,
   "metadata": {},
   "outputs": [
    {
     "data": {
      "text/plain": [
       "{'Linear Regression_1': 0.09413048668977937, 'SVR_1': 0.09427475193630569}"
      ]
     },
     "execution_count": 207,
     "metadata": {},
     "output_type": "execute_result"
    }
   ],
   "source": [
    "model_scores_price"
   ]
  },
  {
   "cell_type": "code",
   "execution_count": 208,
   "metadata": {},
   "outputs": [
    {
     "data": {
      "text/plain": [
       "array([0.97396062])"
      ]
     },
     "execution_count": 208,
     "metadata": {},
     "output_type": "execute_result"
    }
   ],
   "source": [
    "pca.explained_variance_ratio_"
   ]
  },
  {
   "cell_type": "code",
   "execution_count": 221,
   "metadata": {},
   "outputs": [],
   "source": [
    "model_scores_trans = fit_score_PCA(models,transf_X_train,y_trans_train,transf_X_test,y_trans_test, [0.91,0.95,1])\n",
    "model_scores_price = fit_score_PCA(models,transf_X_train,y_price_train,transf_X_test,y_price_test, [0.91,0.95,1])"
   ]
  },
  {
   "cell_type": "code",
   "execution_count": 229,
   "metadata": {},
   "outputs": [
    {
     "data": {
      "text/plain": [
       "['Linear Regression_0.95',\n",
       " 'Linear Regression_0.9',\n",
       " 'Lasso_0.8',\n",
       " 'Lasso_0.85',\n",
       " 'Lasso_0.9',\n",
       " 'Lasso_0.95',\n",
       " 'Linear Regression_0.8',\n",
       " 'Linear Regression_0.85',\n",
       " 'XGBoostRegressor_0.8',\n",
       " 'XGBoostRegressor_0.85',\n",
       " 'XGBoostRegressor_0.9',\n",
       " 'XGBoostRegressor_0.95',\n",
       " 'SVR_0.9',\n",
       " 'SVR_0.95',\n",
       " 'SVR_0.85',\n",
       " 'SVR_0.8']"
      ]
     },
     "execution_count": 229,
     "metadata": {},
     "output_type": "execute_result"
    }
   ],
   "source": [
    "#'Linear Regression_0.95': 0.09020619481829613\n",
    "\n",
    "sorted(model_scores_trans, key = model_scores_trans.get)"
   ]
  },
  {
   "cell_type": "code",
   "execution_count": 233,
   "metadata": {},
   "outputs": [
    {
     "data": {
      "text/plain": [
       "['Lasso_0.8',\n",
       " 'Lasso_0.85',\n",
       " 'Lasso_0.9',\n",
       " 'Lasso_0.95',\n",
       " 'Linear Regression_0.8',\n",
       " 'Linear Regression_0.85',\n",
       " 'Linear Regression_0.95',\n",
       " 'Linear Regression_0.9',\n",
       " 'SVR_0.95',\n",
       " 'SVR_0.8',\n",
       " 'SVR_0.9',\n",
       " 'SVR_0.85',\n",
       " 'XGBoostRegressor_0.8',\n",
       " 'XGBoostRegressor_0.85',\n",
       " 'XGBoostRegressor_0.95',\n",
       " 'XGBoostRegressor_0.9']"
      ]
     },
     "execution_count": 233,
     "metadata": {},
     "output_type": "execute_result"
    }
   ],
   "source": [
    "# 'Lasso_0.91': 0.09411110306791731,\n",
    "sorted(model_scores_price, key = model_scores_price.get)"
   ]
  },
  {
   "cell_type": "code",
   "execution_count": 242,
   "metadata": {},
   "outputs": [],
   "source": [
    "model_scores_trans = fit_score_PCA(models,transf_X_train,y_trans_train,transf_X_test,y_trans_test, [0.8,0.85,0.9,0.95])\n",
    "model_scores_price = fit_score_PCA(models,transf_X_train,y_price_train,transf_X_test,y_price_test, [0.8,0.85,0.9,0.95])"
   ]
  },
  {
   "cell_type": "code",
   "execution_count": 243,
   "metadata": {},
   "outputs": [
    {
     "data": {
      "text/plain": [
       "{'Lasso_0.8': 0.09411110306791731,\n",
       " 'Lasso_0.85': 0.09411110306791731,\n",
       " 'Lasso_0.9': 0.09411110306791731,\n",
       " 'Lasso_0.95': 0.09411110306791731,\n",
       " 'Linear Regression_0.8': 0.09412906698248015,\n",
       " 'Linear Regression_0.85': 0.09413526825345335,\n",
       " 'Linear Regression_0.95': 0.09417792238315124,\n",
       " 'Linear Regression_0.9': 0.09417835915003633,\n",
       " 'SVR_0.95': 0.09830355128110657,\n",
       " 'SVR_0.8': 0.09867283562978826,\n",
       " 'SVR_0.9': 0.09886755546696292,\n",
       " 'SVR_0.85': 0.0988679542608788,\n",
       " 'XGBoostRegressor_0.8': 0.09890212738235891,\n",
       " 'XGBoostRegressor_0.85': 0.0999802408140446,\n",
       " 'XGBoostRegressor_0.95': 0.10000986378128596,\n",
       " 'XGBoostRegressor_0.9': 0.10054150387570636}"
      ]
     },
     "execution_count": 243,
     "metadata": {},
     "output_type": "execute_result"
    }
   ],
   "source": [
    "{k: v for k, v in sorted(model_scores_price.items(), key=lambda item: item[1])}"
   ]
  },
  {
   "cell_type": "code",
   "execution_count": 244,
   "metadata": {},
   "outputs": [
    {
     "data": {
      "text/plain": [
       "{'Linear Regression_0.95': 0.09020619481829613,\n",
       " 'Linear Regression_0.9': 0.09021593345191478,\n",
       " 'Lasso_0.8': 0.09025387237696017,\n",
       " 'Lasso_0.85': 0.09025387237696017,\n",
       " 'Lasso_0.9': 0.09025387237696017,\n",
       " 'Lasso_0.95': 0.09025387237696017,\n",
       " 'Linear Regression_0.8': 0.09027843455103547,\n",
       " 'Linear Regression_0.85': 0.09027974390379653,\n",
       " 'XGBoostRegressor_0.8': 0.09563093914150993,\n",
       " 'XGBoostRegressor_0.85': 0.09590681287196014,\n",
       " 'XGBoostRegressor_0.9': 0.09602769537295529,\n",
       " 'XGBoostRegressor_0.95': 0.09618455696513305,\n",
       " 'SVR_0.9': 0.10137796527210743,\n",
       " 'SVR_0.95': 0.10148067436569513,\n",
       " 'SVR_0.85': 0.10161959666980419,\n",
       " 'SVR_0.8': 0.10193300114896167}"
      ]
     },
     "execution_count": 244,
     "metadata": {},
     "output_type": "execute_result"
    }
   ],
   "source": [
    "{k: v for k, v in sorted(model_scores_trans.items(), key=lambda item: item[1])}"
   ]
  },
  {
   "cell_type": "markdown",
   "metadata": {},
   "source": [
    "## GridSearch\n",
    "\n",
    "<br>\n",
    "\n",
    "[Link](https://stackoverflow.com/questions/50285973/pipeline-multiple-classifiers?answertab=votes#tab-top) de referência para múltiplos modelos com o pipeline."
   ]
  },
  {
   "cell_type": "code",
   "execution_count": 94,
   "metadata": {},
   "outputs": [],
   "source": [
    "params_grid = [\n",
    "\n",
    "#Linear Regression\n",
    "{'normalize': ['True', 'False'],\n",
    "'fit_intercept': ['True', 'False']},\n",
    "    \n",
    "#SVR RBF\n",
    "{'kernel': ['rbf'],\n",
    "'C':[0.1, 0.5, 1, 5, 10],\n",
    "'degree': [3,8],\n",
    "'coef0': [0.01,10,0.5],\n",
    "'gamma': ('auto','scale'),\n",
    "'epsilon': [0.1,0.2]},\n",
    "    \n",
    "#SVR POLY\n",
    "{'kernel': ['poly'],\n",
    "'C':[0.1, 0.5, 1, 5, 10],\n",
    "'degree': [3,8],\n",
    "'coef0': [0.01,10,0.5],\n",
    "'gamma': ('auto','scale'),\n",
    "'epsilon': [0.1,0.2]},\n",
    "    \n",
    "#Lasso\n",
    "{'alpha':[0.02, 0.024, 0.025, 0.026, 0.03],\n",
    "'fit_alpha':[0.005, 0.02, 0.03, 0.05, 0.06]},  \n",
    "    \n",
    "# XGBoost\n",
    "{'nthread':[4], #when use hyperthread, xgboost may become slower\n",
    "'objective':['reg:linear'],\n",
    "'learning_rate': [.03, 0.05, .07], #so called `eta` value\n",
    "'max_depth': [5, 6, 7],\n",
    "'min_child_weight': [4],\n",
    "'silent': [1],\n",
    "'subsample': [0.7],\n",
    "'colsample_bytree': [0.7],\n",
    "'n_estimators': [500]}]"
   ]
  },
  {
   "cell_type": "code",
   "execution_count": 124,
   "metadata": {},
   "outputs": [],
   "source": [
    " def prever(X_train, X_test, y_train, y_test):\n",
    "    \n",
    "    lista_scores = []\n",
    "    lista_params = []\n",
    "    lista_PCA = []\n",
    "    \n",
    "    components = [0.8,0.85,0.9,0.95]\n",
    "    \n",
    "    models = [LinearRegression(),\n",
    "              SVR(),\n",
    "              SVR(),\n",
    "              Lasso(),\n",
    "              XGBRegressor()]\n",
    "            \n",
    "    for i, model in enumerate(models):\n",
    "                    \n",
    "            for n in components:\n",
    "\n",
    "                pca = PCA(n_components = n)\n",
    "                X_train_PCA = pca.fit_transform(X_train)\n",
    "                X_test_PCA = pca.transform(X_test)\n",
    "\n",
    "                clf = GridSearchCV(model, param_grid = params_grid[i],\n",
    "                                   scoring = 'neg_mean_absolute_error', #destaque à métrica pedida\n",
    "                                   n_jobs=2, refit=True, cv=5, verbose=True,\n",
    "                                   pre_dispatch='2*n_jobs', error_score='raise', \n",
    "                                   return_train_score=True)\n",
    "\n",
    "                clf.fit(X_train, y_train)\n",
    "\n",
    "                clf_fit = model\n",
    "                params = clf_fit.set_params(**clf.best_params_)\n",
    "\n",
    "                clf_fit.fit(X_train, y_train)\n",
    "                score = clf_fit.score(X_test, y_test)\n",
    "\n",
    "                lista_params.append(params)\n",
    "                lista_score.append(score)\n",
    "                lista_PCA.append(n)\n",
    "\n",
    "\n",
    "    df_scores = pd.DataFrame(lista_scores)\n",
    "    df_scores.insert(loc=0, column='PCA', value= pd.Series(lista_PCA))\n",
    "    df_scores.insert(loc=0, column='params', value= pd.Series(lista_params))\n",
    "            \n",
    "    return df_scores"
   ]
  },
  {
   "cell_type": "code",
   "execution_count": null,
   "metadata": {},
   "outputs": [
    {
     "name": "stdout",
     "output_type": "stream",
     "text": [
      "Fitting 5 folds for each of 4 candidates, totalling 20 fits\n"
     ]
    },
    {
     "name": "stderr",
     "output_type": "stream",
     "text": [
      "[Parallel(n_jobs=2)]: Using backend LokyBackend with 2 concurrent workers.\n",
      "[Parallel(n_jobs=2)]: Done  20 out of  20 | elapsed:    2.5s finished\n",
      "[Parallel(n_jobs=2)]: Using backend LokyBackend with 2 concurrent workers.\n"
     ]
    },
    {
     "name": "stdout",
     "output_type": "stream",
     "text": [
      "Fitting 5 folds for each of 4 candidates, totalling 20 fits\n"
     ]
    },
    {
     "name": "stderr",
     "output_type": "stream",
     "text": [
      "[Parallel(n_jobs=2)]: Done  20 out of  20 | elapsed:    0.2s finished\n",
      "[Parallel(n_jobs=2)]: Using backend LokyBackend with 2 concurrent workers.\n"
     ]
    },
    {
     "name": "stdout",
     "output_type": "stream",
     "text": [
      "Fitting 5 folds for each of 4 candidates, totalling 20 fits\n"
     ]
    },
    {
     "name": "stderr",
     "output_type": "stream",
     "text": [
      "[Parallel(n_jobs=2)]: Done  20 out of  20 | elapsed:    0.3s finished\n",
      "[Parallel(n_jobs=2)]: Using backend LokyBackend with 2 concurrent workers.\n"
     ]
    },
    {
     "name": "stdout",
     "output_type": "stream",
     "text": [
      "Fitting 5 folds for each of 4 candidates, totalling 20 fits\n"
     ]
    },
    {
     "name": "stderr",
     "output_type": "stream",
     "text": [
      "[Parallel(n_jobs=2)]: Done  20 out of  20 | elapsed:    0.2s finished\n",
      "[Parallel(n_jobs=2)]: Using backend LokyBackend with 2 concurrent workers.\n"
     ]
    },
    {
     "name": "stdout",
     "output_type": "stream",
     "text": [
      "Fitting 5 folds for each of 120 candidates, totalling 600 fits\n"
     ]
    }
   ],
   "source": [
    "prever(X_train, X_test, y_price_train, y_price_test)"
   ]
  },
  {
   "cell_type": "code",
   "execution_count": null,
   "metadata": {},
   "outputs": [],
   "source": []
  }
 ],
 "metadata": {
  "kernelspec": {
   "display_name": "Python 3",
   "language": "python",
   "name": "python3"
  },
  "language_info": {
   "codemirror_mode": {
    "name": "ipython",
    "version": 3
   },
   "file_extension": ".py",
   "mimetype": "text/x-python",
   "name": "python",
   "nbconvert_exporter": "python",
   "pygments_lexer": "ipython3",
   "version": "3.8.5"
  }
 },
 "nbformat": 4,
 "nbformat_minor": 4
}
