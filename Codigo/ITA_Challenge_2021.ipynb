{
 "cells": [
  {
   "cell_type": "markdown",
   "metadata": {},
   "source": [
    "## ITA 2021\n",
    "\n",
    "<br>\n",
    "\n",
    "Dicionário de Dados:\n",
    "\n",
    "* n: número de agentes\n",
    "* p: fração de traders\n",
    "* f: grau de interesse dos traders\n",
    "* x, y, z: dimensões do espaço aéreo\n",
    "* a1, a2: média e desvio padrão do coeficiente do preço fundamental dos consumidores\n",
    "* a3, a4: idem para os traders\n",
    "* b1, b2: média e desvio padrão do coeficiente do preço de mercado dos consumidores\n",
    "* b3, b4: idem para os traders\n",
    "* c1, c2: média e desvio padrão do coeficiente do preço aleatório dos consumidores\n",
    "* c3, c4: idem para os traders\n",
    "* g1, g2: média e desvio padrão do grau de agressividade dos consumidores\n",
    "* l1, l2: média e desvio padrão do coeficiente de desvalorização para os consumidores\n",
    "* l3, l4: idem para os traders\n",
    "* e1, e2: variabilidade no preço fundamental dos consumidores e traders, respectivamente\n",
    "* cent_price_cor: correlação entre o preço final e centralidade das permissões de vôo\n",
    "* cent_trans_cor: idem para o número de transações"
   ]
  },
  {
   "cell_type": "code",
   "execution_count": null,
   "metadata": {},
   "outputs": [],
   "source": [
    "import sys\n",
    "!{sys.executable} -m pip install jupyternotify"
   ]
  },
  {
   "cell_type": "code",
   "execution_count": 1,
   "metadata": {},
   "outputs": [
    {
     "data": {
      "application/javascript": [
       "if (!(\"Notification\" in window)) {\n",
       "    alert(\"This browser does not support desktop notifications, so the %%notify magic will not work.\");\n",
       "} else if (Notification.permission !== 'granted' && Notification.permission !== 'denied') {\n",
       "    Notification.requestPermission(function (permission) {\n",
       "        if(!('permission' in Notification)) {\n",
       "            Notification.permission = permission;\n",
       "        }\n",
       "    })\n",
       "}\n"
      ],
      "text/plain": [
       "<IPython.core.display.Javascript object>"
      ]
     },
     "metadata": {},
     "output_type": "display_data"
    }
   ],
   "source": [
    "%load_ext jupyternotify"
   ]
  },
  {
   "cell_type": "code",
   "execution_count": 1,
   "metadata": {},
   "outputs": [],
   "source": [
    "# Importando Ferramentas Básicas\n",
    "import pandas                  as pd\n",
    "import matplotlib.pyplot       as plt\n",
    "import numpy                   as np\n",
    "import                            os\n",
    "from   datetime            import datetime"
   ]
  },
  {
   "cell_type": "code",
   "execution_count": 2,
   "metadata": {},
   "outputs": [],
   "source": [
    "# Importando Ferramentas de Limpeza\n",
    "from sklearn.decomposition    import PCA\n",
    "from sklearn.preprocessing    import StandardScaler\n",
    "from sklearn.pipeline         import make_pipeline, Pipeline"
   ]
  },
  {
   "cell_type": "code",
   "execution_count": 3,
   "metadata": {},
   "outputs": [],
   "source": [
    "# Importando Ferramentas de Modelo\n",
    "from sklearn.svm              import SVR\n",
    "from xgboost                  import XGBRegressor\n",
    "from sklearn.model_selection  import train_test_split\n",
    "from sklearn.model_selection  import GridSearchCV, RandomizedSearchCV\n",
    "from sklearn.metrics          import accuracy_score, mean_absolute_error\n",
    "from sklearn.linear_model     import LinearRegression, LogisticRegression, Lasso\n",
    "from sklearn.base             import BaseEstimator"
   ]
  },
  {
   "cell_type": "code",
   "execution_count": 63,
   "metadata": {},
   "outputs": [],
   "source": [
    "# Importando os dados\n",
    "train = pd.read_csv('./../Dados/train.csv')\n",
    "test = pd.read_csv('./../Dados/test.csv')"
   ]
  },
  {
   "cell_type": "code",
   "execution_count": 64,
   "metadata": {},
   "outputs": [],
   "source": [
    "# Criando Features\n",
    "dataframes = [train, test]\n",
    "\n",
    "for df in dataframes:\n",
    "    df['volume']  = df.x * df.y * df.z\n",
    "    df['densidade'] = df.volume / df.n"
   ]
  },
  {
   "cell_type": "code",
   "execution_count": null,
   "metadata": {},
   "outputs": [],
   "source": [
    "train.head()"
   ]
  },
  {
   "cell_type": "code",
   "execution_count": null,
   "metadata": {},
   "outputs": [],
   "source": [
    "test.head()"
   ]
  },
  {
   "cell_type": "code",
   "execution_count": null,
   "metadata": {},
   "outputs": [],
   "source": [
    "train.isna().sum()/len(train)"
   ]
  },
  {
   "cell_type": "code",
   "execution_count": null,
   "metadata": {},
   "outputs": [],
   "source": [
    "test.isna().sum()/len(train)"
   ]
  },
  {
   "cell_type": "code",
   "execution_count": null,
   "metadata": {},
   "outputs": [],
   "source": [
    "train.cent_price_cor.describe()"
   ]
  },
  {
   "cell_type": "code",
   "execution_count": null,
   "metadata": {},
   "outputs": [],
   "source": [
    "train.cent_trans_cor.describe()"
   ]
  },
  {
   "cell_type": "code",
   "execution_count": null,
   "metadata": {},
   "outputs": [],
   "source": [
    "train.corr()[\"cent_price_cor\"].abs().sort_values(ascending = True)"
   ]
  },
  {
   "cell_type": "code",
   "execution_count": null,
   "metadata": {},
   "outputs": [],
   "source": [
    "train.corr()[\"cent_trans_cor\"].abs().sort_values(ascending = True)"
   ]
  },
  {
   "cell_type": "code",
   "execution_count": null,
   "metadata": {},
   "outputs": [],
   "source": [
    "y_1_pred = pipe_1.predict(X_test)"
   ]
  },
  {
   "cell_type": "code",
   "execution_count": null,
   "metadata": {},
   "outputs": [],
   "source": [
    "mean_absolute_error(y_1_test, y_1_pred)"
   ]
  },
  {
   "cell_type": "markdown",
   "metadata": {},
   "source": [
    "## PCA"
   ]
  },
  {
   "cell_type": "code",
   "execution_count": 27,
   "metadata": {},
   "outputs": [],
   "source": [
    "X = train.drop(columns = ['cent_price_cor', 'cent_trans_cor'], axis = 1)\n",
    "\n",
    "scaler = StandardScaler()\n",
    "\n",
    "transf_X_train = scaler.fit_transform(X_train)\n",
    "transf_X_test = scaler.fit_transform(X_test)"
   ]
  },
  {
   "cell_type": "code",
   "execution_count": 28,
   "metadata": {},
   "outputs": [],
   "source": [
    "y_price = train.cent_price_cor\n",
    "y_trans = train.cent_trans_cor\n",
    "\n",
    "X_train, X_test, y_price_train, y_price_test = train_test_split(X,y_price,\n",
    "                                                    test_size = 0.25,\n",
    "                                                    random_state = 0)\n",
    "\n",
    "X_train, X_test, y_trans_train, y_trans_test = train_test_split(X,y_trans,\n",
    "                                                    test_size = 0.25,\n",
    "                                                    random_state = 0)"
   ]
  },
  {
   "cell_type": "code",
   "execution_count": 29,
   "metadata": {},
   "outputs": [],
   "source": [
    "models = {'Linear Regression': LinearRegression(n_jobs = -1),\n",
    "          'SVR': SVR(epsilon=0.2),\n",
    "          'Lasso': Lasso(),\n",
    "          'XGBoostRegressor': XGBRegressor()}"
   ]
  },
  {
   "cell_type": "code",
   "execution_count": 67,
   "metadata": {},
   "outputs": [],
   "source": [
    "def fit_score_PCA(models,X_train,y_train,X_test,y_test,components):\n",
    "\n",
    "    # Make a dict to keep model scores\n",
    "    model_scores = {}\n",
    "    \n",
    "    for i in components:\n",
    "        \n",
    "        pca = PCA(n_components = i)\n",
    "        X_train_PCA = pca.fit_transform(X_train)\n",
    "        X_test_PCA = pca.transform(X_test)\n",
    "        \n",
    "        print(X_train_PCA.shape)\n",
    "        print(X_test_PCA.shape)\n",
    "\n",
    "        # Loop through models\n",
    "        for name, model in models.items():\n",
    "\n",
    "            # Fit the model to the data\n",
    "            model.fit(X_train_PCA,y_train)\n",
    "        \n",
    "            y_pred = model.predict(X_test_PCA)\n",
    "\n",
    "            #Evaluates the model and append its score to model_scores\n",
    "            model_scores[name + '_' + str(i)] = mean_absolute_error(y_test, y_pred)\n",
    "\n",
    "    return model_scores"
   ]
  },
  {
   "cell_type": "code",
   "execution_count": 68,
   "metadata": {},
   "outputs": [
    {
     "name": "stdout",
     "output_type": "stream",
     "text": [
      "(8955, 1)\n",
      "(2985, 1)\n",
      "(8955, 1)\n",
      "(2985, 1)\n"
     ]
    }
   ],
   "source": [
    "model_scores_trans = fit_score_PCA(models,X_train,y_trans_train,X_test,y_trans_test, [0.95])\n",
    "model_scores_price = fit_score_PCA(models,X_train,y_price_train,X_test,y_price_test, [0.95])"
   ]
  },
  {
   "cell_type": "code",
   "execution_count": null,
   "metadata": {},
   "outputs": [],
   "source": [
    "# Melhores scores para 0.95 (sem scaling)\n",
    "0.0941312117033256 + 0.090252152275057"
   ]
  },
  {
   "cell_type": "code",
   "execution_count": 61,
   "metadata": {},
   "outputs": [
    {
     "name": "stdout",
     "output_type": "stream",
     "text": [
      "(8955, 4)\n",
      "(8955, 1)\n"
     ]
    }
   ],
   "source": [
    "model_scores_trans = fit_score_PCA(models,transf_X_train,y_trans_train,transf_X_test,y_trans_test, [0.2])\n",
    "model_scores_price = fit_score_PCA(models,transf_X_train,y_price_train,transf_X_test,y_price_test, [1])"
   ]
  },
  {
   "cell_type": "code",
   "execution_count": null,
   "metadata": {},
   "outputs": [],
   "source": [
    "# Melhores scores para 0.95 (com scaling)\n",
    "0.0941305091243686 + 0.09025552474334281"
   ]
  },
  {
   "cell_type": "code",
   "execution_count": 74,
   "metadata": {},
   "outputs": [
    {
     "name": "stdout",
     "output_type": "stream",
     "text": [
      "(8955, 2)\n",
      "(2985, 2)\n",
      "(8955, 1)\n",
      "(2985, 1)\n"
     ]
    }
   ],
   "source": [
    "model_scores_trans = fit_score_PCA(models,transf_X_train,y_trans_train,transf_X_test,y_trans_test, [0.1])\n",
    "model_scores_price = fit_score_PCA(models,transf_X_train,y_price_train,transf_X_test,y_price_test, [1])"
   ]
  },
  {
   "cell_type": "code",
   "execution_count": 89,
   "metadata": {},
   "outputs": [
    {
     "name": "stdout",
     "output_type": "stream",
     "text": [
      "(8955, 21)\n",
      "(2985, 21)\n",
      "(8955, 22)\n",
      "(2985, 22)\n",
      "(8955, 24)\n",
      "(2985, 24)\n",
      "(8955, 25)\n",
      "(2985, 25)\n"
     ]
    }
   ],
   "source": [
    "model_scores_trans = fit_score_PCA(models,transf_X_train,y_trans_train,transf_X_test,y_trans_test, [0.8,0.85,0.9,0.95])\n",
    "#model_scores_price = fit_score_PCA(models,transf_X_train,y_price_train,transf_X_test,y_price_test, [0.91,0.95,1])"
   ]
  },
  {
   "cell_type": "code",
   "execution_count": 17,
   "metadata": {},
   "outputs": [
    {
     "data": {
      "text/plain": [
       "['Linear Regression_0.95',\n",
       " 'Linear Regression_0.91',\n",
       " 'Lasso_0.91',\n",
       " 'Lasso_0.95',\n",
       " 'Lasso_1',\n",
       " 'Linear Regression_1',\n",
       " 'SVR_1',\n",
       " 'XGBoostRegressor_1',\n",
       " 'XGBoostRegressor_0.91',\n",
       " 'XGBoostRegressor_0.95',\n",
       " 'SVR_0.91',\n",
       " 'SVR_0.95']"
      ]
     },
     "execution_count": 17,
     "metadata": {},
     "output_type": "execute_result"
    }
   ],
   "source": [
    "#'Linear Regression_0.95': 0.09020619481829613\n",
    "\n",
    "sorted(model_scores_trans, key = model_scores_trans.get)"
   ]
  },
  {
   "cell_type": "code",
   "execution_count": 18,
   "metadata": {},
   "outputs": [
    {
     "data": {
      "text/plain": [
       "['Lasso_0.91',\n",
       " 'Lasso_0.95',\n",
       " 'Lasso_1',\n",
       " 'Linear Regression_1',\n",
       " 'Linear Regression_0.95',\n",
       " 'Linear Regression_0.91',\n",
       " 'SVR_1',\n",
       " 'XGBoostRegressor_1',\n",
       " 'SVR_0.95',\n",
       " 'SVR_0.91',\n",
       " 'XGBoostRegressor_0.95',\n",
       " 'XGBoostRegressor_0.91']"
      ]
     },
     "execution_count": 18,
     "metadata": {},
     "output_type": "execute_result"
    }
   ],
   "source": [
    "# 'Lasso_0.91': 0.09411110306791731,\n",
    "sorted(model_scores_price, key = model_scores_price.get)"
   ]
  },
  {
   "cell_type": "code",
   "execution_count": null,
   "metadata": {},
   "outputs": [],
   "source": [
    "model_scores_trans = fit_score_PCA(models,transf_X_train,y_trans_train,transf_X_test,y_trans_test, [0.8,0.85,0.9,0.95])\n",
    "model_scores_price = fit_score_PCA(models,transf_X_train,y_price_train,transf_X_test,y_price_test, [0.8,0.85,0.9,0.95])"
   ]
  },
  {
   "cell_type": "code",
   "execution_count": 19,
   "metadata": {},
   "outputs": [
    {
     "data": {
      "text/plain": [
       "{'Lasso_0.91': 0.09411110306791731,\n",
       " 'Lasso_0.95': 0.09411110306791731,\n",
       " 'Lasso_1': 0.09411110306791731,\n",
       " 'Linear Regression_1': 0.09413049877635919,\n",
       " 'Linear Regression_0.95': 0.09417792238315124,\n",
       " 'Linear Regression_0.91': 0.09417835915003633,\n",
       " 'SVR_1': 0.09434654907849423,\n",
       " 'XGBoostRegressor_1': 0.09705142031202166,\n",
       " 'SVR_0.95': 0.09830355128110657,\n",
       " 'SVR_0.91': 0.09886755546696292,\n",
       " 'XGBoostRegressor_0.95': 0.10000986378128596,\n",
       " 'XGBoostRegressor_0.91': 0.10054150387570636}"
      ]
     },
     "execution_count": 19,
     "metadata": {},
     "output_type": "execute_result"
    }
   ],
   "source": [
    "{k: v for k, v in sorted(model_scores_price.items(), key=lambda item: item[1])}"
   ]
  },
  {
   "cell_type": "code",
   "execution_count": 20,
   "metadata": {},
   "outputs": [
    {
     "data": {
      "text/plain": [
       "{'Linear Regression_0.95': 0.09020619481829613,\n",
       " 'Linear Regression_0.91': 0.09021593345191478,\n",
       " 'Lasso_0.91': 0.09025387237696017,\n",
       " 'Lasso_0.95': 0.09025387237696017,\n",
       " 'Lasso_1': 0.09025387237696017,\n",
       " 'Linear Regression_1': 0.09025552931887561,\n",
       " 'SVR_1': 0.0931376154572009,\n",
       " 'XGBoostRegressor_1': 0.09335223579586452,\n",
       " 'XGBoostRegressor_0.91': 0.09602769537295529,\n",
       " 'XGBoostRegressor_0.95': 0.09618455696513305,\n",
       " 'SVR_0.91': 0.10137796527210743,\n",
       " 'SVR_0.95': 0.10148067436569513}"
      ]
     },
     "execution_count": 20,
     "metadata": {},
     "output_type": "execute_result"
    }
   ],
   "source": [
    "{k: v for k, v in sorted(model_scores_trans.items(), key=lambda item: item[1])}"
   ]
  },
  {
   "cell_type": "markdown",
   "metadata": {},
   "source": [
    "## GridSearch"
   ]
  },
  {
   "cell_type": "code",
   "execution_count": 4,
   "metadata": {},
   "outputs": [],
   "source": [
    "# Execucao do programa\n",
    "\n",
    "# Importando os dados\n",
    "train = pd.read_csv('./../Dados/train.csv')\n",
    "test = pd.read_csv('./../Dados/test.csv')\n",
    "\n",
    "dataframes = [train, test]\n",
    "\n",
    "for df in dataframes:\n",
    "    df['volume']  = df.x * df.y * df.z\n",
    "    df['densidade'] = df.volume / df.n\n",
    "    \n",
    "X = train.drop(columns = ['cent_price_cor', 'cent_trans_cor'], axis = 1)"
   ]
  },
  {
   "cell_type": "code",
   "execution_count": 5,
   "metadata": {},
   "outputs": [],
   "source": [
    "y_price = train.cent_price_cor\n",
    "y_trans = train.cent_trans_cor\n",
    "\n",
    "X_train, X_test, y_price_train, y_price_test = train_test_split(X,y_price,\n",
    "                                                    test_size = 0.25,\n",
    "                                                    random_state = 0)\n",
    "\n",
    "X_train, X_test, y_trans_train, y_trans_test = train_test_split(X,y_trans,\n",
    "                                                    test_size = 0.25,\n",
    "                                                    random_state = 0)"
   ]
  },
  {
   "cell_type": "code",
   "execution_count": 6,
   "metadata": {},
   "outputs": [],
   "source": [
    "scaler = StandardScaler()\n",
    "\n",
    "transf_X = scaler.fit_transform(X)\n",
    "transf_X_test = scaler.fit_transform(X_test)"
   ]
  },
  {
   "cell_type": "code",
   "execution_count": 9,
   "metadata": {},
   "outputs": [],
   "source": [
    "# Coletanea de parametros para o GridSearch\n",
    "params_grid = [\n",
    "\n",
    "#Linear Regression\n",
    "#{'normalize': ['True', 'False'],\n",
    "#'fit_intercept': ['True', 'False']},\n",
    " \n",
    "#SVR teste\n",
    "{'C': [0.1], \n",
    " 'coef0': [0.01], \n",
    " 'degree': [3], \n",
    " 'epsilon': [0.1], \n",
    " 'gamma': ['auto'], \n",
    " 'kernel': ['rbf']}\n",
    "    \n",
    " #SVR RBF\n",
    "# {'kernel': ['rbf'],\n",
    "# 'C':[0.1, 0.5, 1, 5, 10],\n",
    "# 'degree': [3,8],\n",
    "# 'coef0': [0.01,10,0.5],\n",
    " #'gamma': ('auto','scale'),\n",
    " #'epsilon': [0.1,0.2]}\n",
    "    \n",
    " #SVR POLY\n",
    " #,{'kernel': ['poly'],\n",
    "# 'C':[0.1, 0.5, 1, 5, 10],\n",
    " #'degree': [3,8],\n",
    " #'coef0': [0.01,10,0.5],\n",
    "# 'gamma': ('auto','scale'),\n",
    " #'epsilon': [0.1,0.2]}\n",
    "    \n",
    "#Lasso\n",
    "#,{'alpha':[0.02, 0.024, 0.025, 0.026, 0.03]}  \n",
    "    \n",
    "# #XGBoost\n",
    "# ,{'nthread':[4], #when use hyperthread, xgboost may become slower\n",
    "# 'objective':['reg:linear'],\n",
    "# 'learning_rate': [.03, 0.05, .07], #so called `eta` value\n",
    "# 'max_depth': [5, 6, 7],\n",
    "# 'min_child_weight': [4],\n",
    "# 'silent': [1],\n",
    "# 'subsample': [0.7],\n",
    "# 'colsample_bytree': [0.7],\n",
    "# 'n_estimators': [500]}\n",
    " ]"
   ]
  },
  {
   "cell_type": "code",
   "execution_count": null,
   "metadata": {},
   "outputs": [],
   "source": [
    "def prever(X_train, X_test, y_train, y_test, target_name, components = [20,21,22,23,24,25,26,27,28]):\n",
    "    \n",
    "    lista_scores = []\n",
    "    lista_PCA = []\n",
    "    lista_params = []\n",
    "    lista_models = []\n",
    "    \n",
    "    models = [\n",
    "        #LinearRegression(),\n",
    "        SVR(),\n",
    "        #SVR(),\n",
    "        #Lasso()\n",
    "        #XGBRegressor()\n",
    "        ]\n",
    "     \n",
    "    for n in components:\n",
    "        \n",
    "        pca = PCA(n_components = n)\n",
    "        X_train_PCA = pca.fit_transform(X_train)\n",
    "        X_test_PCA = pca.transform(X_test)\n",
    "            \n",
    "        for i, model in enumerate(models):\n",
    "\n",
    "            print(f\"\\n\\nModelo: {model}\\nComponent: {n}\\n\\n\" + str(X_train_PCA.shape) + str(X_test_PCA.shape))\n",
    "\n",
    "            clf = GridSearchCV(model, param_grid = params_grid[i],\n",
    "                               scoring = 'neg_mean_absolute_error', #destaque Ã  mÃ©trica pedida\n",
    "                               n_jobs=-1, refit=True, cv=5, verbose=5,\n",
    "                               pre_dispatch='2*n_jobs', error_score='raise', \n",
    "                               return_train_score=True)\n",
    "            \n",
    "            clf.fit(X_train_PCA, y_train)\n",
    "\n",
    "            pred_cv = clf.predict(X_test_PCA)\n",
    "            score_cv = mean_absolute_error(y_test, pred_cv)\n",
    "            print(f\"Melhores parametros: {clf.best_params_}\")\n",
    "            print(f\"\\nScore Grid: {score_cv}\")\n",
    "            \n",
    "            lista_params.append(clf.best_params_)\n",
    "            lista_models.append(model)\n",
    "            lista_scores.append(round(score_cv,15))\n",
    "            lista_PCA.append(n)\n",
    "\n",
    "    print(\"Exportando DataFrame de Scores\\n\")\n",
    "\n",
    "    df_scores = pd.DataFrame()\n",
    "    \n",
    "    df_scores.insert(loc=0, column='PCA', value= pd.Series(lista_PCA))\n",
    "    df_scores.insert(loc=0, column='Scores', value= pd.Series(lista_scores))\n",
    "    df_scores.insert(loc=0, column='Params', value= pd.Series(lista_params))\n",
    "    df_scores.insert(loc=0, column='Model', value= pd.Series(lista_models))\n",
    "    df_scores.to_csv(f\"./../Resultados/{target_name}_scores_\"+\"{}.csv\".format(datetime.now().strftime(\"%d-%m-%Y_%Hh%Mm%Ss\")))\n",
    "            \n",
    "    return df_scores"
   ]
  },
  {
   "cell_type": "code",
   "execution_count": 37,
   "metadata": {},
   "outputs": [
    {
     "name": "stdout",
     "output_type": "stream",
     "text": [
      "\n",
      "\n",
      "Modelo: SVR()\n",
      "Component: 20\n",
      "\n",
      "(11940, 20)(2985, 20)\n",
      "Fitting 5 folds for each of 1 candidates, totalling 5 fits\n"
     ]
    },
    {
     "name": "stderr",
     "output_type": "stream",
     "text": [
      "[Parallel(n_jobs=2)]: Using backend LokyBackend with 2 concurrent workers.\n",
      "[Parallel(n_jobs=2)]: Done   5 out of   5 | elapsed:   32.0s finished\n"
     ]
    },
    {
     "name": "stdout",
     "output_type": "stream",
     "text": [
      "Melhores parametros: {'C': 0.1, 'coef0': 0.01, 'degree': 3, 'epsilon': 0.1, 'gamma': 'auto', 'kernel': 'rbf'}\n",
      "\n",
      "Score Grid: 0.07128245446971172\n",
      "\n",
      "\n",
      "Modelo: SVR()\n",
      "Component: 21\n",
      "\n",
      "(11940, 21)(2985, 21)\n",
      "Fitting 5 folds for each of 1 candidates, totalling 5 fits\n"
     ]
    },
    {
     "name": "stderr",
     "output_type": "stream",
     "text": [
      "[Parallel(n_jobs=2)]: Using backend LokyBackend with 2 concurrent workers.\n",
      "[Parallel(n_jobs=2)]: Done   5 out of   5 | elapsed:   34.1s finished\n"
     ]
    },
    {
     "name": "stdout",
     "output_type": "stream",
     "text": [
      "Melhores parametros: {'C': 0.1, 'coef0': 0.01, 'degree': 3, 'epsilon': 0.1, 'gamma': 'auto', 'kernel': 'rbf'}\n",
      "\n",
      "Score Grid: 0.07128272031290148\n",
      "\n",
      "\n",
      "Modelo: SVR()\n",
      "Component: 22\n",
      "\n",
      "(11940, 22)(2985, 22)\n",
      "Fitting 5 folds for each of 1 candidates, totalling 5 fits\n"
     ]
    },
    {
     "name": "stderr",
     "output_type": "stream",
     "text": [
      "[Parallel(n_jobs=2)]: Using backend LokyBackend with 2 concurrent workers.\n",
      "[Parallel(n_jobs=2)]: Done   5 out of   5 | elapsed:   30.2s finished\n"
     ]
    },
    {
     "name": "stdout",
     "output_type": "stream",
     "text": [
      "Melhores parametros: {'C': 0.1, 'coef0': 0.01, 'degree': 3, 'epsilon': 0.1, 'gamma': 'auto', 'kernel': 'rbf'}\n",
      "\n",
      "Score Grid: 0.07128472659045745\n",
      "\n",
      "\n",
      "Modelo: SVR()\n",
      "Component: 23\n",
      "\n",
      "(11940, 23)(2985, 23)\n",
      "Fitting 5 folds for each of 1 candidates, totalling 5 fits\n"
     ]
    },
    {
     "name": "stderr",
     "output_type": "stream",
     "text": [
      "[Parallel(n_jobs=2)]: Using backend LokyBackend with 2 concurrent workers.\n",
      "[Parallel(n_jobs=2)]: Done   5 out of   5 | elapsed:   30.6s finished\n"
     ]
    },
    {
     "name": "stdout",
     "output_type": "stream",
     "text": [
      "Melhores parametros: {'C': 0.1, 'coef0': 0.01, 'degree': 3, 'epsilon': 0.1, 'gamma': 'auto', 'kernel': 'rbf'}\n",
      "\n",
      "Score Grid: 0.07128433503560794\n",
      "\n",
      "\n",
      "Modelo: SVR()\n",
      "Component: 24\n",
      "\n",
      "(11940, 24)(2985, 24)\n",
      "Fitting 5 folds for each of 1 candidates, totalling 5 fits\n"
     ]
    },
    {
     "name": "stderr",
     "output_type": "stream",
     "text": [
      "[Parallel(n_jobs=2)]: Using backend LokyBackend with 2 concurrent workers.\n",
      "[Parallel(n_jobs=2)]: Done   5 out of   5 | elapsed:   30.0s finished\n"
     ]
    },
    {
     "name": "stdout",
     "output_type": "stream",
     "text": [
      "Melhores parametros: {'C': 0.1, 'coef0': 0.01, 'degree': 3, 'epsilon': 0.1, 'gamma': 'auto', 'kernel': 'rbf'}\n",
      "\n",
      "Score Grid: 0.07128793312845744\n",
      "\n",
      "\n",
      "Modelo: SVR()\n",
      "Component: 25\n",
      "\n",
      "(11940, 25)(2985, 25)\n",
      "Fitting 5 folds for each of 1 candidates, totalling 5 fits\n"
     ]
    },
    {
     "name": "stderr",
     "output_type": "stream",
     "text": [
      "[Parallel(n_jobs=2)]: Using backend LokyBackend with 2 concurrent workers.\n",
      "[Parallel(n_jobs=2)]: Done   5 out of   5 | elapsed:   29.9s finished\n"
     ]
    },
    {
     "name": "stdout",
     "output_type": "stream",
     "text": [
      "Melhores parametros: {'C': 0.1, 'coef0': 0.01, 'degree': 3, 'epsilon': 0.1, 'gamma': 'auto', 'kernel': 'rbf'}\n",
      "\n",
      "Score Grid: 0.0712895330005062\n",
      "\n",
      "\n",
      "Modelo: SVR()\n",
      "Component: 26\n",
      "\n",
      "(11940, 26)(2985, 26)\n",
      "Fitting 5 folds for each of 1 candidates, totalling 5 fits\n"
     ]
    },
    {
     "name": "stderr",
     "output_type": "stream",
     "text": [
      "[Parallel(n_jobs=2)]: Using backend LokyBackend with 2 concurrent workers.\n",
      "[Parallel(n_jobs=2)]: Done   5 out of   5 | elapsed:   31.7s finished\n"
     ]
    },
    {
     "name": "stdout",
     "output_type": "stream",
     "text": [
      "Melhores parametros: {'C': 0.1, 'coef0': 0.01, 'degree': 3, 'epsilon': 0.1, 'gamma': 'auto', 'kernel': 'rbf'}\n",
      "\n",
      "Score Grid: 0.0712918767151264\n",
      "\n",
      "\n",
      "Modelo: SVR()\n",
      "Component: 27\n",
      "\n",
      "(11940, 27)(2985, 27)\n",
      "Fitting 5 folds for each of 1 candidates, totalling 5 fits\n"
     ]
    },
    {
     "name": "stderr",
     "output_type": "stream",
     "text": [
      "[Parallel(n_jobs=2)]: Using backend LokyBackend with 2 concurrent workers.\n",
      "[Parallel(n_jobs=2)]: Done   5 out of   5 | elapsed:   30.9s finished\n"
     ]
    },
    {
     "name": "stdout",
     "output_type": "stream",
     "text": [
      "Melhores parametros: {'C': 0.1, 'coef0': 0.01, 'degree': 3, 'epsilon': 0.1, 'gamma': 'auto', 'kernel': 'rbf'}\n",
      "\n",
      "Score Grid: 0.07129374706004338\n",
      "\n",
      "\n",
      "Modelo: SVR()\n",
      "Component: 28\n",
      "\n",
      "(11940, 28)(2985, 28)\n",
      "Fitting 5 folds for each of 1 candidates, totalling 5 fits\n"
     ]
    },
    {
     "name": "stderr",
     "output_type": "stream",
     "text": [
      "[Parallel(n_jobs=2)]: Using backend LokyBackend with 2 concurrent workers.\n",
      "[Parallel(n_jobs=2)]: Done   5 out of   5 | elapsed:   31.7s finished\n"
     ]
    },
    {
     "name": "stdout",
     "output_type": "stream",
     "text": [
      "Melhores parametros: {'C': 0.1, 'coef0': 0.01, 'degree': 3, 'epsilon': 0.1, 'gamma': 'auto', 'kernel': 'rbf'}\n",
      "\n",
      "Score Grid: 0.07129807710730442\n",
      "Exportando DataFrame de Scores\n",
      "\n"
     ]
    }
   ],
   "source": [
    "df_scores_trans = prever(X, X_test, y_trans, y_trans_test, \"trans\")"
   ]
  },
  {
   "cell_type": "code",
   "execution_count": 14,
   "metadata": {},
   "outputs": [
    {
     "name": "stdout",
     "output_type": "stream",
     "text": [
      "\n",
      "\n",
      "Modelo: SVR()\n",
      "Component: 20\n",
      "\n",
      "(11940, 20)(2985, 20)\n",
      "Fitting 5 folds for each of 1 candidates, totalling 5 fits\n"
     ]
    },
    {
     "name": "stderr",
     "output_type": "stream",
     "text": [
      "[Parallel(n_jobs=2)]: Using backend LokyBackend with 2 concurrent workers.\n",
      "[Parallel(n_jobs=2)]: Done   5 out of   5 | elapsed:   32.5s finished\n"
     ]
    },
    {
     "name": "stdout",
     "output_type": "stream",
     "text": [
      "Melhores parametros: {'C': 0.1, 'coef0': 0.01, 'degree': 3, 'epsilon': 0.1, 'gamma': 'auto', 'kernel': 'rbf'}\n",
      "\n",
      "Score Grid: 0.07340112996089755\n",
      "\n",
      "\n",
      "Modelo: SVR()\n",
      "Component: 21\n",
      "\n",
      "(11940, 21)(2985, 21)\n",
      "Fitting 5 folds for each of 1 candidates, totalling 5 fits\n"
     ]
    },
    {
     "name": "stderr",
     "output_type": "stream",
     "text": [
      "[Parallel(n_jobs=2)]: Using backend LokyBackend with 2 concurrent workers.\n",
      "[Parallel(n_jobs=2)]: Done   5 out of   5 | elapsed:   33.0s finished\n"
     ]
    },
    {
     "name": "stdout",
     "output_type": "stream",
     "text": [
      "Melhores parametros: {'C': 0.1, 'coef0': 0.01, 'degree': 3, 'epsilon': 0.1, 'gamma': 'auto', 'kernel': 'rbf'}\n",
      "\n",
      "Score Grid: 0.07340545735792878\n",
      "\n",
      "\n",
      "Modelo: SVR()\n",
      "Component: 22\n",
      "\n",
      "(11940, 22)(2985, 22)\n",
      "Fitting 5 folds for each of 1 candidates, totalling 5 fits\n"
     ]
    },
    {
     "name": "stderr",
     "output_type": "stream",
     "text": [
      "[Parallel(n_jobs=2)]: Using backend LokyBackend with 2 concurrent workers.\n",
      "[Parallel(n_jobs=2)]: Done   5 out of   5 | elapsed:   36.9s finished\n"
     ]
    },
    {
     "name": "stdout",
     "output_type": "stream",
     "text": [
      "Melhores parametros: {'C': 0.1, 'coef0': 0.01, 'degree': 3, 'epsilon': 0.1, 'gamma': 'auto', 'kernel': 'rbf'}\n",
      "\n",
      "Score Grid: 0.07340937641843025\n",
      "\n",
      "\n",
      "Modelo: SVR()\n",
      "Component: 23\n",
      "\n",
      "(11940, 23)(2985, 23)\n",
      "Fitting 5 folds for each of 1 candidates, totalling 5 fits\n"
     ]
    },
    {
     "name": "stderr",
     "output_type": "stream",
     "text": [
      "[Parallel(n_jobs=2)]: Using backend LokyBackend with 2 concurrent workers.\n",
      "[Parallel(n_jobs=2)]: Done   5 out of   5 | elapsed:   36.2s finished\n"
     ]
    },
    {
     "name": "stdout",
     "output_type": "stream",
     "text": [
      "Melhores parametros: {'C': 0.1, 'coef0': 0.01, 'degree': 3, 'epsilon': 0.1, 'gamma': 'auto', 'kernel': 'rbf'}\n",
      "\n",
      "Score Grid: 0.0734123720169559\n",
      "\n",
      "\n",
      "Modelo: SVR()\n",
      "Component: 24\n",
      "\n",
      "(11940, 24)(2985, 24)\n",
      "Fitting 5 folds for each of 1 candidates, totalling 5 fits\n"
     ]
    },
    {
     "name": "stderr",
     "output_type": "stream",
     "text": [
      "[Parallel(n_jobs=2)]: Using backend LokyBackend with 2 concurrent workers.\n",
      "[Parallel(n_jobs=2)]: Done   5 out of   5 | elapsed:   34.8s finished\n"
     ]
    },
    {
     "name": "stdout",
     "output_type": "stream",
     "text": [
      "Melhores parametros: {'C': 0.1, 'coef0': 0.01, 'degree': 3, 'epsilon': 0.1, 'gamma': 'auto', 'kernel': 'rbf'}\n",
      "\n",
      "Score Grid: 0.07341799510140862\n",
      "\n",
      "\n",
      "Modelo: SVR()\n",
      "Component: 25\n",
      "\n",
      "(11940, 25)(2985, 25)\n",
      "Fitting 5 folds for each of 1 candidates, totalling 5 fits\n"
     ]
    },
    {
     "name": "stderr",
     "output_type": "stream",
     "text": [
      "[Parallel(n_jobs=2)]: Using backend LokyBackend with 2 concurrent workers.\n",
      "[Parallel(n_jobs=2)]: Done   5 out of   5 | elapsed:   34.3s finished\n"
     ]
    },
    {
     "name": "stdout",
     "output_type": "stream",
     "text": [
      "Melhores parametros: {'C': 0.1, 'coef0': 0.01, 'degree': 3, 'epsilon': 0.1, 'gamma': 'auto', 'kernel': 'rbf'}\n",
      "\n",
      "Score Grid: 0.07342286630702807\n",
      "\n",
      "\n",
      "Modelo: SVR()\n",
      "Component: 26\n",
      "\n",
      "(11940, 26)(2985, 26)\n",
      "Fitting 5 folds for each of 1 candidates, totalling 5 fits\n"
     ]
    },
    {
     "name": "stderr",
     "output_type": "stream",
     "text": [
      "[Parallel(n_jobs=2)]: Using backend LokyBackend with 2 concurrent workers.\n",
      "[Parallel(n_jobs=2)]: Done   5 out of   5 | elapsed:   34.0s finished\n"
     ]
    },
    {
     "name": "stdout",
     "output_type": "stream",
     "text": [
      "Melhores parametros: {'C': 0.1, 'coef0': 0.01, 'degree': 3, 'epsilon': 0.1, 'gamma': 'auto', 'kernel': 'rbf'}\n",
      "\n",
      "Score Grid: 0.0734280944597349\n",
      "\n",
      "\n",
      "Modelo: SVR()\n",
      "Component: 27\n",
      "\n",
      "(11940, 27)(2985, 27)\n",
      "Fitting 5 folds for each of 1 candidates, totalling 5 fits\n"
     ]
    },
    {
     "name": "stderr",
     "output_type": "stream",
     "text": [
      "[Parallel(n_jobs=2)]: Using backend LokyBackend with 2 concurrent workers.\n",
      "[Parallel(n_jobs=2)]: Done   5 out of   5 | elapsed:   35.8s finished\n"
     ]
    },
    {
     "name": "stdout",
     "output_type": "stream",
     "text": [
      "Melhores parametros: {'C': 0.1, 'coef0': 0.01, 'degree': 3, 'epsilon': 0.1, 'gamma': 'auto', 'kernel': 'rbf'}\n",
      "\n",
      "Score Grid: 0.0734339078476797\n",
      "\n",
      "\n",
      "Modelo: SVR()\n",
      "Component: 28\n",
      "\n",
      "(11940, 28)(2985, 28)\n",
      "Fitting 5 folds for each of 1 candidates, totalling 5 fits\n"
     ]
    },
    {
     "name": "stderr",
     "output_type": "stream",
     "text": [
      "[Parallel(n_jobs=2)]: Using backend LokyBackend with 2 concurrent workers.\n",
      "[Parallel(n_jobs=2)]: Done   5 out of   5 | elapsed:   35.1s finished\n"
     ]
    },
    {
     "name": "stdout",
     "output_type": "stream",
     "text": [
      "Melhores parametros: {'C': 0.1, 'coef0': 0.01, 'degree': 3, 'epsilon': 0.1, 'gamma': 'auto', 'kernel': 'rbf'}\n",
      "\n",
      "Score Grid: 0.0734392225418337\n",
      "Exportando DataFrame de Scores\n",
      "\n"
     ]
    }
   ],
   "source": [
    "df_scores_price = prever(X, X_test, y_price, y_price_test, \"price\")"
   ]
  },
  {
   "cell_type": "code",
   "execution_count": 16,
   "metadata": {},
   "outputs": [
    {
     "data": {
      "text/plain": [
       "0.073401129960898"
      ]
     },
     "execution_count": 16,
     "metadata": {},
     "output_type": "execute_result"
    }
   ],
   "source": [
    "df_scores_price.Scores.min()"
   ]
  },
  {
   "cell_type": "code",
   "execution_count": 18,
   "metadata": {},
   "outputs": [
    {
     "data": {
      "text/html": [
       "<div>\n",
       "<style scoped>\n",
       "    .dataframe tbody tr th:only-of-type {\n",
       "        vertical-align: middle;\n",
       "    }\n",
       "\n",
       "    .dataframe tbody tr th {\n",
       "        vertical-align: top;\n",
       "    }\n",
       "\n",
       "    .dataframe thead th {\n",
       "        text-align: right;\n",
       "    }\n",
       "</style>\n",
       "<table border=\"1\" class=\"dataframe\">\n",
       "  <thead>\n",
       "    <tr style=\"text-align: right;\">\n",
       "      <th></th>\n",
       "      <th>Model</th>\n",
       "      <th>Params</th>\n",
       "      <th>Scores</th>\n",
       "      <th>PCA</th>\n",
       "    </tr>\n",
       "  </thead>\n",
       "  <tbody>\n",
       "    <tr>\n",
       "      <th>0</th>\n",
       "      <td>SVR()</td>\n",
       "      <td>{'C': 0.1, 'coef0': 0.01, 'degree': 3, 'epsilo...</td>\n",
       "      <td>0.073401</td>\n",
       "      <td>20</td>\n",
       "    </tr>\n",
       "  </tbody>\n",
       "</table>\n",
       "</div>"
      ],
      "text/plain": [
       "   Model                                             Params    Scores  PCA\n",
       "0  SVR()  {'C': 0.1, 'coef0': 0.01, 'degree': 3, 'epsilo...  0.073401   20"
      ]
     },
     "execution_count": 18,
     "metadata": {},
     "output_type": "execute_result"
    }
   ],
   "source": [
    "df_scores_price[df_scores_price.Scores == 0.073401129960898]"
   ]
  },
  {
   "cell_type": "code",
   "execution_count": 38,
   "metadata": {},
   "outputs": [
    {
     "data": {
      "text/plain": [
       "0.071282454469712"
      ]
     },
     "execution_count": 38,
     "metadata": {},
     "output_type": "execute_result"
    }
   ],
   "source": [
    "df_scores_trans.Scores.min()"
   ]
  },
  {
   "cell_type": "code",
   "execution_count": 16,
   "metadata": {},
   "outputs": [
    {
     "data": {
      "text/html": [
       "<div>\n",
       "<style scoped>\n",
       "    .dataframe tbody tr th:only-of-type {\n",
       "        vertical-align: middle;\n",
       "    }\n",
       "\n",
       "    .dataframe tbody tr th {\n",
       "        vertical-align: top;\n",
       "    }\n",
       "\n",
       "    .dataframe thead th {\n",
       "        text-align: right;\n",
       "    }\n",
       "</style>\n",
       "<table border=\"1\" class=\"dataframe\">\n",
       "  <thead>\n",
       "    <tr style=\"text-align: right;\">\n",
       "      <th></th>\n",
       "      <th>Model</th>\n",
       "      <th>Params</th>\n",
       "      <th>Scores</th>\n",
       "      <th>PCA</th>\n",
       "    </tr>\n",
       "  </thead>\n",
       "  <tbody>\n",
       "    <tr>\n",
       "      <th>16</th>\n",
       "      <td>LinearRegression()</td>\n",
       "      <td>{'fit_intercept': 'True', 'normalize': 'True'}</td>\n",
       "      <td>0.08996</td>\n",
       "      <td>28</td>\n",
       "    </tr>\n",
       "  </tbody>\n",
       "</table>\n",
       "</div>"
      ],
      "text/plain": [
       "                 Model                                          Params  \\\n",
       "16  LinearRegression()  {'fit_intercept': 'True', 'normalize': 'True'}   \n",
       "\n",
       "     Scores  PCA  \n",
       "16  0.08996   28  "
      ]
     },
     "execution_count": 16,
     "metadata": {},
     "output_type": "execute_result"
    }
   ],
   "source": [
    "df_scores_trans[df_scores_trans.Scores == 0.089959673362208]"
   ]
  },
  {
   "cell_type": "code",
   "execution_count": 17,
   "metadata": {},
   "outputs": [
    {
     "data": {
      "text/plain": [
       "0.18389734476838498"
      ]
     },
     "execution_count": 17,
     "metadata": {},
     "output_type": "execute_result"
    }
   ],
   "source": [
    "# Resultado sem scaling\n",
    "\n",
    "0.089947941686274 + 0.093949935453886\n",
    "0.089959673362208 + 0.093937671406177"
   ]
  },
  {
   "cell_type": "markdown",
   "metadata": {},
   "source": [
    "## Melhores resultados:\n",
    "\n",
    "Trans = 0.089947941686274 (com scaling) <br><br>\n",
    "``LinearRegression()\t{'fit_intercept': 'True', 'normalize': 'True'}\tPCA = 25``\n",
    "\n",
    "<br><br><br>\n",
    "Price = 0.093937671406177 (sem scaling) <br><br>\n",
    "``LinearRegression()\t{'fit_intercept': 'True', 'normalize': 'True'}  PCA = 26``\n"
   ]
  },
  {
   "cell_type": "code",
   "execution_count": 46,
   "metadata": {},
   "outputs": [
    {
     "data": {
      "text/plain": [
       "0.183885613092451"
      ]
     },
     "execution_count": 46,
     "metadata": {},
     "output_type": "execute_result"
    }
   ],
   "source": [
    "0.089947941686274  + 0.093937671406177"
   ]
  },
  {
   "cell_type": "code",
   "execution_count": 17,
   "metadata": {},
   "outputs": [
    {
     "data": {
      "text/plain": [
       "0.14468358443061"
      ]
     },
     "execution_count": 17,
     "metadata": {},
     "output_type": "execute_result"
    }
   ],
   "source": [
    "0.071282454469712 + 0.073401129960898"
   ]
  },
  {
   "cell_type": "code",
   "execution_count": 41,
   "metadata": {},
   "outputs": [],
   "source": [
    "def geral_resultados_submissao(test_price_pca, test_trans_pca, clf_price, clf_trans):\n",
    "\n",
    "    # pca_price = PCA(n_components = n_price)\n",
    "    # pca_trans = PCA(n_components = n_price)\n",
    "\n",
    "    # test_price_PCA = pca_price.fit_transform(test.drop(\"id\", axis=1))\n",
    "    # test_trans_PCA = pca_trans.fit_transform(test.drop(\"id\", axis=1))\n",
    "    \n",
    "    cent_price_cor = clf_price.predict(test_price_PCA)\n",
    "    cent_trans_cor = clf_trans.predict(test_trans_PCA)\n",
    "\n",
    "\n",
    "    df_sub = pd.DataFrame({\"cent_price_cor\": cent_price_cor, \"cent_trans_cor\": cent_trans_cor})\n",
    "    \n",
    "    df_sub.to_csv(\"./../Submissoes/df_sub_SVR_{}.csv\".format(datetime.now().strftime(\"%d-%m-%Y_%Hh%Mm%Ss\")), index=False)\n",
    "\n",
    "    return df_sub"
   ]
  },
  {
   "cell_type": "code",
   "execution_count": 42,
   "metadata": {},
   "outputs": [
    {
     "name": "stdout",
     "output_type": "stream",
     "text": [
      "      cent_price_cor  cent_trans_cor\n",
      "0          -0.200193        0.358372\n",
      "1          -0.200313        0.358371\n",
      "2          -0.200313        0.358368\n",
      "3          -0.200313        0.358370\n",
      "4          -0.200313        0.358371\n",
      "...              ...             ...\n",
      "8054       -0.200313        0.358370\n",
      "8055       -0.200313        0.358389\n",
      "8056       -0.200313        0.358371\n",
      "8057       -0.200313        0.358371\n",
      "8058       -0.200313        0.358371\n",
      "\n",
      "[8059 rows x 2 columns]\n",
      "\n",
      "Programa executado com sucesso \n",
      "\n"
     ]
    }
   ],
   "source": [
    "pca = PCA(n_components = 20)\n",
    "\n",
    "train_PCA = pca.fit_transform(X)\n",
    "\n",
    "clf_price = SVR(kernel = 'rbf',\n",
    "                C = 0.1,\n",
    "                coef0 = 0.01,\n",
    "                degree = 3,\n",
    "                epsilon = 0.1,\n",
    "                gamma = 'auto')\n",
    "\n",
    "clf_price.fit(train_PCA, y_price)\n",
    "\n",
    "clf_trans = SVR(kernel = 'rbf',\n",
    "                C = 0.1,\n",
    "                coef0 = 0.01,\n",
    "                degree = 3,\n",
    "                epsilon = 0.1,\n",
    "                gamma = 'auto')\n",
    "\n",
    "clf_trans.fit(train_PCA, y_trans)\n",
    "\n",
    "test_price_PCA = pca.fit_transform(test.drop(\"id\", axis=1))\n",
    "\n",
    "test_trans_PCA = pca.fit_transform(test.drop(\"id\", axis=1))\n",
    "\n",
    "\n",
    "df_sub = geral_resultados_submissao(test_price_PCA, test_trans_PCA, clf_price, clf_trans)\n",
    "\n",
    "print(df_sub)\n",
    "\n",
    "print(\"\\nPrograma executado com sucesso \\n\")"
   ]
  },
  {
   "cell_type": "code",
   "execution_count": 23,
   "metadata": {},
   "outputs": [
    {
     "ename": "NameError",
     "evalue": "name 'scaler' is not defined",
     "output_type": "error",
     "traceback": [
      "\u001b[1;31m---------------------------------------------------------------------------\u001b[0m",
      "\u001b[1;31mNameError\u001b[0m                                 Traceback (most recent call last)",
      "\u001b[1;32m<ipython-input-23-54e0b3f508a6>\u001b[0m in \u001b[0;36m<module>\u001b[1;34m\u001b[0m\n\u001b[0;32m      2\u001b[0m \u001b[0mpca_trans\u001b[0m \u001b[1;33m=\u001b[0m \u001b[0mPCA\u001b[0m\u001b[1;33m(\u001b[0m\u001b[0mn_components\u001b[0m \u001b[1;33m=\u001b[0m \u001b[1;36m25\u001b[0m\u001b[1;33m)\u001b[0m\u001b[1;33m\u001b[0m\u001b[1;33m\u001b[0m\u001b[0m\n\u001b[0;32m      3\u001b[0m \u001b[1;33m\u001b[0m\u001b[0m\n\u001b[1;32m----> 4\u001b[1;33m \u001b[0mX_trans\u001b[0m \u001b[1;33m=\u001b[0m \u001b[0mscaler\u001b[0m\u001b[1;33m.\u001b[0m\u001b[0mfit_transform\u001b[0m\u001b[1;33m(\u001b[0m\u001b[0mX\u001b[0m\u001b[1;33m)\u001b[0m\u001b[1;33m\u001b[0m\u001b[1;33m\u001b[0m\u001b[0m\n\u001b[0m\u001b[0;32m      5\u001b[0m \u001b[1;33m\u001b[0m\u001b[0m\n\u001b[0;32m      6\u001b[0m \u001b[0mtrain_price_PCA\u001b[0m \u001b[1;33m=\u001b[0m \u001b[0mpca_price\u001b[0m\u001b[1;33m.\u001b[0m\u001b[0mfit_transform\u001b[0m\u001b[1;33m(\u001b[0m\u001b[0mX\u001b[0m\u001b[1;33m)\u001b[0m\u001b[1;33m\u001b[0m\u001b[1;33m\u001b[0m\u001b[0m\n",
      "\u001b[1;31mNameError\u001b[0m: name 'scaler' is not defined"
     ]
    }
   ],
   "source": [
    "pca_price = PCA(n_components = 26)\n",
    "pca_trans = PCA(n_components = 25)\n",
    "\n",
    "X_trans = scaler.fit_transform(X)\n",
    "\n",
    "train_price_PCA = pca_price.fit_transform(X)\n",
    "train_trans_PCA = pca_trans.fit_transform(X_trans)\n",
    "\n",
    "clf_price = LinearRegression({'fit_intercept': 'True', 'normalize': 'True'})\n",
    "clf_price.fit(train_price_PCA, y_price)\n",
    "\n",
    "clf_trans = LinearRegression({'fit_intercept': 'True', 'normalize': 'True'})\n",
    "clf_trans.fit(train_trans_PCA, y_trans)\n",
    "\n",
    "test_price_PCA = pca_price.fit_transform(test.drop(\"id\", axis=1))\n",
    "\n",
    "test_trans = scaler.fit_transform(test.drop(\"id\", axis=1))\n",
    "test_trans_PCA = pca_trans.fit_transform(test)\n",
    "\n",
    "\n",
    "# PRICE ==> PCA = 26 // Linear Reg\n",
    "\n",
    "# TRANS ==> PCA = 25 // Linear Reg - com scaling\n",
    "\n",
    "df_sub = geral_resultados_submissao(test_price_PCA, test_trans_PCA, clf_price, clf_trans)\n",
    "\n",
    "print(df_sub)\n",
    "\n",
    "print(\"\\nPrograma executado com sucesso \\n\")"
   ]
  },
  {
   "cell_type": "code",
   "execution_count": 36,
   "metadata": {},
   "outputs": [
    {
     "data": {
      "text/plain": [
       "0.093949935453886"
      ]
     },
     "execution_count": 36,
     "metadata": {},
     "output_type": "execute_result"
    }
   ],
   "source": [
    "df_scores_price_scaling.Scores.min()"
   ]
  },
  {
   "cell_type": "code",
   "execution_count": 13,
   "metadata": {},
   "outputs": [
    {
     "data": {
      "text/plain": [
       "0.071282454469712"
      ]
     },
     "execution_count": 13,
     "metadata": {},
     "output_type": "execute_result"
    }
   ],
   "source": [
    "df_scores_trans_scaling.Scores.min()"
   ]
  },
  {
   "cell_type": "code",
   "execution_count": 38,
   "metadata": {},
   "outputs": [
    {
     "data": {
      "text/plain": [
       "0.18389787714015998"
      ]
     },
     "execution_count": 38,
     "metadata": {},
     "output_type": "execute_result"
    }
   ],
   "source": [
    "0.089947941686274 + 0.093949935453886"
   ]
  },
  {
   "cell_type": "code",
   "execution_count": 44,
   "metadata": {},
   "outputs": [
    {
     "data": {
      "text/html": [
       "<div>\n",
       "<style scoped>\n",
       "    .dataframe tbody tr th:only-of-type {\n",
       "        vertical-align: middle;\n",
       "    }\n",
       "\n",
       "    .dataframe tbody tr th {\n",
       "        vertical-align: top;\n",
       "    }\n",
       "\n",
       "    .dataframe thead th {\n",
       "        text-align: right;\n",
       "    }\n",
       "</style>\n",
       "<table border=\"1\" class=\"dataframe\">\n",
       "  <thead>\n",
       "    <tr style=\"text-align: right;\">\n",
       "      <th></th>\n",
       "      <th>Model</th>\n",
       "      <th>Params</th>\n",
       "      <th>Scores</th>\n",
       "      <th>PCA</th>\n",
       "    </tr>\n",
       "  </thead>\n",
       "  <tbody>\n",
       "    <tr>\n",
       "      <th>2</th>\n",
       "      <td>LinearRegression()</td>\n",
       "      <td>{'fit_intercept': 'True', 'normalize': 'True'}</td>\n",
       "      <td>0.09395</td>\n",
       "      <td>21</td>\n",
       "    </tr>\n",
       "  </tbody>\n",
       "</table>\n",
       "</div>"
      ],
      "text/plain": [
       "                Model                                          Params  \\\n",
       "2  LinearRegression()  {'fit_intercept': 'True', 'normalize': 'True'}   \n",
       "\n",
       "    Scores  PCA  \n",
       "2  0.09395   21  "
      ]
     },
     "execution_count": 44,
     "metadata": {},
     "output_type": "execute_result"
    }
   ],
   "source": [
    "df_scores_price_scaling[df_scores_price_scaling.Scores == 0.093949935453886]"
   ]
  },
  {
   "cell_type": "code",
   "execution_count": 15,
   "metadata": {},
   "outputs": [
    {
     "data": {
      "text/html": [
       "<div>\n",
       "<style scoped>\n",
       "    .dataframe tbody tr th:only-of-type {\n",
       "        vertical-align: middle;\n",
       "    }\n",
       "\n",
       "    .dataframe tbody tr th {\n",
       "        vertical-align: top;\n",
       "    }\n",
       "\n",
       "    .dataframe thead th {\n",
       "        text-align: right;\n",
       "    }\n",
       "</style>\n",
       "<table border=\"1\" class=\"dataframe\">\n",
       "  <thead>\n",
       "    <tr style=\"text-align: right;\">\n",
       "      <th></th>\n",
       "      <th>Model</th>\n",
       "      <th>Params</th>\n",
       "      <th>Scores</th>\n",
       "      <th>PCA</th>\n",
       "    </tr>\n",
       "  </thead>\n",
       "  <tbody>\n",
       "    <tr>\n",
       "      <th>0</th>\n",
       "      <td>SVR()</td>\n",
       "      <td>{'C': 0.1, 'coef0': 0.01, 'degree': 3, 'epsilo...</td>\n",
       "      <td>0.071282</td>\n",
       "      <td>20</td>\n",
       "    </tr>\n",
       "  </tbody>\n",
       "</table>\n",
       "</div>"
      ],
      "text/plain": [
       "   Model                                             Params    Scores  PCA\n",
       "0  SVR()  {'C': 0.1, 'coef0': 0.01, 'degree': 3, 'epsilo...  0.071282   20"
      ]
     },
     "execution_count": 15,
     "metadata": {},
     "output_type": "execute_result"
    }
   ],
   "source": [
    "df_scores_trans_scaling[df_scores_trans_scaling.Scores == 0.071282454469712]"
   ]
  },
  {
   "cell_type": "code",
   "execution_count": 60,
   "metadata": {},
   "outputs": [
    {
     "data": {
      "text/html": [
       "<div>\n",
       "<style scoped>\n",
       "    .dataframe tbody tr th:only-of-type {\n",
       "        vertical-align: middle;\n",
       "    }\n",
       "\n",
       "    .dataframe tbody tr th {\n",
       "        vertical-align: top;\n",
       "    }\n",
       "\n",
       "    .dataframe thead th {\n",
       "        text-align: right;\n",
       "    }\n",
       "</style>\n",
       "<table border=\"1\" class=\"dataframe\">\n",
       "  <thead>\n",
       "    <tr style=\"text-align: right;\">\n",
       "      <th></th>\n",
       "      <th>id</th>\n",
       "      <th>n</th>\n",
       "      <th>p</th>\n",
       "      <th>f</th>\n",
       "      <th>x</th>\n",
       "      <th>y</th>\n",
       "      <th>z</th>\n",
       "      <th>a1</th>\n",
       "      <th>a2</th>\n",
       "      <th>a3</th>\n",
       "      <th>...</th>\n",
       "      <th>g1</th>\n",
       "      <th>g2</th>\n",
       "      <th>l1</th>\n",
       "      <th>l2</th>\n",
       "      <th>l3</th>\n",
       "      <th>l4</th>\n",
       "      <th>e1</th>\n",
       "      <th>e2</th>\n",
       "      <th>volume</th>\n",
       "      <th>densidade</th>\n",
       "    </tr>\n",
       "  </thead>\n",
       "  <tbody>\n",
       "    <tr>\n",
       "      <th>0</th>\n",
       "      <td>1</td>\n",
       "      <td>558</td>\n",
       "      <td>0.5</td>\n",
       "      <td>0.2</td>\n",
       "      <td>28</td>\n",
       "      <td>21</td>\n",
       "      <td>2</td>\n",
       "      <td>1.0</td>\n",
       "      <td>0.29</td>\n",
       "      <td>1.3</td>\n",
       "      <td>...</td>\n",
       "      <td>0.198</td>\n",
       "      <td>1.8</td>\n",
       "      <td>0.149</td>\n",
       "      <td>2.0</td>\n",
       "      <td>0.078</td>\n",
       "      <td>1.7</td>\n",
       "      <td>0.5</td>\n",
       "      <td>2.9</td>\n",
       "      <td>1176</td>\n",
       "      <td>2.107527</td>\n",
       "    </tr>\n",
       "    <tr>\n",
       "      <th>1</th>\n",
       "      <td>2</td>\n",
       "      <td>910</td>\n",
       "      <td>0.9</td>\n",
       "      <td>0.3</td>\n",
       "      <td>28</td>\n",
       "      <td>19</td>\n",
       "      <td>9</td>\n",
       "      <td>2.2</td>\n",
       "      <td>0.14</td>\n",
       "      <td>1.6</td>\n",
       "      <td>...</td>\n",
       "      <td>0.172</td>\n",
       "      <td>1.0</td>\n",
       "      <td>0.086</td>\n",
       "      <td>0.8</td>\n",
       "      <td>0.030</td>\n",
       "      <td>0.8</td>\n",
       "      <td>0.2</td>\n",
       "      <td>1.6</td>\n",
       "      <td>4788</td>\n",
       "      <td>5.261538</td>\n",
       "    </tr>\n",
       "    <tr>\n",
       "      <th>2</th>\n",
       "      <td>3</td>\n",
       "      <td>213</td>\n",
       "      <td>0.8</td>\n",
       "      <td>0.5</td>\n",
       "      <td>21</td>\n",
       "      <td>15</td>\n",
       "      <td>8</td>\n",
       "      <td>2.2</td>\n",
       "      <td>0.22</td>\n",
       "      <td>2.6</td>\n",
       "      <td>...</td>\n",
       "      <td>0.083</td>\n",
       "      <td>0.7</td>\n",
       "      <td>0.019</td>\n",
       "      <td>1.4</td>\n",
       "      <td>0.016</td>\n",
       "      <td>1.2</td>\n",
       "      <td>2.6</td>\n",
       "      <td>2.4</td>\n",
       "      <td>2520</td>\n",
       "      <td>11.830986</td>\n",
       "    </tr>\n",
       "    <tr>\n",
       "      <th>3</th>\n",
       "      <td>4</td>\n",
       "      <td>654</td>\n",
       "      <td>0.7</td>\n",
       "      <td>0.5</td>\n",
       "      <td>14</td>\n",
       "      <td>15</td>\n",
       "      <td>2</td>\n",
       "      <td>2.2</td>\n",
       "      <td>0.12</td>\n",
       "      <td>3.8</td>\n",
       "      <td>...</td>\n",
       "      <td>0.185</td>\n",
       "      <td>1.3</td>\n",
       "      <td>0.110</td>\n",
       "      <td>0.8</td>\n",
       "      <td>0.006</td>\n",
       "      <td>1.7</td>\n",
       "      <td>0.2</td>\n",
       "      <td>1.7</td>\n",
       "      <td>420</td>\n",
       "      <td>0.642202</td>\n",
       "    </tr>\n",
       "    <tr>\n",
       "      <th>4</th>\n",
       "      <td>5</td>\n",
       "      <td>672</td>\n",
       "      <td>0.7</td>\n",
       "      <td>0.5</td>\n",
       "      <td>24</td>\n",
       "      <td>10</td>\n",
       "      <td>5</td>\n",
       "      <td>3.7</td>\n",
       "      <td>0.20</td>\n",
       "      <td>3.7</td>\n",
       "      <td>...</td>\n",
       "      <td>0.158</td>\n",
       "      <td>0.9</td>\n",
       "      <td>0.148</td>\n",
       "      <td>1.9</td>\n",
       "      <td>0.038</td>\n",
       "      <td>1.3</td>\n",
       "      <td>1.1</td>\n",
       "      <td>2.8</td>\n",
       "      <td>1200</td>\n",
       "      <td>1.785714</td>\n",
       "    </tr>\n",
       "  </tbody>\n",
       "</table>\n",
       "<p>5 rows × 29 columns</p>\n",
       "</div>"
      ],
      "text/plain": [
       "   id    n    p    f   x   y  z   a1    a2   a3  ...     g1   g2     l1   l2  \\\n",
       "0   1  558  0.5  0.2  28  21  2  1.0  0.29  1.3  ...  0.198  1.8  0.149  2.0   \n",
       "1   2  910  0.9  0.3  28  19  9  2.2  0.14  1.6  ...  0.172  1.0  0.086  0.8   \n",
       "2   3  213  0.8  0.5  21  15  8  2.2  0.22  2.6  ...  0.083  0.7  0.019  1.4   \n",
       "3   4  654  0.7  0.5  14  15  2  2.2  0.12  3.8  ...  0.185  1.3  0.110  0.8   \n",
       "4   5  672  0.7  0.5  24  10  5  3.7  0.20  3.7  ...  0.158  0.9  0.148  1.9   \n",
       "\n",
       "      l3   l4   e1   e2  volume  densidade  \n",
       "0  0.078  1.7  0.5  2.9    1176   2.107527  \n",
       "1  0.030  0.8  0.2  1.6    4788   5.261538  \n",
       "2  0.016  1.2  2.6  2.4    2520  11.830986  \n",
       "3  0.006  1.7  0.2  1.7     420   0.642202  \n",
       "4  0.038  1.3  1.1  2.8    1200   1.785714  \n",
       "\n",
       "[5 rows x 29 columns]"
      ]
     },
     "execution_count": 60,
     "metadata": {},
     "output_type": "execute_result"
    }
   ],
   "source": [
    "test.head()"
   ]
  }
 ],
 "metadata": {
  "kernelspec": {
   "display_name": "Python 3",
   "language": "python",
   "name": "python3"
  },
  "language_info": {
   "codemirror_mode": {
    "name": "ipython",
    "version": 3
   },
   "file_extension": ".py",
   "mimetype": "text/x-python",
   "name": "python",
   "nbconvert_exporter": "python",
   "pygments_lexer": "ipython3",
   "version": "3.8.5"
  }
 },
 "nbformat": 4,
 "nbformat_minor": 4
}
