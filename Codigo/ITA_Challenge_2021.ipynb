{
 "cells": [
  {
   "cell_type": "code",
   "execution_count": null,
   "metadata": {},
   "outputs": [],
   "source": [
    "[[\"a2\",\"a4\",\"b2\",\"b4\",\"c2\",\"c4\",\"g2\",\"l2\",\"l4\"]]"
   ]
  },
  {
   "cell_type": "markdown",
   "metadata": {},
   "source": [
    "## ITA 2021\n",
    "\n",
    "<br>\n",
    "\n",
    "Dicionário de Dados:\n",
    "\n",
    "* n: número de agentes\n",
    "* p: fração de traders\n",
    "* f: grau de interesse dos traders\n",
    "* x, y, z: dimensões do espaço aéreo\n",
    "* a1, a2: média e desvio padrão do coeficiente do preço fundamental dos consumidores\n",
    "* a3, a4: idem para os traders\n",
    "* b1, b2: média e desvio padrão do coeficiente do preço de mercado dos consumidores\n",
    "* b3, b4: idem para os traders\n",
    "* c1, c2: média e desvio padrão do coeficiente do preço aleatório dos consumidores\n",
    "* c3, c4: idem para os traders\n",
    "* g1, g2: média e desvio padrão do grau de agressividade dos consumidores\n",
    "* l1, l2: média e desvio padrão do coeficiente de desvalorização para os consumidores\n",
    "* l3, l4: idem para os traders\n",
    "* e1, e2: variabilidade no preço fundamental dos consumidores e traders, respectivamente\n",
    "* cent_price_cor: correlação entre o preço final e centralidade das permissões de vôo\n",
    "* cent_trans_cor: idem para o número de transações"
   ]
  },
  {
   "cell_type": "code",
   "execution_count": 1,
   "metadata": {},
   "outputs": [
    {
     "name": "stdout",
     "output_type": "stream",
     "text": [
      "Requirement already satisfied: jupyternotify in c:\\users\\rafael\\anaconda3\\lib\\site-packages (0.1.15)\n",
      "Requirement already satisfied: ipython in c:\\users\\rafael\\anaconda3\\lib\\site-packages (from jupyternotify) (7.19.0)\n",
      "Requirement already satisfied: jupyter in c:\\users\\rafael\\anaconda3\\lib\\site-packages (from jupyternotify) (1.0.0)\n",
      "Requirement already satisfied: prompt-toolkit!=3.0.0,!=3.0.1,<3.1.0,>=2.0.0 in c:\\users\\rafael\\anaconda3\\lib\\site-packages (from ipython->jupyternotify) (3.0.8)\n",
      "Requirement already satisfied: decorator in c:\\users\\rafael\\anaconda3\\lib\\site-packages (from ipython->jupyternotify) (4.4.2)\n",
      "Requirement already satisfied: jedi>=0.10 in c:\\users\\rafael\\anaconda3\\lib\\site-packages (from ipython->jupyternotify) (0.17.1)\n",
      "Requirement already satisfied: backcall in c:\\users\\rafael\\anaconda3\\lib\\site-packages (from ipython->jupyternotify) (0.2.0)\n",
      "Requirement already satisfied: pickleshare in c:\\users\\rafael\\anaconda3\\lib\\site-packages (from ipython->jupyternotify) (0.7.5)\n",
      "Requirement already satisfied: setuptools>=18.5 in c:\\users\\rafael\\anaconda3\\lib\\site-packages (from ipython->jupyternotify) (50.3.1.post20201107)\n",
      "Requirement already satisfied: traitlets>=4.2 in c:\\users\\rafael\\anaconda3\\lib\\site-packages (from ipython->jupyternotify) (5.0.5)\n",
      "Requirement already satisfied: pygments in c:\\users\\rafael\\anaconda3\\lib\\site-packages (from ipython->jupyternotify) (2.7.2)\n",
      "Requirement already satisfied: colorama; sys_platform == \"win32\" in c:\\users\\rafael\\anaconda3\\lib\\site-packages (from ipython->jupyternotify) (0.4.4)\n",
      "Requirement already satisfied: ipykernel in c:\\users\\rafael\\anaconda3\\lib\\site-packages (from jupyter->jupyternotify) (5.3.4)\n",
      "Requirement already satisfied: jupyter-console in c:\\users\\rafael\\anaconda3\\lib\\site-packages (from jupyter->jupyternotify) (6.2.0)\n",
      "Requirement already satisfied: qtconsole in c:\\users\\rafael\\anaconda3\\lib\\site-packages (from jupyter->jupyternotify) (4.7.7)\n",
      "Requirement already satisfied: ipywidgets in c:\\users\\rafael\\anaconda3\\lib\\site-packages (from jupyter->jupyternotify) (7.5.1)\n",
      "Requirement already satisfied: nbconvert in c:\\users\\rafael\\anaconda3\\lib\\site-packages (from jupyter->jupyternotify) (6.0.7)\n",
      "Requirement already satisfied: notebook in c:\\users\\rafael\\anaconda3\\lib\\site-packages (from jupyter->jupyternotify) (6.1.4)\n",
      "Requirement already satisfied: wcwidth in c:\\users\\rafael\\anaconda3\\lib\\site-packages (from prompt-toolkit!=3.0.0,!=3.0.1,<3.1.0,>=2.0.0->ipython->jupyternotify) (0.2.5)\n",
      "Requirement already satisfied: parso<0.8.0,>=0.7.0 in c:\\users\\rafael\\anaconda3\\lib\\site-packages (from jedi>=0.10->ipython->jupyternotify) (0.7.0)\n",
      "Requirement already satisfied: ipython-genutils in c:\\users\\rafael\\anaconda3\\lib\\site-packages (from traitlets>=4.2->ipython->jupyternotify) (0.2.0)\n",
      "Requirement already satisfied: jupyter-client in c:\\users\\rafael\\anaconda3\\lib\\site-packages (from ipykernel->jupyter->jupyternotify) (6.1.7)\n",
      "Requirement already satisfied: tornado>=4.2 in c:\\users\\rafael\\anaconda3\\lib\\site-packages (from ipykernel->jupyter->jupyternotify) (6.0.4)\n",
      "Requirement already satisfied: jupyter-core in c:\\users\\rafael\\anaconda3\\lib\\site-packages (from qtconsole->jupyter->jupyternotify) (4.6.3)\n",
      "Requirement already satisfied: qtpy in c:\\users\\rafael\\anaconda3\\lib\\site-packages (from qtconsole->jupyter->jupyternotify) (1.9.0)\n",
      "Requirement already satisfied: pyzmq>=17.1 in c:\\users\\rafael\\anaconda3\\lib\\site-packages (from qtconsole->jupyter->jupyternotify) (19.0.2)\n",
      "Requirement already satisfied: widgetsnbextension~=3.5.0 in c:\\users\\rafael\\anaconda3\\lib\\site-packages (from ipywidgets->jupyter->jupyternotify) (3.5.1)\n",
      "Requirement already satisfied: nbformat>=4.2.0 in c:\\users\\rafael\\anaconda3\\lib\\site-packages (from ipywidgets->jupyter->jupyternotify) (5.0.8)\n",
      "Requirement already satisfied: testpath in c:\\users\\rafael\\anaconda3\\lib\\site-packages (from nbconvert->jupyter->jupyternotify) (0.4.4)\n",
      "Requirement already satisfied: entrypoints>=0.2.2 in c:\\users\\rafael\\anaconda3\\lib\\site-packages (from nbconvert->jupyter->jupyternotify) (0.3)\n",
      "Requirement already satisfied: mistune<2,>=0.8.1 in c:\\users\\rafael\\anaconda3\\lib\\site-packages (from nbconvert->jupyter->jupyternotify) (0.8.4)\n",
      "Requirement already satisfied: nbclient<0.6.0,>=0.5.0 in c:\\users\\rafael\\anaconda3\\lib\\site-packages (from nbconvert->jupyter->jupyternotify) (0.5.1)\n",
      "Requirement already satisfied: defusedxml in c:\\users\\rafael\\anaconda3\\lib\\site-packages (from nbconvert->jupyter->jupyternotify) (0.6.0)\n",
      "Requirement already satisfied: jinja2>=2.4 in c:\\users\\rafael\\anaconda3\\lib\\site-packages (from nbconvert->jupyter->jupyternotify) (2.11.2)\n",
      "Requirement already satisfied: bleach in c:\\users\\rafael\\anaconda3\\lib\\site-packages (from nbconvert->jupyter->jupyternotify) (3.2.1)\n",
      "Requirement already satisfied: jupyterlab-pygments in c:\\users\\rafael\\anaconda3\\lib\\site-packages (from nbconvert->jupyter->jupyternotify) (0.1.2)\n",
      "Requirement already satisfied: pandocfilters>=1.4.1 in c:\\users\\rafael\\anaconda3\\lib\\site-packages (from nbconvert->jupyter->jupyternotify) (1.4.3)\n",
      "Requirement already satisfied: prometheus-client in c:\\users\\rafael\\anaconda3\\lib\\site-packages (from notebook->jupyter->jupyternotify) (0.8.0)\n",
      "Requirement already satisfied: argon2-cffi in c:\\users\\rafael\\anaconda3\\lib\\site-packages (from notebook->jupyter->jupyternotify) (20.1.0)\n",
      "Requirement already satisfied: Send2Trash in c:\\users\\rafael\\anaconda3\\lib\\site-packages (from notebook->jupyter->jupyternotify) (1.5.0)\n",
      "Requirement already satisfied: terminado>=0.8.3 in c:\\users\\rafael\\anaconda3\\lib\\site-packages (from notebook->jupyter->jupyternotify) (0.9.1)\n",
      "Requirement already satisfied: python-dateutil>=2.1 in c:\\users\\rafael\\anaconda3\\lib\\site-packages (from jupyter-client->ipykernel->jupyter->jupyternotify) (2.8.1)\n",
      "Requirement already satisfied: pywin32>=1.0; sys_platform == \"win32\" in c:\\users\\rafael\\anaconda3\\lib\\site-packages (from jupyter-core->qtconsole->jupyter->jupyternotify) (227)\n",
      "Requirement already satisfied: jsonschema!=2.5.0,>=2.4 in c:\\users\\rafael\\anaconda3\\lib\\site-packages (from nbformat>=4.2.0->ipywidgets->jupyter->jupyternotify) (3.2.0)\n",
      "Requirement already satisfied: async-generator in c:\\users\\rafael\\anaconda3\\lib\\site-packages (from nbclient<0.6.0,>=0.5.0->nbconvert->jupyter->jupyternotify) (1.10)\n",
      "Requirement already satisfied: nest-asyncio in c:\\users\\rafael\\anaconda3\\lib\\site-packages (from nbclient<0.6.0,>=0.5.0->nbconvert->jupyter->jupyternotify) (1.4.2)\n",
      "Requirement already satisfied: MarkupSafe>=0.23 in c:\\users\\rafael\\anaconda3\\lib\\site-packages (from jinja2>=2.4->nbconvert->jupyter->jupyternotify) (1.1.1)\n",
      "Requirement already satisfied: packaging in c:\\users\\rafael\\anaconda3\\lib\\site-packages (from bleach->nbconvert->jupyter->jupyternotify) (20.4)\n",
      "Requirement already satisfied: six>=1.9.0 in c:\\users\\rafael\\anaconda3\\lib\\site-packages (from bleach->nbconvert->jupyter->jupyternotify) (1.15.0)\n",
      "Requirement already satisfied: webencodings in c:\\users\\rafael\\anaconda3\\lib\\site-packages (from bleach->nbconvert->jupyter->jupyternotify) (0.5.1)\n",
      "Requirement already satisfied: cffi>=1.0.0 in c:\\users\\rafael\\anaconda3\\lib\\site-packages (from argon2-cffi->notebook->jupyter->jupyternotify) (1.14.3)\n",
      "Requirement already satisfied: pywinpty>=0.5 in c:\\users\\rafael\\anaconda3\\lib\\site-packages (from terminado>=0.8.3->notebook->jupyter->jupyternotify) (0.5.7)\n",
      "Requirement already satisfied: pyrsistent>=0.14.0 in c:\\users\\rafael\\anaconda3\\lib\\site-packages (from jsonschema!=2.5.0,>=2.4->nbformat>=4.2.0->ipywidgets->jupyter->jupyternotify) (0.17.3)\n",
      "Requirement already satisfied: attrs>=17.4.0 in c:\\users\\rafael\\anaconda3\\lib\\site-packages (from jsonschema!=2.5.0,>=2.4->nbformat>=4.2.0->ipywidgets->jupyter->jupyternotify) (20.3.0)\n",
      "Requirement already satisfied: pyparsing>=2.0.2 in c:\\users\\rafael\\anaconda3\\lib\\site-packages (from packaging->bleach->nbconvert->jupyter->jupyternotify) (2.4.7)\n",
      "Requirement already satisfied: pycparser in c:\\users\\rafael\\anaconda3\\lib\\site-packages (from cffi>=1.0.0->argon2-cffi->notebook->jupyter->jupyternotify) (2.20)\n"
     ]
    }
   ],
   "source": [
    "import sys\n",
    "!{sys.executable} -m pip install jupyternotify"
   ]
  },
  {
   "cell_type": "code",
   "execution_count": 2,
   "metadata": {},
   "outputs": [
    {
     "data": {
      "application/javascript": [
       "if (!(\"Notification\" in window)) {\n",
       "    alert(\"This browser does not support desktop notifications, so the %%notify magic will not work.\");\n",
       "} else if (Notification.permission !== 'granted' && Notification.permission !== 'denied') {\n",
       "    Notification.requestPermission(function (permission) {\n",
       "        if(!('permission' in Notification)) {\n",
       "            Notification.permission = permission;\n",
       "        }\n",
       "    })\n",
       "}\n"
      ],
      "text/plain": [
       "<IPython.core.display.Javascript object>"
      ]
     },
     "metadata": {},
     "output_type": "display_data"
    }
   ],
   "source": [
    "%load_ext jupyternotify"
   ]
  },
  {
   "cell_type": "code",
   "execution_count": 3,
   "metadata": {},
   "outputs": [],
   "source": [
    "# Importando Ferramentas Básicas\n",
    "import pandas                  as pd\n",
    "import matplotlib.pyplot       as plt\n",
    "import numpy                   as np\n",
    "import                            os\n",
    "from   datetime            import datetime"
   ]
  },
  {
   "cell_type": "code",
   "execution_count": 4,
   "metadata": {},
   "outputs": [],
   "source": [
    "# Importando Ferramentas de Limpeza\n",
    "from sklearn.decomposition    import PCA\n",
    "from sklearn.preprocessing    import StandardScaler\n",
    "from sklearn.pipeline         import make_pipeline, Pipeline"
   ]
  },
  {
   "cell_type": "code",
   "execution_count": 5,
   "metadata": {},
   "outputs": [],
   "source": [
    "# Importando Ferramentas de Modelo\n",
    "from sklearn.svm              import SVR\n",
    "from xgboost                  import XGBRegressor\n",
    "from sklearn.model_selection  import train_test_split\n",
    "from sklearn.model_selection  import GridSearchCV, RandomizedSearchCV\n",
    "from sklearn.metrics          import accuracy_score, mean_absolute_error\n",
    "from sklearn.linear_model     import LinearRegression, LogisticRegression, Lasso\n",
    "from sklearn.base             import BaseEstimator"
   ]
  },
  {
   "cell_type": "code",
   "execution_count": 63,
   "metadata": {},
   "outputs": [],
   "source": [
    "# Importando os dados\n",
    "train = pd.read_csv('./../Dados/train.csv')\n",
    "test = pd.read_csv('./../Dados/test.csv')"
   ]
  },
  {
   "cell_type": "code",
   "execution_count": 64,
   "metadata": {},
   "outputs": [],
   "source": [
    "# Criando Features\n",
    "dataframes = [train, test]\n",
    "\n",
    "for df in dataframes:\n",
    "    df['volume']  = df.x * df.y * df.z\n",
    "    df['densidade'] = df.volume / df.n"
   ]
  },
  {
   "cell_type": "code",
   "execution_count": null,
   "metadata": {},
   "outputs": [],
   "source": [
    "train.head()"
   ]
  },
  {
   "cell_type": "code",
   "execution_count": null,
   "metadata": {},
   "outputs": [],
   "source": [
    "test.head()"
   ]
  },
  {
   "cell_type": "code",
   "execution_count": null,
   "metadata": {},
   "outputs": [],
   "source": [
    "train.isna().sum()/len(train)"
   ]
  },
  {
   "cell_type": "code",
   "execution_count": null,
   "metadata": {},
   "outputs": [],
   "source": [
    "test.isna().sum()/len(train)"
   ]
  },
  {
   "cell_type": "code",
   "execution_count": null,
   "metadata": {},
   "outputs": [],
   "source": [
    "train.cent_price_cor.describe()"
   ]
  },
  {
   "cell_type": "code",
   "execution_count": null,
   "metadata": {},
   "outputs": [],
   "source": [
    "train.cent_trans_cor.describe()"
   ]
  },
  {
   "cell_type": "code",
   "execution_count": null,
   "metadata": {},
   "outputs": [],
   "source": [
    "train.corr()[\"cent_price_cor\"].abs().sort_values(ascending = True)"
   ]
  },
  {
   "cell_type": "code",
   "execution_count": null,
   "metadata": {},
   "outputs": [],
   "source": [
    "train.corr()[\"cent_trans_cor\"].abs().sort_values(ascending = True)"
   ]
  },
  {
   "cell_type": "code",
   "execution_count": null,
   "metadata": {},
   "outputs": [],
   "source": [
    "y_1_pred = pipe_1.predict(X_test)"
   ]
  },
  {
   "cell_type": "code",
   "execution_count": null,
   "metadata": {},
   "outputs": [],
   "source": [
    "mean_absolute_error(y_1_test, y_1_pred)"
   ]
  },
  {
   "cell_type": "markdown",
   "metadata": {},
   "source": [
    "## PCA"
   ]
  },
  {
   "cell_type": "code",
   "execution_count": 25,
   "metadata": {},
   "outputs": [],
   "source": [
    "X = train.drop(columns = ['cent_price_cor', 'cent_trans_cor'], axis = 1)\n",
    "\n",
    "scaler = StandardScaler()\n",
    "\n",
    "transf_X_train = scaler.fit_transform(X_train)\n",
    "transf_X_test = scaler.fit_transform(X_test)"
   ]
  },
  {
   "cell_type": "code",
   "execution_count": 28,
   "metadata": {},
   "outputs": [],
   "source": [
    "y_price = train.cent_price_cor\n",
    "y_trans = train.cent_trans_cor\n",
    "\n",
    "X_train, X_test, y_price_train, y_price_test = train_test_split(X,y_price,\n",
    "                                                    test_size = 0.25,\n",
    "                                                    random_state = 0)\n",
    "\n",
    "X_train, X_test, y_trans_train, y_trans_test = train_test_split(X,y_trans,\n",
    "                                                    test_size = 0.25,\n",
    "                                                    random_state = 0)"
   ]
  },
  {
   "cell_type": "code",
   "execution_count": 29,
   "metadata": {},
   "outputs": [],
   "source": [
    "models = {'Linear Regression': LinearRegression(n_jobs = -1),\n",
    "          'SVR': SVR(epsilon=0.2),\n",
    "          'Lasso': Lasso(),\n",
    "          'XGBoostRegressor': XGBRegressor()}"
   ]
  },
  {
   "cell_type": "code",
   "execution_count": 67,
   "metadata": {},
   "outputs": [],
   "source": [
    "def fit_score_PCA(models,X_train,y_train,X_test,y_test,components):\n",
    "\n",
    "    # Make a dict to keep model scores\n",
    "    model_scores = {}\n",
    "    \n",
    "    for i in components:\n",
    "        \n",
    "        pca = PCA(n_components = i)\n",
    "        X_train_PCA = pca.fit_transform(X_train)\n",
    "        X_test_PCA = pca.transform(X_test)\n",
    "        \n",
    "        print(X_train_PCA.shape)\n",
    "        print(X_test_PCA.shape)\n",
    "\n",
    "        # Loop through models\n",
    "        for name, model in models.items():\n",
    "\n",
    "            # Fit the model to the data\n",
    "            model.fit(X_train_PCA,y_train)\n",
    "        \n",
    "            y_pred = model.predict(X_test_PCA)\n",
    "\n",
    "            #Evaluates the model and append its score to model_scores\n",
    "            model_scores[name + '_' + str(i)] = mean_absolute_error(y_test, y_pred)\n",
    "\n",
    "    return model_scores"
   ]
  },
  {
   "cell_type": "code",
   "execution_count": 68,
   "metadata": {},
   "outputs": [
    {
     "name": "stdout",
     "output_type": "stream",
     "text": [
      "(8955, 1)\n",
      "(2985, 1)\n",
      "(8955, 1)\n",
      "(2985, 1)\n"
     ]
    }
   ],
   "source": [
    "model_scores_trans = fit_score_PCA(models,X_train,y_trans_train,X_test,y_trans_test, [0.95])\n",
    "model_scores_price = fit_score_PCA(models,X_train,y_price_train,X_test,y_price_test, [0.95])"
   ]
  },
  {
   "cell_type": "code",
   "execution_count": null,
   "metadata": {},
   "outputs": [],
   "source": [
    "# Melhores scores para 0.95 (sem scaling)\n",
    "0.0941312117033256 + 0.090252152275057"
   ]
  },
  {
   "cell_type": "code",
   "execution_count": 61,
   "metadata": {},
   "outputs": [
    {
     "name": "stdout",
     "output_type": "stream",
     "text": [
      "(8955, 4)\n",
      "(8955, 1)\n"
     ]
    }
   ],
   "source": [
    "model_scores_trans = fit_score_PCA(models,transf_X_train,y_trans_train,transf_X_test,y_trans_test, [0.2])\n",
    "model_scores_price = fit_score_PCA(models,transf_X_train,y_price_train,transf_X_test,y_price_test, [1])"
   ]
  },
  {
   "cell_type": "code",
   "execution_count": null,
   "metadata": {},
   "outputs": [],
   "source": [
    "# Melhores scores para 0.95 (com scaling)\n",
    "0.0941305091243686 + 0.09025552474334281"
   ]
  },
  {
   "cell_type": "code",
   "execution_count": 74,
   "metadata": {},
   "outputs": [
    {
     "name": "stdout",
     "output_type": "stream",
     "text": [
      "(8955, 2)\n",
      "(2985, 2)\n",
      "(8955, 1)\n",
      "(2985, 1)\n"
     ]
    }
   ],
   "source": [
    "model_scores_trans = fit_score_PCA(models,transf_X_train,y_trans_train,transf_X_test,y_trans_test, [0.1])\n",
    "model_scores_price = fit_score_PCA(models,transf_X_train,y_price_train,transf_X_test,y_price_test, [1])"
   ]
  },
  {
   "cell_type": "code",
   "execution_count": 89,
   "metadata": {},
   "outputs": [
    {
     "name": "stdout",
     "output_type": "stream",
     "text": [
      "(8955, 21)\n",
      "(2985, 21)\n",
      "(8955, 22)\n",
      "(2985, 22)\n",
      "(8955, 24)\n",
      "(2985, 24)\n",
      "(8955, 25)\n",
      "(2985, 25)\n"
     ]
    }
   ],
   "source": [
    "model_scores_trans = fit_score_PCA(models,transf_X_train,y_trans_train,transf_X_test,y_trans_test, [0.8,0.85,0.9,0.95])\n",
    "#model_scores_price = fit_score_PCA(models,transf_X_train,y_price_train,transf_X_test,y_price_test, [0.91,0.95,1])"
   ]
  },
  {
   "cell_type": "code",
   "execution_count": 17,
   "metadata": {},
   "outputs": [
    {
     "data": {
      "text/plain": [
       "['Linear Regression_0.95',\n",
       " 'Linear Regression_0.91',\n",
       " 'Lasso_0.91',\n",
       " 'Lasso_0.95',\n",
       " 'Lasso_1',\n",
       " 'Linear Regression_1',\n",
       " 'SVR_1',\n",
       " 'XGBoostRegressor_1',\n",
       " 'XGBoostRegressor_0.91',\n",
       " 'XGBoostRegressor_0.95',\n",
       " 'SVR_0.91',\n",
       " 'SVR_0.95']"
      ]
     },
     "execution_count": 17,
     "metadata": {},
     "output_type": "execute_result"
    }
   ],
   "source": [
    "#'Linear Regression_0.95': 0.09020619481829613\n",
    "\n",
    "sorted(model_scores_trans, key = model_scores_trans.get)"
   ]
  },
  {
   "cell_type": "code",
   "execution_count": 18,
   "metadata": {},
   "outputs": [
    {
     "data": {
      "text/plain": [
       "['Lasso_0.91',\n",
       " 'Lasso_0.95',\n",
       " 'Lasso_1',\n",
       " 'Linear Regression_1',\n",
       " 'Linear Regression_0.95',\n",
       " 'Linear Regression_0.91',\n",
       " 'SVR_1',\n",
       " 'XGBoostRegressor_1',\n",
       " 'SVR_0.95',\n",
       " 'SVR_0.91',\n",
       " 'XGBoostRegressor_0.95',\n",
       " 'XGBoostRegressor_0.91']"
      ]
     },
     "execution_count": 18,
     "metadata": {},
     "output_type": "execute_result"
    }
   ],
   "source": [
    "# 'Lasso_0.91': 0.09411110306791731,\n",
    "sorted(model_scores_price, key = model_scores_price.get)"
   ]
  },
  {
   "cell_type": "code",
   "execution_count": null,
   "metadata": {},
   "outputs": [],
   "source": [
    "model_scores_trans = fit_score_PCA(models,transf_X_train,y_trans_train,transf_X_test,y_trans_test, [0.8,0.85,0.9,0.95])\n",
    "model_scores_price = fit_score_PCA(models,transf_X_train,y_price_train,transf_X_test,y_price_test, [0.8,0.85,0.9,0.95])"
   ]
  },
  {
   "cell_type": "code",
   "execution_count": 19,
   "metadata": {},
   "outputs": [
    {
     "data": {
      "text/plain": [
       "{'Lasso_0.91': 0.09411110306791731,\n",
       " 'Lasso_0.95': 0.09411110306791731,\n",
       " 'Lasso_1': 0.09411110306791731,\n",
       " 'Linear Regression_1': 0.09413049877635919,\n",
       " 'Linear Regression_0.95': 0.09417792238315124,\n",
       " 'Linear Regression_0.91': 0.09417835915003633,\n",
       " 'SVR_1': 0.09434654907849423,\n",
       " 'XGBoostRegressor_1': 0.09705142031202166,\n",
       " 'SVR_0.95': 0.09830355128110657,\n",
       " 'SVR_0.91': 0.09886755546696292,\n",
       " 'XGBoostRegressor_0.95': 0.10000986378128596,\n",
       " 'XGBoostRegressor_0.91': 0.10054150387570636}"
      ]
     },
     "execution_count": 19,
     "metadata": {},
     "output_type": "execute_result"
    }
   ],
   "source": [
    "{k: v for k, v in sorted(model_scores_price.items(), key=lambda item: item[1])}"
   ]
  },
  {
   "cell_type": "code",
   "execution_count": 20,
   "metadata": {},
   "outputs": [
    {
     "data": {
      "text/plain": [
       "{'Linear Regression_0.95': 0.09020619481829613,\n",
       " 'Linear Regression_0.91': 0.09021593345191478,\n",
       " 'Lasso_0.91': 0.09025387237696017,\n",
       " 'Lasso_0.95': 0.09025387237696017,\n",
       " 'Lasso_1': 0.09025387237696017,\n",
       " 'Linear Regression_1': 0.09025552931887561,\n",
       " 'SVR_1': 0.0931376154572009,\n",
       " 'XGBoostRegressor_1': 0.09335223579586452,\n",
       " 'XGBoostRegressor_0.91': 0.09602769537295529,\n",
       " 'XGBoostRegressor_0.95': 0.09618455696513305,\n",
       " 'SVR_0.91': 0.10137796527210743,\n",
       " 'SVR_0.95': 0.10148067436569513}"
      ]
     },
     "execution_count": 20,
     "metadata": {},
     "output_type": "execute_result"
    }
   ],
   "source": [
    "{k: v for k, v in sorted(model_scores_trans.items(), key=lambda item: item[1])}"
   ]
  },
  {
   "cell_type": "markdown",
   "metadata": {},
   "source": [
    "## GridSearch"
   ]
  },
  {
   "cell_type": "code",
   "execution_count": 6,
   "metadata": {},
   "outputs": [],
   "source": [
    "# Execucao do programa\n",
    "\n",
    "# Importando os dados\n",
    "train = pd.read_csv('./../Dados/train.csv')\n",
    "test = pd.read_csv('./../Dados/test.csv')\n",
    "\n",
    "dataframes = [train, test]\n",
    "\n",
    "for df in dataframes:\n",
    "    df['volume']  = df.x * df.y * df.z\n",
    "    df['densidade'] = df.volume / df.n\n",
    "    \n",
    "X = train.drop(columns = ['cent_price_cor', 'cent_trans_cor'], axis = 1)"
   ]
  },
  {
   "cell_type": "code",
   "execution_count": 7,
   "metadata": {},
   "outputs": [],
   "source": [
    "y_price = train.cent_price_cor\n",
    "y_trans = train.cent_trans_cor\n",
    "\n",
    "X_train, X_test, y_price_train, y_price_test = train_test_split(X,y_price,\n",
    "                                                    test_size = 0.25,\n",
    "                                                    random_state = 0)\n",
    "\n",
    "X_train, X_test, y_trans_train, y_trans_test = train_test_split(X,y_trans,\n",
    "                                                    test_size = 0.25,\n",
    "                                                    random_state = 0)"
   ]
  },
  {
   "cell_type": "code",
   "execution_count": 26,
   "metadata": {},
   "outputs": [],
   "source": [
    "scaler = StandardScaler()\n",
    "\n",
    "transf_X = scaler.fit_transform(X)\n",
    "transf_X_test = scaler.fit_transform(X_test)"
   ]
  },
  {
   "cell_type": "code",
   "execution_count": 27,
   "metadata": {},
   "outputs": [],
   "source": [
    "# Coletanea de parametros para o GridSearch\n",
    "params_grid = [\n",
    "\n",
    "#Linear Regression\n",
    "{'normalize': ['True', 'False'],\n",
    "'fit_intercept': ['True', 'False']},\n",
    " \n",
    "#SVR teste\n",
    "# {'C': [0.1], \n",
    "#  'coef0': [0.01], \n",
    "#  'degree': [3], \n",
    "#  'epsilon': [0.1], \n",
    "#  'gamma': ['auto'], \n",
    "#  'kernel': ['rbf']}\n",
    "    \n",
    " #SVR RBF\n",
    "# {'kernel': ['rbf'],\n",
    "# 'C':[0.1, 0.5, 1, 5, 10],\n",
    "# 'degree': [3,8],\n",
    "# 'coef0': [0.01,10,0.5],\n",
    "#  'gamma': ('auto','scale'),\n",
    "#  'epsilon': [0.1,0.2]}\n",
    "    \n",
    " #SVR POLY\n",
    " #,{'kernel': ['poly'],\n",
    "# 'C':[0.1, 0.5, 1, 5, 10],\n",
    " #'degree': [3,8],\n",
    " #'coef0': [0.01,10,0.5],\n",
    "# 'gamma': ('auto','scale'),\n",
    " #'epsilon': [0.1,0.2]}\n",
    "    \n",
    "#Lasso\n",
    "#,{'alpha':[0.02, 0.024, 0.025, 0.026, 0.03]}  \n",
    "    \n",
    "# #XGBoost\n",
    "{'nthread':[4], #when use hyperthread, xgboost may become slower\n",
    "'objective':['reg:linear'],\n",
    "'learning_rate': [.03, 0.05, .07], #so called `eta` value\n",
    "'max_depth': [5, 6, 7],\n",
    "'min_child_weight': [4],\n",
    "'silent': [1],\n",
    "'subsample': [0.7],\n",
    "'colsample_bytree': [0.7],\n",
    "'n_estimators': [500]}\n",
    " ]"
   ]
  },
  {
   "cell_type": "code",
   "execution_count": 28,
   "metadata": {},
   "outputs": [],
   "source": [
    "def prever(X_train, X_test, y_train, y_test, target_name, components = [20,21,22,23,24,25,26,27,28]):\n",
    "    \n",
    "    lista_scores = []\n",
    "    lista_PCA = []\n",
    "    lista_params = []\n",
    "    lista_models = []\n",
    "    \n",
    "    models = [\n",
    "        LinearRegression(),\n",
    "        #SVR(),\n",
    "        #SVR(),\n",
    "        #Lasso()\n",
    "        XGBRegressor()\n",
    "        ]\n",
    "     \n",
    "    for n in components:\n",
    "        \n",
    "        pca = PCA(n_components = n)\n",
    "        X_train_PCA = pca.fit_transform(X_train)\n",
    "        X_test_PCA = pca.transform(X_test)\n",
    "            \n",
    "        for i, model in enumerate(models):\n",
    "\n",
    "            print(f\"\\n\\nModelo: {model}\\nComponent: {n}\\n\\n\" + str(X_train_PCA.shape) + str(X_test_PCA.shape))\n",
    "\n",
    "            clf = GridSearchCV(model, param_grid = params_grid[i],\n",
    "                               scoring = 'neg_mean_absolute_error', #destaque Ã  mÃ©trica pedida\n",
    "                               n_jobs=-1, refit=True, cv=5, verbose=6,\n",
    "                               pre_dispatch='2*n_jobs', error_score='raise', \n",
    "                               return_train_score=True)\n",
    "            \n",
    "            clf.fit(X_train_PCA, y_train)\n",
    "\n",
    "            pred_cv = clf.predict(X_test_PCA)\n",
    "            score_cv = mean_absolute_error(y_test, pred_cv)\n",
    "            print(f\"Melhores parametros: {clf.best_params_}\")\n",
    "            print(f\"\\nScore Grid: {score_cv}\")\n",
    "            \n",
    "            lista_params.append(clf.best_params_)\n",
    "            lista_models.append(model)\n",
    "            lista_scores.append(round(score_cv,15))\n",
    "            lista_PCA.append(n)\n",
    "\n",
    "    print(\"Exportando DataFrame de Scores\\n\")\n",
    "\n",
    "    df_scores = pd.DataFrame()\n",
    "    \n",
    "    df_scores.insert(loc=0, column='PCA', value= pd.Series(lista_PCA))\n",
    "    df_scores.insert(loc=0, column='Scores', value= pd.Series(lista_scores))\n",
    "    df_scores.insert(loc=0, column='Params', value= pd.Series(lista_params))\n",
    "    df_scores.insert(loc=0, column='Model', value= pd.Series(lista_models))\n",
    "    df_scores.to_csv(f\"./../Resultados/{target_name}_scores_\"+\"{}.csv\".format(datetime.now().strftime(\"%d-%m-%Y_%Hh%Mm%Ss\")))\n",
    "            \n",
    "    return df_scores"
   ]
  },
  {
   "cell_type": "code",
   "execution_count": 22,
   "metadata": {},
   "outputs": [
    {
     "name": "stdout",
     "output_type": "stream",
     "text": [
      "\n",
      "\n",
      "Modelo: LinearRegression()\n",
      "Component: 10\n",
      "\n",
      "(11940, 10)(2985, 10)\n",
      "Fitting 5 folds for each of 4 candidates, totalling 20 fits\n"
     ]
    },
    {
     "name": "stderr",
     "output_type": "stream",
     "text": [
      "[Parallel(n_jobs=-1)]: Using backend LokyBackend with 12 concurrent workers.\n",
      "[Parallel(n_jobs=-1)]: Done   5 out of  20 | elapsed:    1.9s remaining:    5.8s\n",
      "[Parallel(n_jobs=-1)]: Done   9 out of  20 | elapsed:    1.9s remaining:    2.3s\n",
      "[Parallel(n_jobs=-1)]: Done  13 out of  20 | elapsed:    1.9s remaining:    1.0s\n",
      "[Parallel(n_jobs=-1)]: Done  17 out of  20 | elapsed:    1.9s remaining:    0.3s\n",
      "[Parallel(n_jobs=-1)]: Done  20 out of  20 | elapsed:    2.0s finished\n",
      "[Parallel(n_jobs=-1)]: Using backend LokyBackend with 12 concurrent workers.\n"
     ]
    },
    {
     "name": "stdout",
     "output_type": "stream",
     "text": [
      "Melhores parametros: {'fit_intercept': 'True', 'normalize': 'True'}\n",
      "\n",
      "Score Grid: 0.09016819877206027\n",
      "\n",
      "\n",
      "Modelo: XGBRegressor(base_score=None, booster=None, colsample_bylevel=None,\n",
      "             colsample_bynode=None, colsample_bytree=None, gamma=None,\n",
      "             gpu_id=None, importance_type='gain', interaction_constraints=None,\n",
      "             learning_rate=None, max_delta_step=None, max_depth=None,\n",
      "             min_child_weight=None, missing=nan, monotone_constraints=None,\n",
      "             n_estimators=100, n_jobs=None, num_parallel_tree=None,\n",
      "             random_state=None, reg_alpha=None, reg_lambda=None,\n",
      "             scale_pos_weight=None, subsample=None, tree_method=None,\n",
      "             validate_parameters=None, verbosity=None)\n",
      "Component: 10\n",
      "\n",
      "(11940, 10)(2985, 10)\n",
      "Fitting 5 folds for each of 9 candidates, totalling 45 fits\n"
     ]
    },
    {
     "name": "stderr",
     "output_type": "stream",
     "text": [
      "[Parallel(n_jobs=-1)]: Done  30 out of  45 | elapsed:   31.9s remaining:   15.9s\n",
      "[Parallel(n_jobs=-1)]: Done  38 out of  45 | elapsed:   39.3s remaining:    7.2s\n",
      "[Parallel(n_jobs=-1)]: Done  45 out of  45 | elapsed:   41.9s finished\n"
     ]
    },
    {
     "name": "stdout",
     "output_type": "stream",
     "text": [
      "[17:39:13] WARNING: C:/Users/Administrator/workspace/xgboost-win64_release_1.4.0/src/objective/regression_obj.cu:171: reg:linear is now deprecated in favor of reg:squarederror.\n",
      "[17:39:13] WARNING: C:/Users/Administrator/workspace/xgboost-win64_release_1.4.0/src/learner.cc:573: \n",
      "Parameters: { \"silent\" } might not be used.\n",
      "\n",
      "  This may not be accurate due to some parameters are only used in language bindings but\n",
      "  passed down to XGBoost core.  Or some parameters are not used but slip through this\n",
      "  verification. Please open an issue if you find above cases.\n",
      "\n",
      "\n",
      "Melhores parametros: {'colsample_bytree': 0.7, 'learning_rate': 0.03, 'max_depth': 5, 'min_child_weight': 4, 'n_estimators': 500, 'nthread': 4, 'objective': 'reg:linear', 'silent': 1, 'subsample': 0.7}\n",
      "\n",
      "Score Grid: 0.07896500452000092\n",
      "\n",
      "\n",
      "Modelo: LinearRegression()\n",
      "Component: 11\n",
      "\n",
      "(11940, 11)(2985, 11)\n",
      "Fitting 5 folds for each of 4 candidates, totalling 20 fits\n",
      "Melhores parametros: {'fit_intercept': 'True', 'normalize': 'True'}"
     ]
    },
    {
     "name": "stderr",
     "output_type": "stream",
     "text": [
      "[Parallel(n_jobs=-1)]: Using backend LokyBackend with 12 concurrent workers.\n",
      "[Parallel(n_jobs=-1)]: Done   5 out of  20 | elapsed:    0.0s remaining:    0.0s\n",
      "[Parallel(n_jobs=-1)]: Done   9 out of  20 | elapsed:    0.0s remaining:    0.0s\n",
      "[Parallel(n_jobs=-1)]: Done  13 out of  20 | elapsed:    0.0s remaining:    0.0s\n",
      "[Parallel(n_jobs=-1)]: Done  17 out of  20 | elapsed:    0.0s remaining:    0.0s\n",
      "[Parallel(n_jobs=-1)]: Done  20 out of  20 | elapsed:    0.0s finished\n",
      "[Parallel(n_jobs=-1)]: Using backend LokyBackend with 12 concurrent workers.\n"
     ]
    },
    {
     "name": "stdout",
     "output_type": "stream",
     "text": [
      "\n",
      "\n",
      "Score Grid: 0.09016640495073881\n",
      "\n",
      "\n",
      "Modelo: XGBRegressor(base_score=None, booster=None, colsample_bylevel=None,\n",
      "             colsample_bynode=None, colsample_bytree=None, gamma=None,\n",
      "             gpu_id=None, importance_type='gain', interaction_constraints=None,\n",
      "             learning_rate=None, max_delta_step=None, max_depth=None,\n",
      "             min_child_weight=None, missing=nan, monotone_constraints=None,\n",
      "             n_estimators=100, n_jobs=None, num_parallel_tree=None,\n",
      "             random_state=None, reg_alpha=None, reg_lambda=None,\n",
      "             scale_pos_weight=None, subsample=None, tree_method=None,\n",
      "             validate_parameters=None, verbosity=None)\n",
      "Component: 11\n",
      "\n",
      "(11940, 11)(2985, 11)\n",
      "Fitting 5 folds for each of 9 candidates, totalling 45 fits\n"
     ]
    },
    {
     "name": "stderr",
     "output_type": "stream",
     "text": [
      "[Parallel(n_jobs=-1)]: Done  30 out of  45 | elapsed:   31.8s remaining:   15.8s\n",
      "[Parallel(n_jobs=-1)]: Done  38 out of  45 | elapsed:   38.8s remaining:    7.1s\n",
      "[Parallel(n_jobs=-1)]: Done  45 out of  45 | elapsed:   41.4s finished\n"
     ]
    },
    {
     "name": "stdout",
     "output_type": "stream",
     "text": [
      "[17:39:57] WARNING: C:/Users/Administrator/workspace/xgboost-win64_release_1.4.0/src/objective/regression_obj.cu:171: reg:linear is now deprecated in favor of reg:squarederror.\n",
      "[17:39:57] WARNING: C:/Users/Administrator/workspace/xgboost-win64_release_1.4.0/src/learner.cc:573: \n",
      "Parameters: { \"silent\" } might not be used.\n",
      "\n",
      "  This may not be accurate due to some parameters are only used in language bindings but\n",
      "  passed down to XGBoost core.  Or some parameters are not used but slip through this\n",
      "  verification. Please open an issue if you find above cases.\n",
      "\n",
      "\n",
      "Melhores parametros: {'colsample_bytree': 0.7, 'learning_rate': 0.03, 'max_depth': 5, 'min_child_weight': 4, 'n_estimators': 500, 'nthread': 4, 'objective': 'reg:linear', 'silent': 1, 'subsample': 0.7}\n",
      "\n",
      "Score Grid: 0.07901644268115761\n",
      "\n",
      "\n",
      "Modelo: LinearRegression()\n",
      "Component: 12\n",
      "\n",
      "(11940, 12)(2985, 12)\n",
      "Fitting 5 folds for each of 4 candidates, totalling 20 fits\n",
      "Melhores parametros: {'fit_intercept': 'True', 'normalize': 'True'}"
     ]
    },
    {
     "name": "stderr",
     "output_type": "stream",
     "text": [
      "[Parallel(n_jobs=-1)]: Using backend LokyBackend with 12 concurrent workers.\n",
      "[Parallel(n_jobs=-1)]: Done   5 out of  20 | elapsed:    0.0s remaining:    0.0s\n",
      "[Parallel(n_jobs=-1)]: Done   9 out of  20 | elapsed:    0.0s remaining:    0.0s\n",
      "[Parallel(n_jobs=-1)]: Done  13 out of  20 | elapsed:    0.0s remaining:    0.0s\n",
      "[Parallel(n_jobs=-1)]: Done  17 out of  20 | elapsed:    0.0s remaining:    0.0s\n",
      "[Parallel(n_jobs=-1)]: Done  20 out of  20 | elapsed:    0.0s finished\n",
      "[Parallel(n_jobs=-1)]: Using backend LokyBackend with 12 concurrent workers.\n"
     ]
    },
    {
     "name": "stdout",
     "output_type": "stream",
     "text": [
      "\n",
      "\n",
      "Score Grid: 0.09015308508174778\n",
      "\n",
      "\n",
      "Modelo: XGBRegressor(base_score=None, booster=None, colsample_bylevel=None,\n",
      "             colsample_bynode=None, colsample_bytree=None, gamma=None,\n",
      "             gpu_id=None, importance_type='gain', interaction_constraints=None,\n",
      "             learning_rate=None, max_delta_step=None, max_depth=None,\n",
      "             min_child_weight=None, missing=nan, monotone_constraints=None,\n",
      "             n_estimators=100, n_jobs=None, num_parallel_tree=None,\n",
      "             random_state=None, reg_alpha=None, reg_lambda=None,\n",
      "             scale_pos_weight=None, subsample=None, tree_method=None,\n",
      "             validate_parameters=None, verbosity=None)\n",
      "Component: 12\n",
      "\n",
      "(11940, 12)(2985, 12)\n",
      "Fitting 5 folds for each of 9 candidates, totalling 45 fits\n"
     ]
    },
    {
     "name": "stderr",
     "output_type": "stream",
     "text": [
      "[Parallel(n_jobs=-1)]: Done  30 out of  45 | elapsed:   34.8s remaining:   17.4s\n",
      "[Parallel(n_jobs=-1)]: Done  38 out of  45 | elapsed:   44.7s remaining:    8.1s\n",
      "[Parallel(n_jobs=-1)]: Done  45 out of  45 | elapsed:   46.3s finished\n"
     ]
    },
    {
     "name": "stdout",
     "output_type": "stream",
     "text": [
      "[17:40:46] WARNING: C:/Users/Administrator/workspace/xgboost-win64_release_1.4.0/src/objective/regression_obj.cu:171: reg:linear is now deprecated in favor of reg:squarederror.\n",
      "[17:40:46] WARNING: C:/Users/Administrator/workspace/xgboost-win64_release_1.4.0/src/learner.cc:573: \n",
      "Parameters: { \"silent\" } might not be used.\n",
      "\n",
      "  This may not be accurate due to some parameters are only used in language bindings but\n",
      "  passed down to XGBoost core.  Or some parameters are not used but slip through this\n",
      "  verification. Please open an issue if you find above cases.\n",
      "\n",
      "\n",
      "Melhores parametros: {'colsample_bytree': 0.7, 'learning_rate': 0.03, 'max_depth': 5, 'min_child_weight': 4, 'n_estimators': 500, 'nthread': 4, 'objective': 'reg:linear', 'silent': 1, 'subsample': 0.7}\n",
      "\n",
      "Score Grid: 0.07827996617373909\n",
      "\n",
      "\n",
      "Modelo: LinearRegression()\n",
      "Component: 13\n",
      "\n",
      "(11940, 13)(2985, 13)\n",
      "Fitting 5 folds for each of 4 candidates, totalling 20 fits\n",
      "Melhores parametros: {'fit_intercept': 'True', 'normalize': 'True'}\n",
      "\n",
      "Score Grid: 0.09015496830345414\n",
      "\n",
      "\n",
      "Modelo: XGBRegressor(base_score=None, booster=None, colsample_bylevel=None,\n",
      "             colsample_bynode=None, colsample_bytree=None, gamma=None,\n",
      "             gpu_id=None, importance_type='gain', interaction_constraints=None,\n",
      "             learning_rate=None, max_delta_step=None, max_depth=None,\n",
      "             min_child_weight=None, missing=nan, monotone_constraints=None,\n",
      "             n_estimators=100, n_jobs=None, num_parallel_tree=None,\n",
      "             random_state=None, reg_alpha=None, reg_lambda=None,\n",
      "             scale_pos_weight=None, subsample=None, tree_method=None,\n",
      "             validate_parameters=None, verbosity=None)\n",
      "Component: 13\n",
      "\n",
      "(11940, 13)(2985, 13)\n",
      "Fitting 5 folds for each of 9 candidates, totalling 45 fits\n"
     ]
    },
    {
     "name": "stderr",
     "output_type": "stream",
     "text": [
      "[Parallel(n_jobs=-1)]: Using backend LokyBackend with 12 concurrent workers.\n",
      "[Parallel(n_jobs=-1)]: Done   5 out of  20 | elapsed:    0.0s remaining:    0.0s\n",
      "[Parallel(n_jobs=-1)]: Done   9 out of  20 | elapsed:    0.0s remaining:    0.0s\n",
      "[Parallel(n_jobs=-1)]: Done  13 out of  20 | elapsed:    0.0s remaining:    0.0s\n",
      "[Parallel(n_jobs=-1)]: Done  17 out of  20 | elapsed:    0.0s remaining:    0.0s\n",
      "[Parallel(n_jobs=-1)]: Done  20 out of  20 | elapsed:    0.0s finished\n",
      "[Parallel(n_jobs=-1)]: Using backend LokyBackend with 12 concurrent workers.\n",
      "[Parallel(n_jobs=-1)]: Done  30 out of  45 | elapsed:   38.0s remaining:   18.9s\n",
      "[Parallel(n_jobs=-1)]: Done  38 out of  45 | elapsed:   46.0s remaining:    8.4s\n",
      "[Parallel(n_jobs=-1)]: Done  45 out of  45 | elapsed:   49.9s finished\n"
     ]
    },
    {
     "name": "stdout",
     "output_type": "stream",
     "text": [
      "[17:41:39] WARNING: C:/Users/Administrator/workspace/xgboost-win64_release_1.4.0/src/objective/regression_obj.cu:171: reg:linear is now deprecated in favor of reg:squarederror.\n",
      "[17:41:39] WARNING: C:/Users/Administrator/workspace/xgboost-win64_release_1.4.0/src/learner.cc:573: \n",
      "Parameters: { \"silent\" } might not be used.\n",
      "\n",
      "  This may not be accurate due to some parameters are only used in language bindings but\n",
      "  passed down to XGBoost core.  Or some parameters are not used but slip through this\n",
      "  verification. Please open an issue if you find above cases.\n",
      "\n",
      "\n",
      "Melhores parametros: {'colsample_bytree': 0.7, 'learning_rate': 0.03, 'max_depth': 5, 'min_child_weight': 4, 'n_estimators': 500, 'nthread': 4, 'objective': 'reg:linear', 'silent': 1, 'subsample': 0.7}\n",
      "\n",
      "Score Grid: 0.07803325629589745\n",
      "\n",
      "\n",
      "Modelo: LinearRegression()\n",
      "Component: 14\n",
      "\n",
      "(11940, 14)(2985, 14)\n",
      "Fitting 5 folds for each of 4 candidates, totalling 20 fits\n",
      "Melhores parametros: {'fit_intercept': 'True', 'normalize': 'True'}\n",
      "\n",
      "Score Grid: 0.09015764879883158\n",
      "\n",
      "\n",
      "Modelo: XGBRegressor(base_score=None, booster=None, colsample_bylevel=None,\n",
      "             colsample_bynode=None, colsample_bytree=None, gamma=None,\n",
      "             gpu_id=None, importance_type='gain', interaction_constraints=None,\n",
      "             learning_rate=None, max_delta_step=None, max_depth=None,\n",
      "             min_child_weight=None, missing=nan, monotone_constraints=None,\n",
      "             n_estimators=100, n_jobs=None, num_parallel_tree=None,\n",
      "             random_state=None, reg_alpha=None, reg_lambda=None,\n",
      "             scale_pos_weight=None, subsample=None, tree_method=None,\n",
      "             validate_parameters=None, verbosity=None)\n",
      "Component: 14\n",
      "\n",
      "(11940, 14)(2985, 14)\n",
      "Fitting 5 folds for each of 9 candidates, totalling 45 fits\n"
     ]
    },
    {
     "name": "stderr",
     "output_type": "stream",
     "text": [
      "[Parallel(n_jobs=-1)]: Using backend LokyBackend with 12 concurrent workers.\n",
      "[Parallel(n_jobs=-1)]: Done   5 out of  20 | elapsed:    0.0s remaining:    0.0s\n",
      "[Parallel(n_jobs=-1)]: Done   9 out of  20 | elapsed:    0.0s remaining:    0.0s\n",
      "[Parallel(n_jobs=-1)]: Done  13 out of  20 | elapsed:    0.0s remaining:    0.0s\n",
      "[Parallel(n_jobs=-1)]: Done  17 out of  20 | elapsed:    0.0s remaining:    0.0s\n",
      "[Parallel(n_jobs=-1)]: Done  20 out of  20 | elapsed:    0.0s finished\n",
      "[Parallel(n_jobs=-1)]: Using backend LokyBackend with 12 concurrent workers.\n",
      "[Parallel(n_jobs=-1)]: Done  30 out of  45 | elapsed:   38.0s remaining:   18.9s\n",
      "[Parallel(n_jobs=-1)]: Done  38 out of  45 | elapsed:   46.5s remaining:    8.5s\n",
      "[Parallel(n_jobs=-1)]: Done  45 out of  45 | elapsed:   50.5s finished\n"
     ]
    },
    {
     "name": "stdout",
     "output_type": "stream",
     "text": [
      "[17:42:32] WARNING: C:/Users/Administrator/workspace/xgboost-win64_release_1.4.0/src/objective/regression_obj.cu:171: reg:linear is now deprecated in favor of reg:squarederror.\n",
      "[17:42:32] WARNING: C:/Users/Administrator/workspace/xgboost-win64_release_1.4.0/src/learner.cc:573: \n",
      "Parameters: { \"silent\" } might not be used.\n",
      "\n",
      "  This may not be accurate due to some parameters are only used in language bindings but\n",
      "  passed down to XGBoost core.  Or some parameters are not used but slip through this\n",
      "  verification. Please open an issue if you find above cases.\n",
      "\n",
      "\n",
      "Melhores parametros: {'colsample_bytree': 0.7, 'learning_rate': 0.03, 'max_depth': 5, 'min_child_weight': 4, 'n_estimators': 500, 'nthread': 4, 'objective': 'reg:linear', 'silent': 1, 'subsample': 0.7}\n",
      "\n",
      "Score Grid: 0.07783726094463962\n",
      "\n",
      "\n",
      "Modelo: LinearRegression()\n",
      "Component: 15\n",
      "\n",
      "(11940, 15)(2985, 15)\n",
      "Fitting 5 folds for each of 4 candidates, totalling 20 fits\n"
     ]
    },
    {
     "name": "stderr",
     "output_type": "stream",
     "text": [
      "[Parallel(n_jobs=-1)]: Using backend LokyBackend with 12 concurrent workers.\n",
      "[Parallel(n_jobs=-1)]: Done   5 out of  20 | elapsed:    0.0s remaining:    0.0s\n",
      "[Parallel(n_jobs=-1)]: Done   9 out of  20 | elapsed:    0.0s remaining:    0.0s\n",
      "[Parallel(n_jobs=-1)]: Done  13 out of  20 | elapsed:    0.0s remaining:    0.0s\n",
      "[Parallel(n_jobs=-1)]: Done  17 out of  20 | elapsed:    0.0s remaining:    0.0s\n",
      "[Parallel(n_jobs=-1)]: Done  20 out of  20 | elapsed:    0.0s finished\n"
     ]
    },
    {
     "name": "stdout",
     "output_type": "stream",
     "text": [
      "Melhores parametros: {'fit_intercept': 'True', 'normalize': 'True'}\n",
      "\n",
      "Score Grid: 0.09014761032496964\n",
      "\n",
      "\n",
      "Modelo: XGBRegressor(base_score=None, booster=None, colsample_bylevel=None,\n",
      "             colsample_bynode=None, colsample_bytree=None, gamma=None,\n",
      "             gpu_id=None, importance_type='gain', interaction_constraints=None,\n",
      "             learning_rate=None, max_delta_step=None, max_depth=None,\n",
      "             min_child_weight=None, missing=nan, monotone_constraints=None,\n",
      "             n_estimators=100, n_jobs=None, num_parallel_tree=None,\n",
      "             random_state=None, reg_alpha=None, reg_lambda=None,\n",
      "             scale_pos_weight=None, subsample=None, tree_method=None,\n",
      "             validate_parameters=None, verbosity=None)\n",
      "Component: 15\n",
      "\n",
      "(11940, 15)(2985, 15)\n",
      "Fitting 5 folds for each of 9 candidates, totalling 45 fits\n"
     ]
    },
    {
     "name": "stderr",
     "output_type": "stream",
     "text": [
      "[Parallel(n_jobs=-1)]: Using backend LokyBackend with 12 concurrent workers.\n",
      "[Parallel(n_jobs=-1)]: Done  30 out of  45 | elapsed:   41.1s remaining:   20.5s\n",
      "[Parallel(n_jobs=-1)]: Done  38 out of  45 | elapsed:   50.2s remaining:    9.2s\n",
      "[Parallel(n_jobs=-1)]: Done  45 out of  45 | elapsed:   53.8s finished\n"
     ]
    },
    {
     "name": "stdout",
     "output_type": "stream",
     "text": [
      "[17:43:30] WARNING: C:/Users/Administrator/workspace/xgboost-win64_release_1.4.0/src/objective/regression_obj.cu:171: reg:linear is now deprecated in favor of reg:squarederror.\n",
      "[17:43:30] WARNING: C:/Users/Administrator/workspace/xgboost-win64_release_1.4.0/src/learner.cc:573: \n",
      "Parameters: { \"silent\" } might not be used.\n",
      "\n",
      "  This may not be accurate due to some parameters are only used in language bindings but\n",
      "  passed down to XGBoost core.  Or some parameters are not used but slip through this\n",
      "  verification. Please open an issue if you find above cases.\n",
      "\n",
      "\n",
      "Melhores parametros: {'colsample_bytree': 0.7, 'learning_rate': 0.03, 'max_depth': 5, 'min_child_weight': 4, 'n_estimators': 500, 'nthread': 4, 'objective': 'reg:linear', 'silent': 1, 'subsample': 0.7}\n",
      "\n",
      "Score Grid: 0.0776632755437688\n",
      "\n",
      "\n",
      "Modelo: LinearRegression()\n",
      "Component: 16\n",
      "\n",
      "(11940, 16)(2985, 16)\n",
      "Fitting 5 folds for each of 4 candidates, totalling 20 fits\n",
      "Melhores parametros: {'fit_intercept': 'True', 'normalize': 'True'}\n",
      "\n",
      "Score Grid: 0.09012950056941228\n",
      "\n",
      "\n",
      "Modelo: XGBRegressor(base_score=None, booster=None, colsample_bylevel=None,\n",
      "             colsample_bynode=None, colsample_bytree=None, gamma=None,\n",
      "             gpu_id=None, importance_type='gain', interaction_constraints=None,\n",
      "             learning_rate=None, max_delta_step=None, max_depth=None,\n",
      "             min_child_weight=None, missing=nan, monotone_constraints=None,\n",
      "             n_estimators=100, n_jobs=None, num_parallel_tree=None,\n",
      "             random_state=None, reg_alpha=None, reg_lambda=None,\n",
      "             scale_pos_weight=None, subsample=None, tree_method=None,\n",
      "             validate_parameters=None, verbosity=None)\n",
      "Component: 16\n",
      "\n",
      "(11940, 16)(2985, 16)\n",
      "Fitting 5 folds for each of 9 candidates, totalling 45 fits\n"
     ]
    },
    {
     "name": "stderr",
     "output_type": "stream",
     "text": [
      "[Parallel(n_jobs=-1)]: Using backend LokyBackend with 12 concurrent workers.\n",
      "[Parallel(n_jobs=-1)]: Done   5 out of  20 | elapsed:    0.0s remaining:    0.0s\n",
      "[Parallel(n_jobs=-1)]: Done   9 out of  20 | elapsed:    0.0s remaining:    0.0s\n",
      "[Parallel(n_jobs=-1)]: Done  13 out of  20 | elapsed:    0.0s remaining:    0.0s\n",
      "[Parallel(n_jobs=-1)]: Done  17 out of  20 | elapsed:    0.0s remaining:    0.0s\n",
      "[Parallel(n_jobs=-1)]: Done  20 out of  20 | elapsed:    0.0s finished\n",
      "[Parallel(n_jobs=-1)]: Using backend LokyBackend with 12 concurrent workers.\n",
      "[Parallel(n_jobs=-1)]: Done  30 out of  45 | elapsed:   44.6s remaining:   22.2s\n",
      "[Parallel(n_jobs=-1)]: Done  38 out of  45 | elapsed:   54.2s remaining:    9.9s\n",
      "[Parallel(n_jobs=-1)]: Done  45 out of  45 | elapsed:   57.8s finished\n"
     ]
    },
    {
     "name": "stdout",
     "output_type": "stream",
     "text": [
      "[17:44:31] WARNING: C:/Users/Administrator/workspace/xgboost-win64_release_1.4.0/src/objective/regression_obj.cu:171: reg:linear is now deprecated in favor of reg:squarederror.\n",
      "[17:44:31] WARNING: C:/Users/Administrator/workspace/xgboost-win64_release_1.4.0/src/learner.cc:573: \n",
      "Parameters: { \"silent\" } might not be used.\n",
      "\n",
      "  This may not be accurate due to some parameters are only used in language bindings but\n",
      "  passed down to XGBoost core.  Or some parameters are not used but slip through this\n",
      "  verification. Please open an issue if you find above cases.\n",
      "\n",
      "\n",
      "Melhores parametros: {'colsample_bytree': 0.7, 'learning_rate': 0.03, 'max_depth': 5, 'min_child_weight': 4, 'n_estimators': 500, 'nthread': 4, 'objective': 'reg:linear', 'silent': 1, 'subsample': 0.7}\n",
      "\n",
      "Score Grid: 0.07737602377480998\n",
      "\n",
      "\n",
      "Modelo: LinearRegression()\n",
      "Component: 17\n",
      "\n",
      "(11940, 17)(2985, 17)\n",
      "Fitting 5 folds for each of 4 candidates, totalling 20 fits\n",
      "Melhores parametros: {'fit_intercept': 'True', 'normalize': 'True'}\n",
      "\n",
      "Score Grid: 0.09017790276717755\n",
      "\n",
      "\n",
      "Modelo: XGBRegressor(base_score=None, booster=None, colsample_bylevel=None,\n",
      "             colsample_bynode=None, colsample_bytree=None, gamma=None,\n",
      "             gpu_id=None, importance_type='gain', interaction_constraints=None,\n",
      "             learning_rate=None, max_delta_step=None, max_depth=None,\n",
      "             min_child_weight=None, missing=nan, monotone_constraints=None,\n",
      "             n_estimators=100, n_jobs=None, num_parallel_tree=None,\n",
      "             random_state=None, reg_alpha=None, reg_lambda=None,\n",
      "             scale_pos_weight=None, subsample=None, tree_method=None,\n",
      "             validate_parameters=None, verbosity=None)\n",
      "Component: 17\n",
      "\n",
      "(11940, 17)(2985, 17)\n",
      "Fitting 5 folds for each of 9 candidates, totalling 45 fits\n"
     ]
    },
    {
     "name": "stderr",
     "output_type": "stream",
     "text": [
      "[Parallel(n_jobs=-1)]: Using backend LokyBackend with 12 concurrent workers.\n",
      "[Parallel(n_jobs=-1)]: Done   5 out of  20 | elapsed:    0.0s remaining:    0.0s\n",
      "[Parallel(n_jobs=-1)]: Done   9 out of  20 | elapsed:    0.0s remaining:    0.0s\n",
      "[Parallel(n_jobs=-1)]: Done  13 out of  20 | elapsed:    0.0s remaining:    0.0s\n",
      "[Parallel(n_jobs=-1)]: Done  17 out of  20 | elapsed:    0.0s remaining:    0.0s\n",
      "[Parallel(n_jobs=-1)]: Done  20 out of  20 | elapsed:    0.0s finished\n",
      "[Parallel(n_jobs=-1)]: Using backend LokyBackend with 12 concurrent workers.\n",
      "[Parallel(n_jobs=-1)]: Done  30 out of  45 | elapsed:   45.2s remaining:   22.5s\n",
      "[Parallel(n_jobs=-1)]: Done  38 out of  45 | elapsed:   56.6s remaining:   10.3s\n",
      "[Parallel(n_jobs=-1)]: Done  45 out of  45 | elapsed:  1.0min finished\n"
     ]
    },
    {
     "name": "stdout",
     "output_type": "stream",
     "text": [
      "[17:45:34] WARNING: C:/Users/Administrator/workspace/xgboost-win64_release_1.4.0/src/objective/regression_obj.cu:171: reg:linear is now deprecated in favor of reg:squarederror.\n",
      "[17:45:34] WARNING: C:/Users/Administrator/workspace/xgboost-win64_release_1.4.0/src/learner.cc:573: \n",
      "Parameters: { \"silent\" } might not be used.\n",
      "\n",
      "  This may not be accurate due to some parameters are only used in language bindings but\n",
      "  passed down to XGBoost core.  Or some parameters are not used but slip through this\n",
      "  verification. Please open an issue if you find above cases.\n",
      "\n",
      "\n",
      "Melhores parametros: {'colsample_bytree': 0.7, 'learning_rate': 0.03, 'max_depth': 5, 'min_child_weight': 4, 'n_estimators': 500, 'nthread': 4, 'objective': 'reg:linear', 'silent': 1, 'subsample': 0.7}\n",
      "\n",
      "Score Grid: 0.07722517608581875\n",
      "\n",
      "\n",
      "Modelo: LinearRegression()\n",
      "Component: 18\n",
      "\n",
      "(11940, 18)(2985, 18)\n",
      "Fitting 5 folds for each of 4 candidates, totalling 20 fits\n",
      "Melhores parametros: {'fit_intercept': 'True', 'normalize': 'True'}"
     ]
    },
    {
     "name": "stderr",
     "output_type": "stream",
     "text": [
      "[Parallel(n_jobs=-1)]: Using backend LokyBackend with 12 concurrent workers.\n",
      "[Parallel(n_jobs=-1)]: Done   5 out of  20 | elapsed:    0.0s remaining:    0.0s\n",
      "[Parallel(n_jobs=-1)]: Done   9 out of  20 | elapsed:    0.0s remaining:    0.0s\n",
      "[Parallel(n_jobs=-1)]: Done  13 out of  20 | elapsed:    0.0s remaining:    0.0s\n",
      "[Parallel(n_jobs=-1)]: Done  17 out of  20 | elapsed:    0.0s remaining:    0.0s\n",
      "[Parallel(n_jobs=-1)]: Done  20 out of  20 | elapsed:    0.0s finished\n"
     ]
    },
    {
     "name": "stdout",
     "output_type": "stream",
     "text": [
      "\n",
      "\n",
      "Score Grid: 0.09017834678825122\n",
      "\n",
      "\n",
      "Modelo: XGBRegressor(base_score=None, booster=None, colsample_bylevel=None,\n",
      "             colsample_bynode=None, colsample_bytree=None, gamma=None,\n",
      "             gpu_id=None, importance_type='gain', interaction_constraints=None,\n",
      "             learning_rate=None, max_delta_step=None, max_depth=None,\n",
      "             min_child_weight=None, missing=nan, monotone_constraints=None,\n",
      "             n_estimators=100, n_jobs=None, num_parallel_tree=None,\n",
      "             random_state=None, reg_alpha=None, reg_lambda=None,\n",
      "             scale_pos_weight=None, subsample=None, tree_method=None,\n",
      "             validate_parameters=None, verbosity=None)\n",
      "Component: 18\n",
      "\n",
      "(11940, 18)(2985, 18)\n",
      "Fitting 5 folds for each of 9 candidates, totalling 45 fits\n"
     ]
    },
    {
     "name": "stderr",
     "output_type": "stream",
     "text": [
      "[Parallel(n_jobs=-1)]: Using backend LokyBackend with 12 concurrent workers.\n",
      "[Parallel(n_jobs=-1)]: Done  30 out of  45 | elapsed:   50.4s remaining:   25.2s\n",
      "[Parallel(n_jobs=-1)]: Done  38 out of  45 | elapsed:  1.1min remaining:   11.5s\n",
      "[Parallel(n_jobs=-1)]: Done  45 out of  45 | elapsed:  1.1min finished\n"
     ]
    },
    {
     "name": "stdout",
     "output_type": "stream",
     "text": [
      "[17:46:44] WARNING: C:/Users/Administrator/workspace/xgboost-win64_release_1.4.0/src/objective/regression_obj.cu:171: reg:linear is now deprecated in favor of reg:squarederror.\n",
      "[17:46:44] WARNING: C:/Users/Administrator/workspace/xgboost-win64_release_1.4.0/src/learner.cc:573: \n",
      "Parameters: { \"silent\" } might not be used.\n",
      "\n",
      "  This may not be accurate due to some parameters are only used in language bindings but\n",
      "  passed down to XGBoost core.  Or some parameters are not used but slip through this\n",
      "  verification. Please open an issue if you find above cases.\n",
      "\n",
      "\n",
      "Melhores parametros: {'colsample_bytree': 0.7, 'learning_rate': 0.03, 'max_depth': 5, 'min_child_weight': 4, 'n_estimators': 500, 'nthread': 4, 'objective': 'reg:linear', 'silent': 1, 'subsample': 0.7}\n",
      "\n",
      "Score Grid: 0.0769452017771339\n",
      "\n",
      "\n",
      "Modelo: LinearRegression()\n",
      "Component: 19\n",
      "\n",
      "(11940, 19)(2985, 19)\n",
      "Fitting 5 folds for each of 4 candidates, totalling 20 fits\n",
      "Melhores parametros: {'fit_intercept': 'True', 'normalize': 'True'}\n",
      "\n",
      "Score Grid: 0.09017040586954322\n",
      "\n",
      "\n",
      "Modelo: XGBRegressor(base_score=None, booster=None, colsample_bylevel=None,\n",
      "             colsample_bynode=None, colsample_bytree=None, gamma=None,\n",
      "             gpu_id=None, importance_type='gain', interaction_constraints=None,\n",
      "             learning_rate=None, max_delta_step=None, max_depth=None,\n",
      "             min_child_weight=None, missing=nan, monotone_constraints=None,\n",
      "             n_estimators=100, n_jobs=None, num_parallel_tree=None,\n",
      "             random_state=None, reg_alpha=None, reg_lambda=None,\n",
      "             scale_pos_weight=None, subsample=None, tree_method=None,\n",
      "             validate_parameters=None, verbosity=None)\n",
      "Component: 19\n",
      "\n",
      "(11940, 19)(2985, 19)"
     ]
    },
    {
     "name": "stderr",
     "output_type": "stream",
     "text": [
      "[Parallel(n_jobs=-1)]: Using backend LokyBackend with 12 concurrent workers.\n",
      "[Parallel(n_jobs=-1)]: Done   5 out of  20 | elapsed:    0.0s remaining:    0.0s\n",
      "[Parallel(n_jobs=-1)]: Done   9 out of  20 | elapsed:    0.0s remaining:    0.0s\n",
      "[Parallel(n_jobs=-1)]: Done  13 out of  20 | elapsed:    0.0s remaining:    0.0s\n",
      "[Parallel(n_jobs=-1)]: Done  17 out of  20 | elapsed:    0.0s remaining:    0.0s\n",
      "[Parallel(n_jobs=-1)]: Done  20 out of  20 | elapsed:    0.0s finished\n",
      "[Parallel(n_jobs=-1)]: Using backend LokyBackend with 12 concurrent workers.\n"
     ]
    },
    {
     "name": "stdout",
     "output_type": "stream",
     "text": [
      "\n",
      "Fitting 5 folds for each of 9 candidates, totalling 45 fits\n"
     ]
    },
    {
     "name": "stderr",
     "output_type": "stream",
     "text": [
      "[Parallel(n_jobs=-1)]: Done  30 out of  45 | elapsed:   50.2s remaining:   25.1s\n",
      "[Parallel(n_jobs=-1)]: Done  38 out of  45 | elapsed:  1.0min remaining:   11.5s\n",
      "[Parallel(n_jobs=-1)]: Done  45 out of  45 | elapsed:  1.1min finished\n"
     ]
    },
    {
     "name": "stdout",
     "output_type": "stream",
     "text": [
      "[17:47:56] WARNING: C:/Users/Administrator/workspace/xgboost-win64_release_1.4.0/src/objective/regression_obj.cu:171: reg:linear is now deprecated in favor of reg:squarederror.\n",
      "[17:47:56] WARNING: C:/Users/Administrator/workspace/xgboost-win64_release_1.4.0/src/learner.cc:573: \n",
      "Parameters: { \"silent\" } might not be used.\n",
      "\n",
      "  This may not be accurate due to some parameters are only used in language bindings but\n",
      "  passed down to XGBoost core.  Or some parameters are not used but slip through this\n",
      "  verification. Please open an issue if you find above cases.\n",
      "\n",
      "\n",
      "Melhores parametros: {'colsample_bytree': 0.7, 'learning_rate': 0.03, 'max_depth': 5, 'min_child_weight': 4, 'n_estimators': 500, 'nthread': 4, 'objective': 'reg:linear', 'silent': 1, 'subsample': 0.7}\n",
      "\n",
      "Score Grid: 0.0767880470459585\n",
      "Exportando DataFrame de Scores\n",
      "\n"
     ]
    }
   ],
   "source": [
    "X_medias = X.drop([\"a2\",\"a4\",\"b2\",\"b4\",\"c2\",\"c4\",\"g2\",\"l2\",\"l4\"], axis = 1)\n",
    "\n",
    "X_test_medias = X_test.drop([\"a2\",\"a4\",\"b2\",\"b4\",\"c2\",\"c4\",\"g2\",\"l2\",\"l4\"], axis = 1)\n",
    "\n",
    "df_scores_trans = prever(X_medias, X_test_medias, y_trans, y_trans_test, \"trans\",[10,11,12,13,14,15,16,17,18,19])\n",
    "\n",
    "#df_scores_trans = prever(X, X_test, y_trans, y_trans_test, \"trans\")"
   ]
  },
  {
   "cell_type": "code",
   "execution_count": 23,
   "metadata": {},
   "outputs": [
    {
     "name": "stdout",
     "output_type": "stream",
     "text": [
      "\n",
      "\n",
      "Modelo: LinearRegression()\n",
      "Component: 10\n",
      "\n",
      "(11940, 10)(2985, 10)\n",
      "Fitting 5 folds for each of 4 candidates, totalling 20 fits\n",
      "Melhores parametros: {'fit_intercept': 'True', 'normalize': 'True'}\n",
      "\n",
      "Score Grid: 0.09399396637407219\n",
      "\n",
      "\n",
      "Modelo: XGBRegressor(base_score=None, booster=None, colsample_bylevel=None,\n",
      "             colsample_bynode=None, colsample_bytree=None, gamma=None,\n",
      "             gpu_id=None, importance_type='gain', interaction_constraints=None,\n",
      "             learning_rate=None, max_delta_step=None, max_depth=None,\n",
      "             min_child_weight=None, missing=nan, monotone_constraints=None,\n",
      "             n_estimators=100, n_jobs=None, num_parallel_tree=None,\n",
      "             random_state=None, reg_alpha=None, reg_lambda=None,\n",
      "             scale_pos_weight=None, subsample=None, tree_method=None,\n",
      "             validate_parameters=None, verbosity=None)\n",
      "Component: 10\n",
      "\n",
      "(11940, 10)(2985, 10)\n",
      "Fitting 5 folds for each of 9 candidates, totalling 45 fits\n"
     ]
    },
    {
     "name": "stderr",
     "output_type": "stream",
     "text": [
      "[Parallel(n_jobs=-1)]: Using backend LokyBackend with 12 concurrent workers.\n",
      "[Parallel(n_jobs=-1)]: Done   5 out of  20 | elapsed:    0.0s remaining:    0.0s\n",
      "[Parallel(n_jobs=-1)]: Done   9 out of  20 | elapsed:    0.0s remaining:    0.0s\n",
      "[Parallel(n_jobs=-1)]: Done  13 out of  20 | elapsed:    0.0s remaining:    0.0s\n",
      "[Parallel(n_jobs=-1)]: Done  17 out of  20 | elapsed:    0.0s remaining:    0.0s\n",
      "[Parallel(n_jobs=-1)]: Done  20 out of  20 | elapsed:    0.0s finished\n",
      "[Parallel(n_jobs=-1)]: Using backend LokyBackend with 12 concurrent workers.\n",
      "[Parallel(n_jobs=-1)]: Done  30 out of  45 | elapsed:   31.4s remaining:   15.7s\n",
      "[Parallel(n_jobs=-1)]: Done  38 out of  45 | elapsed:   40.0s remaining:    7.3s\n",
      "[Parallel(n_jobs=-1)]: Done  45 out of  45 | elapsed:   41.9s finished\n"
     ]
    },
    {
     "name": "stdout",
     "output_type": "stream",
     "text": [
      "[17:51:37] WARNING: C:/Users/Administrator/workspace/xgboost-win64_release_1.4.0/src/objective/regression_obj.cu:171: reg:linear is now deprecated in favor of reg:squarederror.\n",
      "[17:51:37] WARNING: C:/Users/Administrator/workspace/xgboost-win64_release_1.4.0/src/learner.cc:573: \n",
      "Parameters: { \"silent\" } might not be used.\n",
      "\n",
      "  This may not be accurate due to some parameters are only used in language bindings but\n",
      "  passed down to XGBoost core.  Or some parameters are not used but slip through this\n",
      "  verification. Please open an issue if you find above cases.\n",
      "\n",
      "\n",
      "Melhores parametros: {'colsample_bytree': 0.7, 'learning_rate': 0.03, 'max_depth': 5, 'min_child_weight': 4, 'n_estimators': 500, 'nthread': 4, 'objective': 'reg:linear', 'silent': 1, 'subsample': 0.7}\n",
      "\n",
      "Score Grid: 0.08265644933404635\n",
      "\n",
      "\n",
      "Modelo: LinearRegression()\n",
      "Component: 11\n",
      "\n",
      "(11940, 11)(2985, 11)\n",
      "Fitting 5 folds for each of 4 candidates, totalling 20 fits\n",
      "Melhores parametros: {'fit_intercept': 'True', 'normalize': 'True'}"
     ]
    },
    {
     "name": "stderr",
     "output_type": "stream",
     "text": [
      "[Parallel(n_jobs=-1)]: Using backend LokyBackend with 12 concurrent workers.\n",
      "[Parallel(n_jobs=-1)]: Done   5 out of  20 | elapsed:    0.0s remaining:    0.0s\n",
      "[Parallel(n_jobs=-1)]: Done   9 out of  20 | elapsed:    0.0s remaining:    0.0s\n",
      "[Parallel(n_jobs=-1)]: Done  13 out of  20 | elapsed:    0.0s remaining:    0.0s\n",
      "[Parallel(n_jobs=-1)]: Done  17 out of  20 | elapsed:    0.0s remaining:    0.0s\n",
      "[Parallel(n_jobs=-1)]: Done  20 out of  20 | elapsed:    0.0s finished\n",
      "[Parallel(n_jobs=-1)]: Using backend LokyBackend with 12 concurrent workers.\n"
     ]
    },
    {
     "name": "stdout",
     "output_type": "stream",
     "text": [
      "\n",
      "\n",
      "Score Grid: 0.09399441891328775\n",
      "\n",
      "\n",
      "Modelo: XGBRegressor(base_score=None, booster=None, colsample_bylevel=None,\n",
      "             colsample_bynode=None, colsample_bytree=None, gamma=None,\n",
      "             gpu_id=None, importance_type='gain', interaction_constraints=None,\n",
      "             learning_rate=None, max_delta_step=None, max_depth=None,\n",
      "             min_child_weight=None, missing=nan, monotone_constraints=None,\n",
      "             n_estimators=100, n_jobs=None, num_parallel_tree=None,\n",
      "             random_state=None, reg_alpha=None, reg_lambda=None,\n",
      "             scale_pos_weight=None, subsample=None, tree_method=None,\n",
      "             validate_parameters=None, verbosity=None)\n",
      "Component: 11\n",
      "\n",
      "(11940, 11)(2985, 11)\n",
      "Fitting 5 folds for each of 9 candidates, totalling 45 fits\n"
     ]
    },
    {
     "name": "stderr",
     "output_type": "stream",
     "text": [
      "[Parallel(n_jobs=-1)]: Done  30 out of  45 | elapsed:   31.0s remaining:   15.4s\n",
      "[Parallel(n_jobs=-1)]: Done  38 out of  45 | elapsed:   40.0s remaining:    7.3s\n",
      "[Parallel(n_jobs=-1)]: Done  45 out of  45 | elapsed:   41.3s finished\n"
     ]
    },
    {
     "name": "stdout",
     "output_type": "stream",
     "text": [
      "[17:52:21] WARNING: C:/Users/Administrator/workspace/xgboost-win64_release_1.4.0/src/objective/regression_obj.cu:171: reg:linear is now deprecated in favor of reg:squarederror.\n",
      "[17:52:21] WARNING: C:/Users/Administrator/workspace/xgboost-win64_release_1.4.0/src/learner.cc:573: \n",
      "Parameters: { \"silent\" } might not be used.\n",
      "\n",
      "  This may not be accurate due to some parameters are only used in language bindings but\n",
      "  passed down to XGBoost core.  Or some parameters are not used but slip through this\n",
      "  verification. Please open an issue if you find above cases.\n",
      "\n",
      "\n",
      "Melhores parametros: {'colsample_bytree': 0.7, 'learning_rate': 0.03, 'max_depth': 5, 'min_child_weight': 4, 'n_estimators': 500, 'nthread': 4, 'objective': 'reg:linear', 'silent': 1, 'subsample': 0.7}\n",
      "\n",
      "Score Grid: 0.08272216887537957\n",
      "\n",
      "\n",
      "Modelo: LinearRegression()\n",
      "Component: 12\n",
      "\n",
      "(11940, 12)(2985, 12)\n",
      "Fitting 5 folds for each of 4 candidates, totalling 20 fits\n",
      "Melhores parametros: {'fit_intercept': 'True', 'normalize': 'True'}\n",
      "\n",
      "Score Grid: 0.0940017435798522\n",
      "\n",
      "\n",
      "Modelo: XGBRegressor(base_score=None, booster=None, colsample_bylevel=None,\n",
      "             colsample_bynode=None, colsample_bytree=None, gamma=None,\n",
      "             gpu_id=None, importance_type='gain', interaction_constraints=None,\n",
      "             learning_rate=None, max_delta_step=None, max_depth=None,\n",
      "             min_child_weight=None, missing=nan, monotone_constraints=None,\n",
      "             n_estimators=100, n_jobs=None, num_parallel_tree=None,\n",
      "             random_state=None, reg_alpha=None, reg_lambda=None,\n",
      "             scale_pos_weight=None, subsample=None, tree_method=None,\n",
      "             validate_parameters=None, verbosity=None)\n",
      "Component: 12\n",
      "\n",
      "(11940, 12)(2985, 12)\n",
      "Fitting 5 folds for each of 9 candidates, totalling 45 fits\n"
     ]
    },
    {
     "name": "stderr",
     "output_type": "stream",
     "text": [
      "[Parallel(n_jobs=-1)]: Using backend LokyBackend with 12 concurrent workers.\n",
      "[Parallel(n_jobs=-1)]: Done   5 out of  20 | elapsed:    0.0s remaining:    0.0s\n",
      "[Parallel(n_jobs=-1)]: Done   9 out of  20 | elapsed:    0.0s remaining:    0.0s\n",
      "[Parallel(n_jobs=-1)]: Done  13 out of  20 | elapsed:    0.0s remaining:    0.0s\n",
      "[Parallel(n_jobs=-1)]: Done  17 out of  20 | elapsed:    0.0s remaining:    0.0s\n",
      "[Parallel(n_jobs=-1)]: Done  20 out of  20 | elapsed:    0.0s finished\n",
      "[Parallel(n_jobs=-1)]: Using backend LokyBackend with 12 concurrent workers.\n",
      "[Parallel(n_jobs=-1)]: Done  30 out of  45 | elapsed:   33.3s remaining:   16.6s\n",
      "[Parallel(n_jobs=-1)]: Done  38 out of  45 | elapsed:   41.8s remaining:    7.6s\n",
      "[Parallel(n_jobs=-1)]: Done  45 out of  45 | elapsed:   44.1s finished\n"
     ]
    },
    {
     "name": "stdout",
     "output_type": "stream",
     "text": [
      "[17:53:08] WARNING: C:/Users/Administrator/workspace/xgboost-win64_release_1.4.0/src/objective/regression_obj.cu:171: reg:linear is now deprecated in favor of reg:squarederror.\n",
      "[17:53:08] WARNING: C:/Users/Administrator/workspace/xgboost-win64_release_1.4.0/src/learner.cc:573: \n",
      "Parameters: { \"silent\" } might not be used.\n",
      "\n",
      "  This may not be accurate due to some parameters are only used in language bindings but\n",
      "  passed down to XGBoost core.  Or some parameters are not used but slip through this\n",
      "  verification. Please open an issue if you find above cases.\n",
      "\n",
      "\n",
      "Melhores parametros: {'colsample_bytree': 0.7, 'learning_rate': 0.03, 'max_depth': 5, 'min_child_weight': 4, 'n_estimators': 500, 'nthread': 4, 'objective': 'reg:linear', 'silent': 1, 'subsample': 0.7}\n",
      "\n",
      "Score Grid: 0.08206592565826834\n",
      "\n",
      "\n",
      "Modelo: LinearRegression()\n",
      "Component: 13\n",
      "\n",
      "(11940, 13)(2985, 13)\n",
      "Fitting 5 folds for each of 4 candidates, totalling 20 fits\n",
      "Melhores parametros: {'fit_intercept': 'True', 'normalize': 'True'}"
     ]
    },
    {
     "name": "stderr",
     "output_type": "stream",
     "text": [
      "[Parallel(n_jobs=-1)]: Using backend LokyBackend with 12 concurrent workers.\n",
      "[Parallel(n_jobs=-1)]: Done   5 out of  20 | elapsed:    0.0s remaining:    0.0s\n",
      "[Parallel(n_jobs=-1)]: Done   9 out of  20 | elapsed:    0.0s remaining:    0.0s\n",
      "[Parallel(n_jobs=-1)]: Done  13 out of  20 | elapsed:    0.0s remaining:    0.0s\n",
      "[Parallel(n_jobs=-1)]: Done  17 out of  20 | elapsed:    0.0s remaining:    0.0s\n",
      "[Parallel(n_jobs=-1)]: Done  20 out of  20 | elapsed:    0.0s finished\n",
      "[Parallel(n_jobs=-1)]: Using backend LokyBackend with 12 concurrent workers.\n"
     ]
    },
    {
     "name": "stdout",
     "output_type": "stream",
     "text": [
      "\n",
      "\n",
      "Score Grid: 0.09401215967137432\n",
      "\n",
      "\n",
      "Modelo: XGBRegressor(base_score=None, booster=None, colsample_bylevel=None,\n",
      "             colsample_bynode=None, colsample_bytree=None, gamma=None,\n",
      "             gpu_id=None, importance_type='gain', interaction_constraints=None,\n",
      "             learning_rate=None, max_delta_step=None, max_depth=None,\n",
      "             min_child_weight=None, missing=nan, monotone_constraints=None,\n",
      "             n_estimators=100, n_jobs=None, num_parallel_tree=None,\n",
      "             random_state=None, reg_alpha=None, reg_lambda=None,\n",
      "             scale_pos_weight=None, subsample=None, tree_method=None,\n",
      "             validate_parameters=None, verbosity=None)\n",
      "Component: 13\n",
      "\n",
      "(11940, 13)(2985, 13)\n",
      "Fitting 5 folds for each of 9 candidates, totalling 45 fits\n"
     ]
    },
    {
     "name": "stderr",
     "output_type": "stream",
     "text": [
      "[Parallel(n_jobs=-1)]: Done  30 out of  45 | elapsed:   36.9s remaining:   18.4s\n",
      "[Parallel(n_jobs=-1)]: Done  38 out of  45 | elapsed:   46.1s remaining:    8.4s\n",
      "[Parallel(n_jobs=-1)]: Done  45 out of  45 | elapsed:   48.8s finished\n"
     ]
    },
    {
     "name": "stdout",
     "output_type": "stream",
     "text": [
      "[17:54:00] WARNING: C:/Users/Administrator/workspace/xgboost-win64_release_1.4.0/src/objective/regression_obj.cu:171: reg:linear is now deprecated in favor of reg:squarederror.\n",
      "[17:54:00] WARNING: C:/Users/Administrator/workspace/xgboost-win64_release_1.4.0/src/learner.cc:573: \n",
      "Parameters: { \"silent\" } might not be used.\n",
      "\n",
      "  This may not be accurate due to some parameters are only used in language bindings but\n",
      "  passed down to XGBoost core.  Or some parameters are not used but slip through this\n",
      "  verification. Please open an issue if you find above cases.\n",
      "\n",
      "\n",
      "Melhores parametros: {'colsample_bytree': 0.7, 'learning_rate': 0.03, 'max_depth': 5, 'min_child_weight': 4, 'n_estimators': 500, 'nthread': 4, 'objective': 'reg:linear', 'silent': 1, 'subsample': 0.7}\n",
      "\n",
      "Score Grid: 0.08196659550798599\n",
      "\n",
      "\n",
      "Modelo: LinearRegression()\n",
      "Component: 14\n",
      "\n",
      "(11940, 14)(2985, 14)\n",
      "Fitting 5 folds for each of 4 candidates, totalling 20 fits\n",
      "Melhores parametros: {'fit_intercept': 'True', 'normalize': 'True'}"
     ]
    },
    {
     "name": "stderr",
     "output_type": "stream",
     "text": [
      "[Parallel(n_jobs=-1)]: Using backend LokyBackend with 12 concurrent workers.\n",
      "[Parallel(n_jobs=-1)]: Done   5 out of  20 | elapsed:    0.0s remaining:    0.0s\n",
      "[Parallel(n_jobs=-1)]: Done   9 out of  20 | elapsed:    0.0s remaining:    0.0s\n",
      "[Parallel(n_jobs=-1)]: Done  13 out of  20 | elapsed:    0.0s remaining:    0.0s\n",
      "[Parallel(n_jobs=-1)]: Done  17 out of  20 | elapsed:    0.0s remaining:    0.0s\n",
      "[Parallel(n_jobs=-1)]: Done  20 out of  20 | elapsed:    0.0s finished\n",
      "[Parallel(n_jobs=-1)]: Using backend LokyBackend with 12 concurrent workers.\n"
     ]
    },
    {
     "name": "stdout",
     "output_type": "stream",
     "text": [
      "\n",
      "\n",
      "Score Grid: 0.09401592839365935\n",
      "\n",
      "\n",
      "Modelo: XGBRegressor(base_score=None, booster=None, colsample_bylevel=None,\n",
      "             colsample_bynode=None, colsample_bytree=None, gamma=None,\n",
      "             gpu_id=None, importance_type='gain', interaction_constraints=None,\n",
      "             learning_rate=None, max_delta_step=None, max_depth=None,\n",
      "             min_child_weight=None, missing=nan, monotone_constraints=None,\n",
      "             n_estimators=100, n_jobs=None, num_parallel_tree=None,\n",
      "             random_state=None, reg_alpha=None, reg_lambda=None,\n",
      "             scale_pos_weight=None, subsample=None, tree_method=None,\n",
      "             validate_parameters=None, verbosity=None)\n",
      "Component: 14\n",
      "\n",
      "(11940, 14)(2985, 14)\n",
      "Fitting 5 folds for each of 9 candidates, totalling 45 fits\n"
     ]
    },
    {
     "name": "stderr",
     "output_type": "stream",
     "text": [
      "[Parallel(n_jobs=-1)]: Done  30 out of  45 | elapsed:   36.6s remaining:   18.3s\n",
      "[Parallel(n_jobs=-1)]: Done  38 out of  45 | elapsed:   45.6s remaining:    8.3s\n",
      "[Parallel(n_jobs=-1)]: Done  45 out of  45 | elapsed:   49.3s finished\n"
     ]
    },
    {
     "name": "stdout",
     "output_type": "stream",
     "text": [
      "[17:54:52] WARNING: C:/Users/Administrator/workspace/xgboost-win64_release_1.4.0/src/objective/regression_obj.cu:171: reg:linear is now deprecated in favor of reg:squarederror.\n",
      "[17:54:52] WARNING: C:/Users/Administrator/workspace/xgboost-win64_release_1.4.0/src/learner.cc:573: \n",
      "Parameters: { \"silent\" } might not be used.\n",
      "\n",
      "  This may not be accurate due to some parameters are only used in language bindings but\n",
      "  passed down to XGBoost core.  Or some parameters are not used but slip through this\n",
      "  verification. Please open an issue if you find above cases.\n",
      "\n",
      "\n",
      "Melhores parametros: {'colsample_bytree': 0.7, 'learning_rate': 0.03, 'max_depth': 5, 'min_child_weight': 4, 'n_estimators': 500, 'nthread': 4, 'objective': 'reg:linear', 'silent': 1, 'subsample': 0.7}\n",
      "\n",
      "Score Grid: 0.08178999133699104\n",
      "\n",
      "\n",
      "Modelo: LinearRegression()\n",
      "Component: 15\n",
      "\n",
      "(11940, 15)(2985, 15)\n",
      "Fitting 5 folds for each of 4 candidates, totalling 20 fits\n",
      "Melhores parametros: {'fit_intercept': 'True', 'normalize': 'True'}"
     ]
    },
    {
     "name": "stderr",
     "output_type": "stream",
     "text": [
      "[Parallel(n_jobs=-1)]: Using backend LokyBackend with 12 concurrent workers.\n",
      "[Parallel(n_jobs=-1)]: Done   5 out of  20 | elapsed:    0.0s remaining:    0.0s\n",
      "[Parallel(n_jobs=-1)]: Done   9 out of  20 | elapsed:    0.0s remaining:    0.0s\n",
      "[Parallel(n_jobs=-1)]: Done  13 out of  20 | elapsed:    0.0s remaining:    0.0s\n",
      "[Parallel(n_jobs=-1)]: Done  17 out of  20 | elapsed:    0.0s remaining:    0.0s\n",
      "[Parallel(n_jobs=-1)]: Done  20 out of  20 | elapsed:    0.0s finished\n",
      "[Parallel(n_jobs=-1)]: Using backend LokyBackend with 12 concurrent workers.\n"
     ]
    },
    {
     "name": "stdout",
     "output_type": "stream",
     "text": [
      "\n",
      "\n",
      "Score Grid: 0.09401127750415346\n",
      "\n",
      "\n",
      "Modelo: XGBRegressor(base_score=None, booster=None, colsample_bylevel=None,\n",
      "             colsample_bynode=None, colsample_bytree=None, gamma=None,\n",
      "             gpu_id=None, importance_type='gain', interaction_constraints=None,\n",
      "             learning_rate=None, max_delta_step=None, max_depth=None,\n",
      "             min_child_weight=None, missing=nan, monotone_constraints=None,\n",
      "             n_estimators=100, n_jobs=None, num_parallel_tree=None,\n",
      "             random_state=None, reg_alpha=None, reg_lambda=None,\n",
      "             scale_pos_weight=None, subsample=None, tree_method=None,\n",
      "             validate_parameters=None, verbosity=None)\n",
      "Component: 15\n",
      "\n",
      "(11940, 15)(2985, 15)\n",
      "Fitting 5 folds for each of 9 candidates, totalling 45 fits\n"
     ]
    },
    {
     "name": "stderr",
     "output_type": "stream",
     "text": [
      "[Parallel(n_jobs=-1)]: Done  30 out of  45 | elapsed:   40.4s remaining:   20.2s\n",
      "[Parallel(n_jobs=-1)]: Done  38 out of  45 | elapsed:   50.6s remaining:    9.2s\n",
      "[Parallel(n_jobs=-1)]: Done  45 out of  45 | elapsed:   53.6s finished\n"
     ]
    },
    {
     "name": "stdout",
     "output_type": "stream",
     "text": [
      "[17:55:49] WARNING: C:/Users/Administrator/workspace/xgboost-win64_release_1.4.0/src/objective/regression_obj.cu:171: reg:linear is now deprecated in favor of reg:squarederror.\n",
      "[17:55:49] WARNING: C:/Users/Administrator/workspace/xgboost-win64_release_1.4.0/src/learner.cc:573: \n",
      "Parameters: { \"silent\" } might not be used.\n",
      "\n",
      "  This may not be accurate due to some parameters are only used in language bindings but\n",
      "  passed down to XGBoost core.  Or some parameters are not used but slip through this\n",
      "  verification. Please open an issue if you find above cases.\n",
      "\n",
      "\n",
      "Melhores parametros: {'colsample_bytree': 0.7, 'learning_rate': 0.03, 'max_depth': 5, 'min_child_weight': 4, 'n_estimators': 500, 'nthread': 4, 'objective': 'reg:linear', 'silent': 1, 'subsample': 0.7}\n",
      "\n",
      "Score Grid: 0.08137313553038952\n",
      "\n",
      "\n",
      "Modelo: LinearRegression()\n",
      "Component: 16\n",
      "\n",
      "(11940, 16)(2985, 16)\n",
      "Fitting 5 folds for each of 4 candidates, totalling 20 fits\n",
      "Melhores parametros: {'fit_intercept': 'True', 'normalize': 'True'}\n",
      "\n",
      "Score Grid: 0.09401436144093704\n",
      "\n",
      "\n",
      "Modelo: XGBRegressor(base_score=None, booster=None, colsample_bylevel=None,\n",
      "             colsample_bynode=None, colsample_bytree=None, gamma=None,\n",
      "             gpu_id=None, importance_type='gain', interaction_constraints=None,\n",
      "             learning_rate=None, max_delta_step=None, max_depth=None,\n",
      "             min_child_weight=None, missing=nan, monotone_constraints=None,\n",
      "             n_estimators=100, n_jobs=None, num_parallel_tree=None,\n",
      "             random_state=None, reg_alpha=None, reg_lambda=None,\n",
      "             scale_pos_weight=None, subsample=None, tree_method=None,\n",
      "             validate_parameters=None, verbosity=None)\n",
      "Component: 16\n",
      "\n",
      "(11940, 16)(2985, 16)\n",
      "Fitting 5 folds for each of 9 candidates, totalling 45 fits\n"
     ]
    },
    {
     "name": "stderr",
     "output_type": "stream",
     "text": [
      "[Parallel(n_jobs=-1)]: Using backend LokyBackend with 12 concurrent workers.\n",
      "[Parallel(n_jobs=-1)]: Done   5 out of  20 | elapsed:    0.0s remaining:    0.0s\n",
      "[Parallel(n_jobs=-1)]: Done   9 out of  20 | elapsed:    0.0s remaining:    0.0s\n",
      "[Parallel(n_jobs=-1)]: Done  13 out of  20 | elapsed:    0.0s remaining:    0.0s\n",
      "[Parallel(n_jobs=-1)]: Done  17 out of  20 | elapsed:    0.0s remaining:    0.0s\n",
      "[Parallel(n_jobs=-1)]: Done  20 out of  20 | elapsed:    0.0s finished\n",
      "[Parallel(n_jobs=-1)]: Using backend LokyBackend with 12 concurrent workers.\n",
      "[Parallel(n_jobs=-1)]: Done  30 out of  45 | elapsed:   43.6s remaining:   21.8s\n",
      "[Parallel(n_jobs=-1)]: Done  38 out of  45 | elapsed:   56.6s remaining:   10.3s\n",
      "[Parallel(n_jobs=-1)]: Done  45 out of  45 | elapsed:   58.1s finished\n"
     ]
    },
    {
     "name": "stdout",
     "output_type": "stream",
     "text": [
      "[17:56:50] WARNING: C:/Users/Administrator/workspace/xgboost-win64_release_1.4.0/src/objective/regression_obj.cu:171: reg:linear is now deprecated in favor of reg:squarederror.\n",
      "[17:56:50] WARNING: C:/Users/Administrator/workspace/xgboost-win64_release_1.4.0/src/learner.cc:573: \n",
      "Parameters: { \"silent\" } might not be used.\n",
      "\n",
      "  This may not be accurate due to some parameters are only used in language bindings but\n",
      "  passed down to XGBoost core.  Or some parameters are not used but slip through this\n",
      "  verification. Please open an issue if you find above cases.\n",
      "\n",
      "\n",
      "Melhores parametros: {'colsample_bytree': 0.7, 'learning_rate': 0.03, 'max_depth': 5, 'min_child_weight': 4, 'n_estimators': 500, 'nthread': 4, 'objective': 'reg:linear', 'silent': 1, 'subsample': 0.7}\n",
      "\n",
      "Score Grid: 0.08095656368173347\n",
      "\n",
      "\n",
      "Modelo: LinearRegression()\n",
      "Component: 17\n",
      "\n",
      "(11940, 17)(2985, 17)\n",
      "Fitting 5 folds for each of 4 candidates, totalling 20 fits\n",
      "Melhores parametros: {'fit_intercept': 'True', 'normalize': 'True'}\n",
      "\n",
      "Score Grid: 0.09397767145831261\n",
      "\n",
      "\n",
      "Modelo: XGBRegressor(base_score=None, booster=None, colsample_bylevel=None,\n",
      "             colsample_bynode=None, colsample_bytree=None, gamma=None,\n",
      "             gpu_id=None, importance_type='gain', interaction_constraints=None,\n",
      "             learning_rate=None, max_delta_step=None, max_depth=None,\n",
      "             min_child_weight=None, missing=nan, monotone_constraints=None,\n",
      "             n_estimators=100, n_jobs=None, num_parallel_tree=None,\n",
      "             random_state=None, reg_alpha=None, reg_lambda=None,\n",
      "             scale_pos_weight=None, subsample=None, tree_method=None,\n",
      "             validate_parameters=None, verbosity=None)\n",
      "Component: 17\n",
      "\n",
      "(11940, 17)(2985, 17)\n",
      "Fitting 5 folds for each of 9 candidates, totalling 45 fits\n"
     ]
    },
    {
     "name": "stderr",
     "output_type": "stream",
     "text": [
      "[Parallel(n_jobs=-1)]: Using backend LokyBackend with 12 concurrent workers.\n",
      "[Parallel(n_jobs=-1)]: Done   5 out of  20 | elapsed:    0.0s remaining:    0.0s\n",
      "[Parallel(n_jobs=-1)]: Done   9 out of  20 | elapsed:    0.0s remaining:    0.0s\n",
      "[Parallel(n_jobs=-1)]: Done  13 out of  20 | elapsed:    0.0s remaining:    0.0s\n",
      "[Parallel(n_jobs=-1)]: Done  17 out of  20 | elapsed:    0.0s remaining:    0.0s\n",
      "[Parallel(n_jobs=-1)]: Done  20 out of  20 | elapsed:    0.0s finished\n",
      "[Parallel(n_jobs=-1)]: Using backend LokyBackend with 12 concurrent workers.\n",
      "[Parallel(n_jobs=-1)]: Done  30 out of  45 | elapsed:   45.8s remaining:   22.9s\n",
      "[Parallel(n_jobs=-1)]: Done  38 out of  45 | elapsed:   53.4s remaining:    9.8s\n",
      "[Parallel(n_jobs=-1)]: Done  45 out of  45 | elapsed:   58.9s finished\n"
     ]
    },
    {
     "name": "stdout",
     "output_type": "stream",
     "text": [
      "[17:57:53] WARNING: C:/Users/Administrator/workspace/xgboost-win64_release_1.4.0/src/objective/regression_obj.cu:171: reg:linear is now deprecated in favor of reg:squarederror.\n",
      "[17:57:53] WARNING: C:/Users/Administrator/workspace/xgboost-win64_release_1.4.0/src/learner.cc:573: \n",
      "Parameters: { \"silent\" } might not be used.\n",
      "\n",
      "  This may not be accurate due to some parameters are only used in language bindings but\n",
      "  passed down to XGBoost core.  Or some parameters are not used but slip through this\n",
      "  verification. Please open an issue if you find above cases.\n",
      "\n",
      "\n",
      "Melhores parametros: {'colsample_bytree': 0.7, 'learning_rate': 0.03, 'max_depth': 5, 'min_child_weight': 4, 'n_estimators': 500, 'nthread': 4, 'objective': 'reg:linear', 'silent': 1, 'subsample': 0.7}\n",
      "\n",
      "Score Grid: 0.08102677872803943\n",
      "\n",
      "\n",
      "Modelo: LinearRegression()\n",
      "Component: 18\n",
      "\n",
      "(11940, 18)(2985, 18)\n",
      "Fitting 5 folds for each of 4 candidates, totalling 20 fits\n",
      "Melhores parametros: {'fit_intercept': 'True', 'normalize': 'True'}\n",
      "\n",
      "Score Grid: 0.09399120889881327\n",
      "\n",
      "\n",
      "Modelo: XGBRegressor(base_score=None, booster=None, colsample_bylevel=None,\n",
      "             colsample_bynode=None, colsample_bytree=None, gamma=None,\n",
      "             gpu_id=None, importance_type='gain', interaction_constraints=None,\n",
      "             learning_rate=None, max_delta_step=None, max_depth=None,\n",
      "             min_child_weight=None, missing=nan, monotone_constraints=None,\n",
      "             n_estimators=100, n_jobs=None, num_parallel_tree=None,\n",
      "             random_state=None, reg_alpha=None, reg_lambda=None,\n",
      "             scale_pos_weight=None, subsample=None, tree_method=None,\n",
      "             validate_parameters=None, verbosity=None)\n",
      "Component: 18\n",
      "\n",
      "(11940, 18)(2985, 18)\n",
      "Fitting 5 folds for each of 9 candidates, totalling 45 fits\n"
     ]
    },
    {
     "name": "stderr",
     "output_type": "stream",
     "text": [
      "[Parallel(n_jobs=-1)]: Using backend LokyBackend with 12 concurrent workers.\n",
      "[Parallel(n_jobs=-1)]: Done   5 out of  20 | elapsed:    0.0s remaining:    0.0s\n",
      "[Parallel(n_jobs=-1)]: Done   9 out of  20 | elapsed:    0.0s remaining:    0.0s\n",
      "[Parallel(n_jobs=-1)]: Done  13 out of  20 | elapsed:    0.0s remaining:    0.0s\n",
      "[Parallel(n_jobs=-1)]: Done  17 out of  20 | elapsed:    0.0s remaining:    0.0s\n",
      "[Parallel(n_jobs=-1)]: Done  20 out of  20 | elapsed:    0.0s finished\n",
      "[Parallel(n_jobs=-1)]: Using backend LokyBackend with 12 concurrent workers.\n",
      "[Parallel(n_jobs=-1)]: Done  30 out of  45 | elapsed:   49.9s remaining:   24.9s\n",
      "[Parallel(n_jobs=-1)]: Done  38 out of  45 | elapsed:  1.1min remaining:   11.8s\n",
      "[Parallel(n_jobs=-1)]: Done  45 out of  45 | elapsed:  1.1min finished\n"
     ]
    },
    {
     "name": "stdout",
     "output_type": "stream",
     "text": [
      "[17:59:04] WARNING: C:/Users/Administrator/workspace/xgboost-win64_release_1.4.0/src/objective/regression_obj.cu:171: reg:linear is now deprecated in favor of reg:squarederror.\n",
      "[17:59:04] WARNING: C:/Users/Administrator/workspace/xgboost-win64_release_1.4.0/src/learner.cc:573: \n",
      "Parameters: { \"silent\" } might not be used.\n",
      "\n",
      "  This may not be accurate due to some parameters are only used in language bindings but\n",
      "  passed down to XGBoost core.  Or some parameters are not used but slip through this\n",
      "  verification. Please open an issue if you find above cases.\n",
      "\n",
      "\n",
      "Melhores parametros: {'colsample_bytree': 0.7, 'learning_rate': 0.03, 'max_depth': 5, 'min_child_weight': 4, 'n_estimators': 500, 'nthread': 4, 'objective': 'reg:linear', 'silent': 1, 'subsample': 0.7}\n",
      "\n",
      "Score Grid: 0.08073055786810927\n",
      "\n",
      "\n",
      "Modelo: LinearRegression()\n",
      "Component: 19\n",
      "\n",
      "(11940, 19)(2985, 19)\n",
      "Fitting 5 folds for each of 4 candidates, totalling 20 fits\n",
      "Melhores parametros: {'fit_intercept': 'True', 'normalize': 'True'}\n",
      "\n",
      "Score Grid: 0.0939895182171829\n",
      "\n",
      "\n",
      "Modelo: XGBRegressor(base_score=None, booster=None, colsample_bylevel=None,\n",
      "             colsample_bynode=None, colsample_bytree=None, gamma=None,\n",
      "             gpu_id=None, importance_type='gain', interaction_constraints=None,\n",
      "             learning_rate=None, max_delta_step=None, max_depth=None,\n",
      "             min_child_weight=None, missing=nan, monotone_constraints=None,\n",
      "             n_estimators=100, n_jobs=None, num_parallel_tree=None,\n",
      "             random_state=None, reg_alpha=None, reg_lambda=None,\n",
      "             scale_pos_weight=None, subsample=None, tree_method=None,\n",
      "             validate_parameters=None, verbosity=None)\n",
      "Component: 19\n",
      "\n",
      "(11940, 19)(2985, 19)\n",
      "Fitting 5 folds for each of 9 candidates, totalling 45 fits\n"
     ]
    },
    {
     "name": "stderr",
     "output_type": "stream",
     "text": [
      "[Parallel(n_jobs=-1)]: Using backend LokyBackend with 12 concurrent workers.\n",
      "[Parallel(n_jobs=-1)]: Done   5 out of  20 | elapsed:    0.0s remaining:    0.0s\n",
      "[Parallel(n_jobs=-1)]: Done   9 out of  20 | elapsed:    0.0s remaining:    0.0s\n",
      "[Parallel(n_jobs=-1)]: Done  13 out of  20 | elapsed:    0.0s remaining:    0.0s\n",
      "[Parallel(n_jobs=-1)]: Done  17 out of  20 | elapsed:    0.0s remaining:    0.0s\n",
      "[Parallel(n_jobs=-1)]: Done  20 out of  20 | elapsed:    0.0s finished\n",
      "[Parallel(n_jobs=-1)]: Using backend LokyBackend with 12 concurrent workers.\n",
      "[Parallel(n_jobs=-1)]: Done  30 out of  45 | elapsed:   49.6s remaining:   24.7s\n",
      "[Parallel(n_jobs=-1)]: Done  38 out of  45 | elapsed:  1.1min remaining:   11.7s\n",
      "[Parallel(n_jobs=-1)]: Done  45 out of  45 | elapsed:  1.1min finished\n"
     ]
    },
    {
     "name": "stdout",
     "output_type": "stream",
     "text": [
      "[18:00:13] WARNING: C:/Users/Administrator/workspace/xgboost-win64_release_1.4.0/src/objective/regression_obj.cu:171: reg:linear is now deprecated in favor of reg:squarederror.\n",
      "[18:00:13] WARNING: C:/Users/Administrator/workspace/xgboost-win64_release_1.4.0/src/learner.cc:573: \n",
      "Parameters: { \"silent\" } might not be used.\n",
      "\n",
      "  This may not be accurate due to some parameters are only used in language bindings but\n",
      "  passed down to XGBoost core.  Or some parameters are not used but slip through this\n",
      "  verification. Please open an issue if you find above cases.\n",
      "\n",
      "\n",
      "Melhores parametros: {'colsample_bytree': 0.7, 'learning_rate': 0.03, 'max_depth': 5, 'min_child_weight': 4, 'n_estimators': 500, 'nthread': 4, 'objective': 'reg:linear', 'silent': 1, 'subsample': 0.7}\n",
      "\n",
      "Score Grid: 0.08049927850109048\n",
      "Exportando DataFrame de Scores\n",
      "\n"
     ]
    }
   ],
   "source": [
    "X_medias = X.drop([\"a2\",\"a4\",\"b2\",\"b4\",\"c2\",\"c4\",\"g2\",\"l2\",\"l4\"], axis = 1)\n",
    "\n",
    "X_test_medias = X_test.drop([\"a2\",\"a4\",\"b2\",\"b4\",\"c2\",\"c4\",\"g2\",\"l2\",\"l4\"], axis = 1)\n",
    "\n",
    "df_scores_price = prever(X_medias, X_test_medias, y_price, y_price_test, \"price\",[10,11,12,13,14,15,16,17,18,19])"
   ]
  },
  {
   "cell_type": "code",
   "execution_count": 14,
   "metadata": {},
   "outputs": [
    {
     "name": "stdout",
     "output_type": "stream",
     "text": [
      "\n",
      "\n",
      "Modelo: SVR()\n",
      "Component: 20\n",
      "\n",
      "(11940, 20)(2985, 20)\n",
      "Fitting 5 folds for each of 1 candidates, totalling 5 fits\n"
     ]
    },
    {
     "name": "stderr",
     "output_type": "stream",
     "text": [
      "[Parallel(n_jobs=2)]: Using backend LokyBackend with 2 concurrent workers.\n",
      "[Parallel(n_jobs=2)]: Done   5 out of   5 | elapsed:   32.5s finished\n"
     ]
    },
    {
     "name": "stdout",
     "output_type": "stream",
     "text": [
      "Melhores parametros: {'C': 0.1, 'coef0': 0.01, 'degree': 3, 'epsilon': 0.1, 'gamma': 'auto', 'kernel': 'rbf'}\n",
      "\n",
      "Score Grid: 0.07340112996089755\n",
      "\n",
      "\n",
      "Modelo: SVR()\n",
      "Component: 21\n",
      "\n",
      "(11940, 21)(2985, 21)\n",
      "Fitting 5 folds for each of 1 candidates, totalling 5 fits\n"
     ]
    },
    {
     "name": "stderr",
     "output_type": "stream",
     "text": [
      "[Parallel(n_jobs=2)]: Using backend LokyBackend with 2 concurrent workers.\n",
      "[Parallel(n_jobs=2)]: Done   5 out of   5 | elapsed:   33.0s finished\n"
     ]
    },
    {
     "name": "stdout",
     "output_type": "stream",
     "text": [
      "Melhores parametros: {'C': 0.1, 'coef0': 0.01, 'degree': 3, 'epsilon': 0.1, 'gamma': 'auto', 'kernel': 'rbf'}\n",
      "\n",
      "Score Grid: 0.07340545735792878\n",
      "\n",
      "\n",
      "Modelo: SVR()\n",
      "Component: 22\n",
      "\n",
      "(11940, 22)(2985, 22)\n",
      "Fitting 5 folds for each of 1 candidates, totalling 5 fits\n"
     ]
    },
    {
     "name": "stderr",
     "output_type": "stream",
     "text": [
      "[Parallel(n_jobs=2)]: Using backend LokyBackend with 2 concurrent workers.\n",
      "[Parallel(n_jobs=2)]: Done   5 out of   5 | elapsed:   36.9s finished\n"
     ]
    },
    {
     "name": "stdout",
     "output_type": "stream",
     "text": [
      "Melhores parametros: {'C': 0.1, 'coef0': 0.01, 'degree': 3, 'epsilon': 0.1, 'gamma': 'auto', 'kernel': 'rbf'}\n",
      "\n",
      "Score Grid: 0.07340937641843025\n",
      "\n",
      "\n",
      "Modelo: SVR()\n",
      "Component: 23\n",
      "\n",
      "(11940, 23)(2985, 23)\n",
      "Fitting 5 folds for each of 1 candidates, totalling 5 fits\n"
     ]
    },
    {
     "name": "stderr",
     "output_type": "stream",
     "text": [
      "[Parallel(n_jobs=2)]: Using backend LokyBackend with 2 concurrent workers.\n",
      "[Parallel(n_jobs=2)]: Done   5 out of   5 | elapsed:   36.2s finished\n"
     ]
    },
    {
     "name": "stdout",
     "output_type": "stream",
     "text": [
      "Melhores parametros: {'C': 0.1, 'coef0': 0.01, 'degree': 3, 'epsilon': 0.1, 'gamma': 'auto', 'kernel': 'rbf'}\n",
      "\n",
      "Score Grid: 0.0734123720169559\n",
      "\n",
      "\n",
      "Modelo: SVR()\n",
      "Component: 24\n",
      "\n",
      "(11940, 24)(2985, 24)\n",
      "Fitting 5 folds for each of 1 candidates, totalling 5 fits\n"
     ]
    },
    {
     "name": "stderr",
     "output_type": "stream",
     "text": [
      "[Parallel(n_jobs=2)]: Using backend LokyBackend with 2 concurrent workers.\n",
      "[Parallel(n_jobs=2)]: Done   5 out of   5 | elapsed:   34.8s finished\n"
     ]
    },
    {
     "name": "stdout",
     "output_type": "stream",
     "text": [
      "Melhores parametros: {'C': 0.1, 'coef0': 0.01, 'degree': 3, 'epsilon': 0.1, 'gamma': 'auto', 'kernel': 'rbf'}\n",
      "\n",
      "Score Grid: 0.07341799510140862\n",
      "\n",
      "\n",
      "Modelo: SVR()\n",
      "Component: 25\n",
      "\n",
      "(11940, 25)(2985, 25)\n",
      "Fitting 5 folds for each of 1 candidates, totalling 5 fits\n"
     ]
    },
    {
     "name": "stderr",
     "output_type": "stream",
     "text": [
      "[Parallel(n_jobs=2)]: Using backend LokyBackend with 2 concurrent workers.\n",
      "[Parallel(n_jobs=2)]: Done   5 out of   5 | elapsed:   34.3s finished\n"
     ]
    },
    {
     "name": "stdout",
     "output_type": "stream",
     "text": [
      "Melhores parametros: {'C': 0.1, 'coef0': 0.01, 'degree': 3, 'epsilon': 0.1, 'gamma': 'auto', 'kernel': 'rbf'}\n",
      "\n",
      "Score Grid: 0.07342286630702807\n",
      "\n",
      "\n",
      "Modelo: SVR()\n",
      "Component: 26\n",
      "\n",
      "(11940, 26)(2985, 26)\n",
      "Fitting 5 folds for each of 1 candidates, totalling 5 fits\n"
     ]
    },
    {
     "name": "stderr",
     "output_type": "stream",
     "text": [
      "[Parallel(n_jobs=2)]: Using backend LokyBackend with 2 concurrent workers.\n",
      "[Parallel(n_jobs=2)]: Done   5 out of   5 | elapsed:   34.0s finished\n"
     ]
    },
    {
     "name": "stdout",
     "output_type": "stream",
     "text": [
      "Melhores parametros: {'C': 0.1, 'coef0': 0.01, 'degree': 3, 'epsilon': 0.1, 'gamma': 'auto', 'kernel': 'rbf'}\n",
      "\n",
      "Score Grid: 0.0734280944597349\n",
      "\n",
      "\n",
      "Modelo: SVR()\n",
      "Component: 27\n",
      "\n",
      "(11940, 27)(2985, 27)\n",
      "Fitting 5 folds for each of 1 candidates, totalling 5 fits\n"
     ]
    },
    {
     "name": "stderr",
     "output_type": "stream",
     "text": [
      "[Parallel(n_jobs=2)]: Using backend LokyBackend with 2 concurrent workers.\n",
      "[Parallel(n_jobs=2)]: Done   5 out of   5 | elapsed:   35.8s finished\n"
     ]
    },
    {
     "name": "stdout",
     "output_type": "stream",
     "text": [
      "Melhores parametros: {'C': 0.1, 'coef0': 0.01, 'degree': 3, 'epsilon': 0.1, 'gamma': 'auto', 'kernel': 'rbf'}\n",
      "\n",
      "Score Grid: 0.0734339078476797\n",
      "\n",
      "\n",
      "Modelo: SVR()\n",
      "Component: 28\n",
      "\n",
      "(11940, 28)(2985, 28)\n",
      "Fitting 5 folds for each of 1 candidates, totalling 5 fits\n"
     ]
    },
    {
     "name": "stderr",
     "output_type": "stream",
     "text": [
      "[Parallel(n_jobs=2)]: Using backend LokyBackend with 2 concurrent workers.\n",
      "[Parallel(n_jobs=2)]: Done   5 out of   5 | elapsed:   35.1s finished\n"
     ]
    },
    {
     "name": "stdout",
     "output_type": "stream",
     "text": [
      "Melhores parametros: {'C': 0.1, 'coef0': 0.01, 'degree': 3, 'epsilon': 0.1, 'gamma': 'auto', 'kernel': 'rbf'}\n",
      "\n",
      "Score Grid: 0.0734392225418337\n",
      "Exportando DataFrame de Scores\n",
      "\n"
     ]
    }
   ],
   "source": [
    "df_scores_price = prever(X, X_test, y_price, y_price_test, \"price\")"
   ]
  },
  {
   "cell_type": "code",
   "execution_count": 16,
   "metadata": {},
   "outputs": [
    {
     "data": {
      "text/plain": [
       "0.073401129960898"
      ]
     },
     "execution_count": 16,
     "metadata": {},
     "output_type": "execute_result"
    }
   ],
   "source": [
    "df_scores_price.Scores.min()"
   ]
  },
  {
   "cell_type": "code",
   "execution_count": 18,
   "metadata": {},
   "outputs": [
    {
     "data": {
      "text/html": [
       "<div>\n",
       "<style scoped>\n",
       "    .dataframe tbody tr th:only-of-type {\n",
       "        vertical-align: middle;\n",
       "    }\n",
       "\n",
       "    .dataframe tbody tr th {\n",
       "        vertical-align: top;\n",
       "    }\n",
       "\n",
       "    .dataframe thead th {\n",
       "        text-align: right;\n",
       "    }\n",
       "</style>\n",
       "<table border=\"1\" class=\"dataframe\">\n",
       "  <thead>\n",
       "    <tr style=\"text-align: right;\">\n",
       "      <th></th>\n",
       "      <th>Model</th>\n",
       "      <th>Params</th>\n",
       "      <th>Scores</th>\n",
       "      <th>PCA</th>\n",
       "    </tr>\n",
       "  </thead>\n",
       "  <tbody>\n",
       "    <tr>\n",
       "      <th>0</th>\n",
       "      <td>SVR()</td>\n",
       "      <td>{'C': 0.1, 'coef0': 0.01, 'degree': 3, 'epsilo...</td>\n",
       "      <td>0.073401</td>\n",
       "      <td>20</td>\n",
       "    </tr>\n",
       "  </tbody>\n",
       "</table>\n",
       "</div>"
      ],
      "text/plain": [
       "   Model                                             Params    Scores  PCA\n",
       "0  SVR()  {'C': 0.1, 'coef0': 0.01, 'degree': 3, 'epsilo...  0.073401   20"
      ]
     },
     "execution_count": 18,
     "metadata": {},
     "output_type": "execute_result"
    }
   ],
   "source": [
    "df_scores_price[df_scores_price.Scores == 0.073401129960898]"
   ]
  },
  {
   "cell_type": "code",
   "execution_count": 38,
   "metadata": {},
   "outputs": [
    {
     "data": {
      "text/plain": [
       "0.071282454469712"
      ]
     },
     "execution_count": 38,
     "metadata": {},
     "output_type": "execute_result"
    }
   ],
   "source": [
    "df_scores_trans.Scores.min()"
   ]
  },
  {
   "cell_type": "code",
   "execution_count": 16,
   "metadata": {},
   "outputs": [
    {
     "data": {
      "text/html": [
       "<div>\n",
       "<style scoped>\n",
       "    .dataframe tbody tr th:only-of-type {\n",
       "        vertical-align: middle;\n",
       "    }\n",
       "\n",
       "    .dataframe tbody tr th {\n",
       "        vertical-align: top;\n",
       "    }\n",
       "\n",
       "    .dataframe thead th {\n",
       "        text-align: right;\n",
       "    }\n",
       "</style>\n",
       "<table border=\"1\" class=\"dataframe\">\n",
       "  <thead>\n",
       "    <tr style=\"text-align: right;\">\n",
       "      <th></th>\n",
       "      <th>Model</th>\n",
       "      <th>Params</th>\n",
       "      <th>Scores</th>\n",
       "      <th>PCA</th>\n",
       "    </tr>\n",
       "  </thead>\n",
       "  <tbody>\n",
       "    <tr>\n",
       "      <th>16</th>\n",
       "      <td>LinearRegression()</td>\n",
       "      <td>{'fit_intercept': 'True', 'normalize': 'True'}</td>\n",
       "      <td>0.08996</td>\n",
       "      <td>28</td>\n",
       "    </tr>\n",
       "  </tbody>\n",
       "</table>\n",
       "</div>"
      ],
      "text/plain": [
       "                 Model                                          Params  \\\n",
       "16  LinearRegression()  {'fit_intercept': 'True', 'normalize': 'True'}   \n",
       "\n",
       "     Scores  PCA  \n",
       "16  0.08996   28  "
      ]
     },
     "execution_count": 16,
     "metadata": {},
     "output_type": "execute_result"
    }
   ],
   "source": [
    "df_scores_trans[df_scores_trans.Scores == 0.089959673362208]"
   ]
  },
  {
   "cell_type": "code",
   "execution_count": 17,
   "metadata": {},
   "outputs": [
    {
     "data": {
      "text/plain": [
       "0.18389734476838498"
      ]
     },
     "execution_count": 17,
     "metadata": {},
     "output_type": "execute_result"
    }
   ],
   "source": [
    "# Resultado sem scaling\n",
    "\n",
    "0.089947941686274 + 0.093949935453886\n",
    "0.089959673362208 + 0.093937671406177"
   ]
  },
  {
   "cell_type": "markdown",
   "metadata": {},
   "source": [
    "## Melhores resultados:\n",
    "\n",
    "Trans = 0.089947941686274 (com scaling) <br><br>\n",
    "``LinearRegression()\t{'fit_intercept': 'True', 'normalize': 'True'}\tPCA = 25``\n",
    "\n",
    "<br><br><br>\n",
    "Price = 0.093937671406177 (sem scaling) <br><br>\n",
    "``LinearRegression()\t{'fit_intercept': 'True', 'normalize': 'True'}  PCA = 26``\n"
   ]
  },
  {
   "cell_type": "code",
   "execution_count": 46,
   "metadata": {},
   "outputs": [
    {
     "data": {
      "text/plain": [
       "0.183885613092451"
      ]
     },
     "execution_count": 46,
     "metadata": {},
     "output_type": "execute_result"
    }
   ],
   "source": [
    "0.089947941686274  + 0.093937671406177"
   ]
  },
  {
   "cell_type": "code",
   "execution_count": 17,
   "metadata": {},
   "outputs": [
    {
     "data": {
      "text/plain": [
       "0.14468358443061"
      ]
     },
     "execution_count": 17,
     "metadata": {},
     "output_type": "execute_result"
    }
   ],
   "source": [
    "0.071282454469712 + 0.073401129960898"
   ]
  },
  {
   "cell_type": "code",
   "execution_count": null,
   "metadata": {},
   "outputs": [],
   "source": [
    "# PRICE: PCA 19 - XGRegressor {'colsample_bytree': 0.7, 'learning_rate': 0.03, 'max_depth': 5, 'min_child_weight': 4, 'n_estimators': 500, 'nthread': 4, 'objective': 'reg:linear', 'silent': 1, 'subsample': 0.7}"
   ]
  },
  {
   "cell_type": "code",
   "execution_count": 33,
   "metadata": {},
   "outputs": [],
   "source": [
    "def geral_resultados_submissao(test_price_pca, test_trans_pca, clf_price, clf_trans):\n",
    "\n",
    "    # pca_price = PCA(n_components = n_price)\n",
    "    # pca_trans = PCA(n_components = n_price)\n",
    "\n",
    "    # test_price_PCA = pca_price.fit_transform(test.drop(\"id\", axis=1))\n",
    "    # test_trans_PCA = pca_trans.fit_transform(test.drop(\"id\", axis=1))\n",
    "    \n",
    "    cent_price_cor = clf_price.predict(test_price_PCA)\n",
    "    cent_trans_cor = clf_trans.predict(test_trans_PCA)\n",
    "\n",
    "\n",
    "    df_sub = pd.DataFrame({\"cent_price_cor\": cent_price_cor, \"cent_trans_cor\": cent_trans_cor})\n",
    "    \n",
    "    df_sub.to_csv(\"./../Submissoes/df_sub_SVR_{}.csv\".format(datetime.now().strftime(\"%d-%m-%Y_%Hh%Mm%Ss\")), index=False)\n",
    "\n",
    "    return df_sub"
   ]
  },
  {
   "cell_type": "code",
   "execution_count": 34,
   "metadata": {},
   "outputs": [
    {
     "name": "stdout",
     "output_type": "stream",
     "text": [
      "[18:14:22] WARNING: C:/Users/Administrator/workspace/xgboost-win64_release_1.4.0/src/objective/regression_obj.cu:171: reg:linear is now deprecated in favor of reg:squarederror.\n",
      "[18:14:22] WARNING: C:/Users/Administrator/workspace/xgboost-win64_release_1.4.0/src/learner.cc:573: \n",
      "Parameters: { \"silent\" } might not be used.\n",
      "\n",
      "  This may not be accurate due to some parameters are only used in language bindings but\n",
      "  passed down to XGBoost core.  Or some parameters are not used but slip through this\n",
      "  verification. Please open an issue if you find above cases.\n",
      "\n",
      "\n",
      "      cent_price_cor  cent_trans_cor\n",
      "0          -0.205326        0.371357\n",
      "1          -0.241557        0.360156\n",
      "2          -0.183218        0.357172\n",
      "3          -0.226850        0.367688\n",
      "4          -0.199653        0.362715\n",
      "...              ...             ...\n",
      "8054       -0.205482        0.362250\n",
      "8055       -0.203140        0.363461\n",
      "8056       -0.186810        0.361155\n",
      "8057       -0.201581        0.364197\n",
      "8058       -0.184401        0.366141\n",
      "\n",
      "[8059 rows x 2 columns]\n",
      "\n",
      "Programa executado com sucesso \n",
      "\n"
     ]
    },
    {
     "name": "stderr",
     "output_type": "stream",
     "text": [
      "C:\\Users\\Rafael\\anaconda3\\lib\\site-packages\\xgboost\\data.py:112: UserWarning: Use subset (sliced data) of np.ndarray is not recommended because it will generate extra copies and increase memory consumption\n",
      "  warnings.warn(\n"
     ]
    }
   ],
   "source": [
    "pca = PCA(n_components = 19)\n",
    "\n",
    "train_PCA = pca.fit_transform(X)\n",
    "\n",
    "clf_price = XGBRegressor(colsample_bytree = 0.7, \n",
    "                         learning_rate = 0.03, \n",
    "                         max_depth = 5, \n",
    "                          min_child_weight= 4, \n",
    "                          n_estimators= 500, \n",
    "                          nthread= 4, \n",
    "                          objective= 'reg:linear', \n",
    "                          silent= 1, \n",
    "                          subsample= 0.7)\n",
    "\n",
    "clf_price.fit(train_PCA, y_price)\n",
    "\n",
    "clf_trans = LinearRegression()\n",
    "\n",
    "clf_trans.fit(train_PCA, y_trans)\n",
    "\n",
    "test_price_PCA = pca.fit_transform(test.drop(\"id\", axis=1))\n",
    "\n",
    "test_trans_PCA = pca.fit_transform(test.drop(\"id\", axis=1))\n",
    "\n",
    "\n",
    "df_sub = geral_resultados_submissao(test_price_PCA, test_trans_PCA, clf_price, clf_trans)\n",
    "\n",
    "print(df_sub)\n",
    "\n",
    "print(\"\\nPrograma executado com sucesso \\n\")"
   ]
  },
  {
   "cell_type": "code",
   "execution_count": 36,
   "metadata": {},
   "outputs": [],
   "source": [
    "sub_06_05 = pd.read_csv(\"./../Submissoes/df_sub_06-05-2021_15h26m49s.csv\") "
   ]
  },
  {
   "cell_type": "code",
   "execution_count": 37,
   "metadata": {},
   "outputs": [
    {
     "data": {
      "text/html": [
       "<div>\n",
       "<style scoped>\n",
       "    .dataframe tbody tr th:only-of-type {\n",
       "        vertical-align: middle;\n",
       "    }\n",
       "\n",
       "    .dataframe tbody tr th {\n",
       "        vertical-align: top;\n",
       "    }\n",
       "\n",
       "    .dataframe thead th {\n",
       "        text-align: right;\n",
       "    }\n",
       "</style>\n",
       "<table border=\"1\" class=\"dataframe\">\n",
       "  <thead>\n",
       "    <tr style=\"text-align: right;\">\n",
       "      <th></th>\n",
       "      <th>cent_price_cor</th>\n",
       "      <th>cent_trans_cor</th>\n",
       "    </tr>\n",
       "  </thead>\n",
       "  <tbody>\n",
       "    <tr>\n",
       "      <th>0</th>\n",
       "      <td>-0.195485</td>\n",
       "      <td>0.363419</td>\n",
       "    </tr>\n",
       "    <tr>\n",
       "      <th>1</th>\n",
       "      <td>-0.195772</td>\n",
       "      <td>0.369798</td>\n",
       "    </tr>\n",
       "    <tr>\n",
       "      <th>2</th>\n",
       "      <td>-0.210286</td>\n",
       "      <td>0.368865</td>\n",
       "    </tr>\n",
       "    <tr>\n",
       "      <th>3</th>\n",
       "      <td>-0.202342</td>\n",
       "      <td>0.361955</td>\n",
       "    </tr>\n",
       "    <tr>\n",
       "      <th>4</th>\n",
       "      <td>-0.208677</td>\n",
       "      <td>0.364952</td>\n",
       "    </tr>\n",
       "  </tbody>\n",
       "</table>\n",
       "</div>"
      ],
      "text/plain": [
       "   cent_price_cor  cent_trans_cor\n",
       "0       -0.195485        0.363419\n",
       "1       -0.195772        0.369798\n",
       "2       -0.210286        0.368865\n",
       "3       -0.202342        0.361955\n",
       "4       -0.208677        0.364952"
      ]
     },
     "execution_count": 37,
     "metadata": {},
     "output_type": "execute_result"
    }
   ],
   "source": [
    "sub_06_05.head()"
   ]
  },
  {
   "cell_type": "code",
   "execution_count": 39,
   "metadata": {},
   "outputs": [],
   "source": [
    "sub_nova = pd.DataFrame()\n",
    "\n",
    "sub_nova[\"cent_price_cor\"] = df_sub[\"cent_price_cor\"]"
   ]
  },
  {
   "cell_type": "code",
   "execution_count": 41,
   "metadata": {},
   "outputs": [],
   "source": [
    "sub_nova[\"cent_trans_cor\"] = sub_06_05[\"cent_trans_cor\"]"
   ]
  },
  {
   "cell_type": "code",
   "execution_count": 42,
   "metadata": {},
   "outputs": [
    {
     "data": {
      "text/html": [
       "<div>\n",
       "<style scoped>\n",
       "    .dataframe tbody tr th:only-of-type {\n",
       "        vertical-align: middle;\n",
       "    }\n",
       "\n",
       "    .dataframe tbody tr th {\n",
       "        vertical-align: top;\n",
       "    }\n",
       "\n",
       "    .dataframe thead th {\n",
       "        text-align: right;\n",
       "    }\n",
       "</style>\n",
       "<table border=\"1\" class=\"dataframe\">\n",
       "  <thead>\n",
       "    <tr style=\"text-align: right;\">\n",
       "      <th></th>\n",
       "      <th>cent_price_cor</th>\n",
       "      <th>cent_trans_cor</th>\n",
       "    </tr>\n",
       "  </thead>\n",
       "  <tbody>\n",
       "    <tr>\n",
       "      <th>0</th>\n",
       "      <td>-0.205326</td>\n",
       "      <td>0.363419</td>\n",
       "    </tr>\n",
       "    <tr>\n",
       "      <th>1</th>\n",
       "      <td>-0.241557</td>\n",
       "      <td>0.369798</td>\n",
       "    </tr>\n",
       "    <tr>\n",
       "      <th>2</th>\n",
       "      <td>-0.183218</td>\n",
       "      <td>0.368865</td>\n",
       "    </tr>\n",
       "    <tr>\n",
       "      <th>3</th>\n",
       "      <td>-0.226850</td>\n",
       "      <td>0.361955</td>\n",
       "    </tr>\n",
       "    <tr>\n",
       "      <th>4</th>\n",
       "      <td>-0.199653</td>\n",
       "      <td>0.364952</td>\n",
       "    </tr>\n",
       "    <tr>\n",
       "      <th>...</th>\n",
       "      <td>...</td>\n",
       "      <td>...</td>\n",
       "    </tr>\n",
       "    <tr>\n",
       "      <th>8054</th>\n",
       "      <td>-0.205482</td>\n",
       "      <td>0.360974</td>\n",
       "    </tr>\n",
       "    <tr>\n",
       "      <th>8055</th>\n",
       "      <td>-0.203140</td>\n",
       "      <td>0.362880</td>\n",
       "    </tr>\n",
       "    <tr>\n",
       "      <th>8056</th>\n",
       "      <td>-0.186810</td>\n",
       "      <td>0.373963</td>\n",
       "    </tr>\n",
       "    <tr>\n",
       "      <th>8057</th>\n",
       "      <td>-0.201581</td>\n",
       "      <td>0.356346</td>\n",
       "    </tr>\n",
       "    <tr>\n",
       "      <th>8058</th>\n",
       "      <td>-0.184401</td>\n",
       "      <td>0.363289</td>\n",
       "    </tr>\n",
       "  </tbody>\n",
       "</table>\n",
       "<p>8059 rows × 2 columns</p>\n",
       "</div>"
      ],
      "text/plain": [
       "      cent_price_cor  cent_trans_cor\n",
       "0          -0.205326        0.363419\n",
       "1          -0.241557        0.369798\n",
       "2          -0.183218        0.368865\n",
       "3          -0.226850        0.361955\n",
       "4          -0.199653        0.364952\n",
       "...              ...             ...\n",
       "8054       -0.205482        0.360974\n",
       "8055       -0.203140        0.362880\n",
       "8056       -0.186810        0.373963\n",
       "8057       -0.201581        0.356346\n",
       "8058       -0.184401        0.363289\n",
       "\n",
       "[8059 rows x 2 columns]"
      ]
     },
     "execution_count": 42,
     "metadata": {},
     "output_type": "execute_result"
    }
   ],
   "source": [
    "sub_nova"
   ]
  },
  {
   "cell_type": "code",
   "execution_count": 48,
   "metadata": {},
   "outputs": [],
   "source": [
    "sub_nova.to_csv(\"sub_nova.csv\", index=False)"
   ]
  },
  {
   "cell_type": "code",
   "execution_count": null,
   "metadata": {},
   "outputs": [],
   "source": []
  },
  {
   "cell_type": "code",
   "execution_count": 23,
   "metadata": {},
   "outputs": [
    {
     "ename": "NameError",
     "evalue": "name 'scaler' is not defined",
     "output_type": "error",
     "traceback": [
      "\u001b[1;31m---------------------------------------------------------------------------\u001b[0m",
      "\u001b[1;31mNameError\u001b[0m                                 Traceback (most recent call last)",
      "\u001b[1;32m<ipython-input-23-54e0b3f508a6>\u001b[0m in \u001b[0;36m<module>\u001b[1;34m\u001b[0m\n\u001b[0;32m      2\u001b[0m \u001b[0mpca_trans\u001b[0m \u001b[1;33m=\u001b[0m \u001b[0mPCA\u001b[0m\u001b[1;33m(\u001b[0m\u001b[0mn_components\u001b[0m \u001b[1;33m=\u001b[0m \u001b[1;36m25\u001b[0m\u001b[1;33m)\u001b[0m\u001b[1;33m\u001b[0m\u001b[1;33m\u001b[0m\u001b[0m\n\u001b[0;32m      3\u001b[0m \u001b[1;33m\u001b[0m\u001b[0m\n\u001b[1;32m----> 4\u001b[1;33m \u001b[0mX_trans\u001b[0m \u001b[1;33m=\u001b[0m \u001b[0mscaler\u001b[0m\u001b[1;33m.\u001b[0m\u001b[0mfit_transform\u001b[0m\u001b[1;33m(\u001b[0m\u001b[0mX\u001b[0m\u001b[1;33m)\u001b[0m\u001b[1;33m\u001b[0m\u001b[1;33m\u001b[0m\u001b[0m\n\u001b[0m\u001b[0;32m      5\u001b[0m \u001b[1;33m\u001b[0m\u001b[0m\n\u001b[0;32m      6\u001b[0m \u001b[0mtrain_price_PCA\u001b[0m \u001b[1;33m=\u001b[0m \u001b[0mpca_price\u001b[0m\u001b[1;33m.\u001b[0m\u001b[0mfit_transform\u001b[0m\u001b[1;33m(\u001b[0m\u001b[0mX\u001b[0m\u001b[1;33m)\u001b[0m\u001b[1;33m\u001b[0m\u001b[1;33m\u001b[0m\u001b[0m\n",
      "\u001b[1;31mNameError\u001b[0m: name 'scaler' is not defined"
     ]
    }
   ],
   "source": [
    "pca_price = PCA(n_components = 26)\n",
    "pca_trans = PCA(n_components = 25)\n",
    "\n",
    "X_trans = scaler.fit_transform(X)\n",
    "\n",
    "train_price_PCA = pca_price.fit_transform(X)\n",
    "train_trans_PCA = pca_trans.fit_transform(X_trans)\n",
    "\n",
    "clf_price = LinearRegression({'fit_intercept': 'True', 'normalize': 'True'})\n",
    "clf_price.fit(train_price_PCA, y_price)\n",
    "\n",
    "clf_trans = LinearRegression({'fit_intercept': 'True', 'normalize': 'True'})\n",
    "clf_trans.fit(train_trans_PCA, y_trans)\n",
    "\n",
    "test_price_PCA = pca_price.fit_transform(test.drop(\"id\", axis=1))\n",
    "\n",
    "test_trans = scaler.fit_transform(test.drop(\"id\", axis=1))\n",
    "test_trans_PCA = pca_trans.fit_transform(test)\n",
    "\n",
    "\n",
    "# PRICE ==> PCA = 26 // Linear Reg\n",
    "\n",
    "# TRANS ==> PCA = 25 // Linear Reg - com scaling\n",
    "\n",
    "df_sub = geral_resultados_submissao(test_price_PCA, test_trans_PCA, clf_price, clf_trans)\n",
    "\n",
    "print(df_sub)\n",
    "\n",
    "print(\"\\nPrograma executado com sucesso \\n\")"
   ]
  },
  {
   "cell_type": "code",
   "execution_count": 36,
   "metadata": {},
   "outputs": [
    {
     "data": {
      "text/plain": [
       "0.093949935453886"
      ]
     },
     "execution_count": 36,
     "metadata": {},
     "output_type": "execute_result"
    }
   ],
   "source": [
    "df_scores_price_scaling.Scores.min()"
   ]
  },
  {
   "cell_type": "code",
   "execution_count": 13,
   "metadata": {},
   "outputs": [
    {
     "data": {
      "text/plain": [
       "0.071282454469712"
      ]
     },
     "execution_count": 13,
     "metadata": {},
     "output_type": "execute_result"
    }
   ],
   "source": [
    "df_scores_trans_scaling.Scores.min()"
   ]
  },
  {
   "cell_type": "code",
   "execution_count": 38,
   "metadata": {},
   "outputs": [
    {
     "data": {
      "text/plain": [
       "0.18389787714015998"
      ]
     },
     "execution_count": 38,
     "metadata": {},
     "output_type": "execute_result"
    }
   ],
   "source": [
    "0.089947941686274 + 0.093949935453886"
   ]
  },
  {
   "cell_type": "code",
   "execution_count": 44,
   "metadata": {},
   "outputs": [
    {
     "data": {
      "text/html": [
       "<div>\n",
       "<style scoped>\n",
       "    .dataframe tbody tr th:only-of-type {\n",
       "        vertical-align: middle;\n",
       "    }\n",
       "\n",
       "    .dataframe tbody tr th {\n",
       "        vertical-align: top;\n",
       "    }\n",
       "\n",
       "    .dataframe thead th {\n",
       "        text-align: right;\n",
       "    }\n",
       "</style>\n",
       "<table border=\"1\" class=\"dataframe\">\n",
       "  <thead>\n",
       "    <tr style=\"text-align: right;\">\n",
       "      <th></th>\n",
       "      <th>Model</th>\n",
       "      <th>Params</th>\n",
       "      <th>Scores</th>\n",
       "      <th>PCA</th>\n",
       "    </tr>\n",
       "  </thead>\n",
       "  <tbody>\n",
       "    <tr>\n",
       "      <th>2</th>\n",
       "      <td>LinearRegression()</td>\n",
       "      <td>{'fit_intercept': 'True', 'normalize': 'True'}</td>\n",
       "      <td>0.09395</td>\n",
       "      <td>21</td>\n",
       "    </tr>\n",
       "  </tbody>\n",
       "</table>\n",
       "</div>"
      ],
      "text/plain": [
       "                Model                                          Params  \\\n",
       "2  LinearRegression()  {'fit_intercept': 'True', 'normalize': 'True'}   \n",
       "\n",
       "    Scores  PCA  \n",
       "2  0.09395   21  "
      ]
     },
     "execution_count": 44,
     "metadata": {},
     "output_type": "execute_result"
    }
   ],
   "source": [
    "df_scores_price_scaling[df_scores_price_scaling.Scores == 0.093949935453886]"
   ]
  },
  {
   "cell_type": "code",
   "execution_count": 15,
   "metadata": {},
   "outputs": [
    {
     "data": {
      "text/html": [
       "<div>\n",
       "<style scoped>\n",
       "    .dataframe tbody tr th:only-of-type {\n",
       "        vertical-align: middle;\n",
       "    }\n",
       "\n",
       "    .dataframe tbody tr th {\n",
       "        vertical-align: top;\n",
       "    }\n",
       "\n",
       "    .dataframe thead th {\n",
       "        text-align: right;\n",
       "    }\n",
       "</style>\n",
       "<table border=\"1\" class=\"dataframe\">\n",
       "  <thead>\n",
       "    <tr style=\"text-align: right;\">\n",
       "      <th></th>\n",
       "      <th>Model</th>\n",
       "      <th>Params</th>\n",
       "      <th>Scores</th>\n",
       "      <th>PCA</th>\n",
       "    </tr>\n",
       "  </thead>\n",
       "  <tbody>\n",
       "    <tr>\n",
       "      <th>0</th>\n",
       "      <td>SVR()</td>\n",
       "      <td>{'C': 0.1, 'coef0': 0.01, 'degree': 3, 'epsilo...</td>\n",
       "      <td>0.071282</td>\n",
       "      <td>20</td>\n",
       "    </tr>\n",
       "  </tbody>\n",
       "</table>\n",
       "</div>"
      ],
      "text/plain": [
       "   Model                                             Params    Scores  PCA\n",
       "0  SVR()  {'C': 0.1, 'coef0': 0.01, 'degree': 3, 'epsilo...  0.071282   20"
      ]
     },
     "execution_count": 15,
     "metadata": {},
     "output_type": "execute_result"
    }
   ],
   "source": [
    "df_scores_trans_scaling[df_scores_trans_scaling.Scores == 0.071282454469712]"
   ]
  },
  {
   "cell_type": "code",
   "execution_count": 60,
   "metadata": {},
   "outputs": [
    {
     "data": {
      "text/html": [
       "<div>\n",
       "<style scoped>\n",
       "    .dataframe tbody tr th:only-of-type {\n",
       "        vertical-align: middle;\n",
       "    }\n",
       "\n",
       "    .dataframe tbody tr th {\n",
       "        vertical-align: top;\n",
       "    }\n",
       "\n",
       "    .dataframe thead th {\n",
       "        text-align: right;\n",
       "    }\n",
       "</style>\n",
       "<table border=\"1\" class=\"dataframe\">\n",
       "  <thead>\n",
       "    <tr style=\"text-align: right;\">\n",
       "      <th></th>\n",
       "      <th>id</th>\n",
       "      <th>n</th>\n",
       "      <th>p</th>\n",
       "      <th>f</th>\n",
       "      <th>x</th>\n",
       "      <th>y</th>\n",
       "      <th>z</th>\n",
       "      <th>a1</th>\n",
       "      <th>a2</th>\n",
       "      <th>a3</th>\n",
       "      <th>...</th>\n",
       "      <th>g1</th>\n",
       "      <th>g2</th>\n",
       "      <th>l1</th>\n",
       "      <th>l2</th>\n",
       "      <th>l3</th>\n",
       "      <th>l4</th>\n",
       "      <th>e1</th>\n",
       "      <th>e2</th>\n",
       "      <th>volume</th>\n",
       "      <th>densidade</th>\n",
       "    </tr>\n",
       "  </thead>\n",
       "  <tbody>\n",
       "    <tr>\n",
       "      <th>0</th>\n",
       "      <td>1</td>\n",
       "      <td>558</td>\n",
       "      <td>0.5</td>\n",
       "      <td>0.2</td>\n",
       "      <td>28</td>\n",
       "      <td>21</td>\n",
       "      <td>2</td>\n",
       "      <td>1.0</td>\n",
       "      <td>0.29</td>\n",
       "      <td>1.3</td>\n",
       "      <td>...</td>\n",
       "      <td>0.198</td>\n",
       "      <td>1.8</td>\n",
       "      <td>0.149</td>\n",
       "      <td>2.0</td>\n",
       "      <td>0.078</td>\n",
       "      <td>1.7</td>\n",
       "      <td>0.5</td>\n",
       "      <td>2.9</td>\n",
       "      <td>1176</td>\n",
       "      <td>2.107527</td>\n",
       "    </tr>\n",
       "    <tr>\n",
       "      <th>1</th>\n",
       "      <td>2</td>\n",
       "      <td>910</td>\n",
       "      <td>0.9</td>\n",
       "      <td>0.3</td>\n",
       "      <td>28</td>\n",
       "      <td>19</td>\n",
       "      <td>9</td>\n",
       "      <td>2.2</td>\n",
       "      <td>0.14</td>\n",
       "      <td>1.6</td>\n",
       "      <td>...</td>\n",
       "      <td>0.172</td>\n",
       "      <td>1.0</td>\n",
       "      <td>0.086</td>\n",
       "      <td>0.8</td>\n",
       "      <td>0.030</td>\n",
       "      <td>0.8</td>\n",
       "      <td>0.2</td>\n",
       "      <td>1.6</td>\n",
       "      <td>4788</td>\n",
       "      <td>5.261538</td>\n",
       "    </tr>\n",
       "    <tr>\n",
       "      <th>2</th>\n",
       "      <td>3</td>\n",
       "      <td>213</td>\n",
       "      <td>0.8</td>\n",
       "      <td>0.5</td>\n",
       "      <td>21</td>\n",
       "      <td>15</td>\n",
       "      <td>8</td>\n",
       "      <td>2.2</td>\n",
       "      <td>0.22</td>\n",
       "      <td>2.6</td>\n",
       "      <td>...</td>\n",
       "      <td>0.083</td>\n",
       "      <td>0.7</td>\n",
       "      <td>0.019</td>\n",
       "      <td>1.4</td>\n",
       "      <td>0.016</td>\n",
       "      <td>1.2</td>\n",
       "      <td>2.6</td>\n",
       "      <td>2.4</td>\n",
       "      <td>2520</td>\n",
       "      <td>11.830986</td>\n",
       "    </tr>\n",
       "    <tr>\n",
       "      <th>3</th>\n",
       "      <td>4</td>\n",
       "      <td>654</td>\n",
       "      <td>0.7</td>\n",
       "      <td>0.5</td>\n",
       "      <td>14</td>\n",
       "      <td>15</td>\n",
       "      <td>2</td>\n",
       "      <td>2.2</td>\n",
       "      <td>0.12</td>\n",
       "      <td>3.8</td>\n",
       "      <td>...</td>\n",
       "      <td>0.185</td>\n",
       "      <td>1.3</td>\n",
       "      <td>0.110</td>\n",
       "      <td>0.8</td>\n",
       "      <td>0.006</td>\n",
       "      <td>1.7</td>\n",
       "      <td>0.2</td>\n",
       "      <td>1.7</td>\n",
       "      <td>420</td>\n",
       "      <td>0.642202</td>\n",
       "    </tr>\n",
       "    <tr>\n",
       "      <th>4</th>\n",
       "      <td>5</td>\n",
       "      <td>672</td>\n",
       "      <td>0.7</td>\n",
       "      <td>0.5</td>\n",
       "      <td>24</td>\n",
       "      <td>10</td>\n",
       "      <td>5</td>\n",
       "      <td>3.7</td>\n",
       "      <td>0.20</td>\n",
       "      <td>3.7</td>\n",
       "      <td>...</td>\n",
       "      <td>0.158</td>\n",
       "      <td>0.9</td>\n",
       "      <td>0.148</td>\n",
       "      <td>1.9</td>\n",
       "      <td>0.038</td>\n",
       "      <td>1.3</td>\n",
       "      <td>1.1</td>\n",
       "      <td>2.8</td>\n",
       "      <td>1200</td>\n",
       "      <td>1.785714</td>\n",
       "    </tr>\n",
       "  </tbody>\n",
       "</table>\n",
       "<p>5 rows × 29 columns</p>\n",
       "</div>"
      ],
      "text/plain": [
       "   id    n    p    f   x   y  z   a1    a2   a3  ...     g1   g2     l1   l2  \\\n",
       "0   1  558  0.5  0.2  28  21  2  1.0  0.29  1.3  ...  0.198  1.8  0.149  2.0   \n",
       "1   2  910  0.9  0.3  28  19  9  2.2  0.14  1.6  ...  0.172  1.0  0.086  0.8   \n",
       "2   3  213  0.8  0.5  21  15  8  2.2  0.22  2.6  ...  0.083  0.7  0.019  1.4   \n",
       "3   4  654  0.7  0.5  14  15  2  2.2  0.12  3.8  ...  0.185  1.3  0.110  0.8   \n",
       "4   5  672  0.7  0.5  24  10  5  3.7  0.20  3.7  ...  0.158  0.9  0.148  1.9   \n",
       "\n",
       "      l3   l4   e1   e2  volume  densidade  \n",
       "0  0.078  1.7  0.5  2.9    1176   2.107527  \n",
       "1  0.030  0.8  0.2  1.6    4788   5.261538  \n",
       "2  0.016  1.2  2.6  2.4    2520  11.830986  \n",
       "3  0.006  1.7  0.2  1.7     420   0.642202  \n",
       "4  0.038  1.3  1.1  2.8    1200   1.785714  \n",
       "\n",
       "[5 rows x 29 columns]"
      ]
     },
     "execution_count": 60,
     "metadata": {},
     "output_type": "execute_result"
    }
   ],
   "source": [
    "test.head()"
   ]
  }
 ],
 "metadata": {
  "kernelspec": {
   "display_name": "Python 3",
   "language": "python",
   "name": "python3"
  },
  "language_info": {
   "codemirror_mode": {
    "name": "ipython",
    "version": 3
   },
   "file_extension": ".py",
   "mimetype": "text/x-python",
   "name": "python",
   "nbconvert_exporter": "python",
   "pygments_lexer": "ipython3",
   "version": "3.8.5"
  }
 },
 "nbformat": 4,
 "nbformat_minor": 4
}
